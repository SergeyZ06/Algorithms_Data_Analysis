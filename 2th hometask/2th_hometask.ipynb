{
 "cells": [
  {
   "cell_type": "markdown",
   "id": "ec82574b",
   "metadata": {},
   "source": [
    "# 2th_hometask"
   ]
  },
  {
   "cell_type": "code",
   "execution_count": 1,
   "id": "d787a84c",
   "metadata": {},
   "outputs": [],
   "source": [
    "import numpy as np\n",
    "\n",
    "from sklearn.datasets import make_regression\n",
    "\n",
    "from matplotlib import pyplot as plt\n",
    "import seaborn as sns"
   ]
  },
  {
   "cell_type": "markdown",
   "id": "e9be7c82",
   "metadata": {},
   "source": [
    "## 1. Постройте график зависимости весов всех признаков от lambda в самописной L2-регуляризации (на данных про ЕГЭ). Сделайте вывод"
   ]
  },
  {
   "cell_type": "code",
   "execution_count": 2,
   "id": "481e4008",
   "metadata": {},
   "outputs": [],
   "source": [
    "def calc_mse(y, y_pred):\n",
    "    err = np.mean((y - y_pred)**2)\n",
    "    return err"
   ]
  },
  {
   "cell_type": "code",
   "execution_count": 3,
   "id": "a2b26201",
   "metadata": {},
   "outputs": [],
   "source": [
    "def standard_scale(X):\n",
    "    mean = X.mean()\n",
    "    std = X.std()\n",
    "    return (X - mean) / std"
   ]
  },
  {
   "cell_type": "code",
   "execution_count": 4,
   "id": "4b6a9c18",
   "metadata": {},
   "outputs": [],
   "source": [
    "def gradient_descent_reg_l2(X, y, iterations, eta=1e-4, reg=1e-8):\n",
    "    W = np.random.randn(X.shape[1])\n",
    "    n = X.shape[0]\n",
    "    \n",
    "    for i in range(0, iterations):\n",
    "        y_pred = np.dot(X, W)\n",
    "        err = calc_mse(y, y_pred)\n",
    "        \n",
    "        dQ = 2/n * X.T @ (y_pred - y) # градиент функции ошибки\n",
    "        dReg = reg * W # градиент регуляризации\n",
    "        \n",
    "        W -= eta * (dQ + dReg)\n",
    "        \n",
    "        if i % (iterations / 10) == 0:\n",
    "            print(f'Iter: {i}, weights: {W}, error {err}')\n",
    "    \n",
    "    print(f'Final MSE: {calc_mse(y, np.dot(X, W))}')\n",
    "    return W"
   ]
  },
  {
   "cell_type": "code",
   "execution_count": 5,
   "id": "56cd4cd7",
   "metadata": {},
   "outputs": [],
   "source": [
    "X = np.array([[   1,    1,  500,    1],\n",
    "              [   1,    1,  700,    1],\n",
    "              [   1,    2,  750,    2],\n",
    "              [   1,    5,  600,    1],\n",
    "              [   1,    3, 1450,    2],\n",
    "              [   1,    0,  800,    1],\n",
    "              [   1,    5, 1500,    3],\n",
    "              [   1,   10, 2000,    3],\n",
    "              [   1,    1,  450,    1],\n",
    "              [   1,    2, 1000,    2]])"
   ]
  },
  {
   "cell_type": "code",
   "execution_count": 6,
   "id": "4f7b2991",
   "metadata": {},
   "outputs": [],
   "source": [
    "y = [45, 55, 50, 55, 60, 35, 75, 80, 50, 60]"
   ]
  },
  {
   "cell_type": "markdown",
   "id": "efafea40",
   "metadata": {},
   "source": [
    "##### Масштабирование данных."
   ]
  },
  {
   "cell_type": "code",
   "execution_count": 7,
   "id": "cb5ab33c",
   "metadata": {},
   "outputs": [
    {
     "data": {
      "text/plain": [
       "array([[ 1.        , -0.70710678, -0.97958969, -0.89625816],\n",
       "       [ 1.        , -0.70710678, -0.56713087, -0.89625816],\n",
       "       [ 1.        , -0.35355339, -0.46401617,  0.38411064],\n",
       "       [ 1.        ,  0.70710678, -0.77336028, -0.89625816],\n",
       "       [ 1.        ,  0.        ,  0.97958969,  0.38411064],\n",
       "       [ 1.        , -1.06066017, -0.36090146, -0.89625816],\n",
       "       [ 1.        ,  0.70710678,  1.08270439,  1.66447944],\n",
       "       [ 1.        ,  2.47487373,  2.11385144,  1.66447944],\n",
       "       [ 1.        , -0.70710678, -1.08270439, -0.89625816],\n",
       "       [ 1.        , -0.35355339,  0.05155735,  0.38411064]])"
      ]
     },
     "execution_count": 7,
     "metadata": {},
     "output_type": "execute_result"
    }
   ],
   "source": [
    "X_st = X.copy().astype(np.float64)\n",
    "X_st[:, 1] = standard_scale(X_st[:, 1])\n",
    "X_st[:, 2] = standard_scale(X_st[:, 2])\n",
    "X_st[:, 3] = standard_scale(X_st[:, 3])\n",
    "\n",
    "X_st"
   ]
  },
  {
   "cell_type": "markdown",
   "id": "8ca3b38d",
   "metadata": {},
   "source": [
    "##### Далее рассмотрим изменения весов при коэффициенте нормализации меняющимся на порядок."
   ]
  },
  {
   "cell_type": "code",
   "execution_count": 8,
   "id": "2f113c19",
   "metadata": {},
   "outputs": [
    {
     "name": "stdout",
     "output_type": "stream",
     "text": [
      "Iter: 0, weights: [-1.43373336  0.23824465 -0.79149443  0.01378219], error 3529.5241109212466\n",
      "Iter: 1000, weights: [9.06881961 1.99482323 0.90946371 1.78636624], error 2329.1533460085966\n",
      "Iter: 2000, weights: [17.66741071  3.06842904  1.88458963  2.8478862 ], error 1554.058249038952\n",
      "Iter: 3000, weights: [24.70720085  3.73467937  2.42938629  3.48725067], error 1044.9123726719856\n",
      "Iter: 4000, weights: [30.47077825  4.1574433   2.71942197  3.87610507], error 707.2834325600359\n",
      "Iter: 5000, weights: [35.18950191  4.43417814  2.85899464  4.11641303], error 482.2399196290802\n",
      "Iter: 6000, weights: [39.05278881  4.62287123  2.91005094  4.26873184], error 331.8220745237704\n",
      "Iter: 7000, weights: [42.21571734  4.7580505   2.90937144  4.36901514], error 231.13003646710226\n",
      "Iter: 8000, weights: [44.80525239  4.86029909  2.87878302  4.43859791], error 163.66572026395946\n",
      "Iter: 9000, weights: [46.92534196  4.94190973  2.83122757  4.49013   ], error 118.43833155855297\n",
      "Final MSE: 88.10466628299868\n",
      "Iter: 0, weights: [ 1.36492913 -0.83694996 -0.43553472 -1.05601866], error 3256.207565281937\n",
      "Iter: 1000, weights: [11.36012477  1.16927311  1.48518459  0.95595255], error 2133.186607782768\n",
      "Iter: 2000, weights: [19.54333506  2.39944379  2.58215039  2.16085965], error 1418.455538443371\n",
      "Iter: 3000, weights: [26.2430469   3.16652423  3.19085373  2.88670117], error 952.7650881679431\n",
      "Iter: 4000, weights: [31.72819724  3.65659921  3.51061629  3.32833988], error 645.308342519482\n",
      "Iter: 5000, weights: [36.21896864  3.98034975  3.65984228  3.60152522], error 440.8457717508037\n",
      "Iter: 6000, weights: [39.89562771  4.20364217  3.70885217  3.77499616], error 304.3378880628079\n",
      "Iter: 7000, weights: [42.90576132  4.36570603  3.69939423  3.88955849], error 212.9995500078313\n",
      "Iter: 8000, weights: [45.37020096  4.48993684  3.65623935  3.96942139], error 151.8056377292159\n",
      "Iter: 9000, weights: [47.38787309  4.59031596  3.59407115  4.02893406], error 110.77221558117608\n",
      "Final MSE: 83.23782216511876\n",
      "Iter: 0, weights: [-1.50543031 -0.67453453 -0.65748681 -0.6814789 ], error 3572.945379482736\n",
      "Iter: 1000, weights: [9.01011992 1.29092424 1.22733139 1.28339987], error 2347.7786922461387\n",
      "Iter: 2000, weights: [17.61935121  2.4964006   2.30549603  2.45817836], error 1563.0154365550509\n",
      "Iter: 3000, weights: [24.66785193  3.24834374  2.90550951  3.1640169 ], error 1049.8338011191101\n",
      "Iter: 4000, weights: [30.43856023  3.72896803  3.22254142  3.59171361], error 710.353429760137\n",
      "Iter: 5000, weights: [35.1631216   4.04665446  3.37252952  3.85460149], error 484.36149511879313\n",
      "Iter: 6000, weights: [39.03118753  4.26590249  3.42432952  4.01998261], error 333.4030133142164\n",
      "Iter: 7000, weights: [42.1980284   4.42512936  3.41882017  4.12780795], error 232.37453251774642\n",
      "Iter: 8000, weights: [44.79076629  4.54724781  3.38025652  4.2017778 ], error 164.68677517065825\n",
      "Iter: 9000, weights: [46.91347786  4.64595228  3.32301658  4.25593811], error 119.30376047450125\n",
      "Final MSE: 88.85758105535405\n",
      "Iter: 0, weights: [1.49081032 1.26529238 0.18686117 1.52898827], error 3130.9323342601897\n",
      "Iter: 1000, weights: [11.4631794   2.57247285  1.39972535  2.81112848], error 2083.48236346944\n",
      "Iter: 2000, weights: [19.62769317  3.38173964  2.08599243  3.57738441], error 1396.94126976396\n",
      "Iter: 3000, weights: [26.31209129  3.89345036  2.46034054  4.03762404], error 942.227123994135\n",
      "Iter: 4000, weights: [31.78469865  4.22676072  2.6503047   4.31651483], error 639.3442517229807\n",
      "Iter: 5000, weights: [36.26519649  4.45256649  2.73163645  4.48809639], error 436.97694663532747\n",
      "Iter: 6000, weights: [39.93344082  4.61307971  2.74931643  4.5963253 ], error 301.54245750469624\n",
      "Iter: 7000, weights: [42.93668219  4.73346235  2.73004106  4.66728385], error 210.8177739730379\n",
      "Iter: 8000, weights: [45.39547661  4.82873988  2.68964287  4.71643497], error 150.00830794169752\n",
      "Iter: 9000, weights: [47.40852493  4.90790998  2.6374999   4.75293338], error 109.23303899594887\n",
      "Final MSE: 81.88130085898663\n",
      "Iter: 0, weights: [-2.08977971 -0.33824264 -1.17841077  0.42467032], error 3618.468632632903\n",
      "Iter: 1000, weights: [8.53167268 1.51421818 0.59606984 2.2473965 ], error 2384.886920490917\n",
      "Iter: 2000, weights: [17.22752148  2.65378401  1.61461808  3.33039935], error 1590.0483565376685\n",
      "Iter: 3000, weights: [24.3468667   3.36767794  2.18507205  3.97461344], error 1068.553215076748\n",
      "Iter: 4000, weights: [30.17551869  3.82669565  2.49031962  4.358808  ], error 722.9546863639273\n",
      "Iter: 5000, weights: [34.94747213  4.13243931  2.63899908  4.58915919], error 492.6738918451198\n",
      "Iter: 6000, weights: [38.85429994  4.34538665  2.69562789  4.72870831], error 338.77878687507484\n",
      "Iter: 7000, weights: [42.05284405  4.50157154  2.69850671  4.81486717], error 235.76444703645143\n",
      "Iter: 8000, weights: [44.6715119   4.6224966   2.67035865  4.86982042], error 166.74370708802485\n",
      "Iter: 9000, weights: [46.81543147  4.72102419  2.62465168  4.90670696], error 120.47078460607133\n",
      "Final MSE: 89.43358031938058\n",
      "Iter: 0, weights: [ 1.85696709  1.50785955 -0.49375725  0.45759433], error 3117.4586087661837\n",
      "Iter: 1000, weights: [11.76231668  2.97274057  0.9468216   1.97965426], error 2065.760796908326\n",
      "Iter: 2000, weights: [19.87115772  3.86057849  1.77243413  2.89853796], error 1382.023232500424\n",
      "Iter: 3000, weights: [26.50931846  4.40474127  2.23339154  3.45900227], error 931.1936250004959\n",
      "Iter: 4000, weights: [31.94353254  4.74393737  2.4784047   3.80646518], error 631.6256969913856\n",
      "Iter: 5000, weights: [36.39215676  4.96062649  2.59581478  4.02731907], error 431.7304766721595\n",
      "Iter: 6000, weights: [40.0339451   5.10384323  2.63809232  4.1728846 ], error 298.03815029835727\n",
      "Iter: 7000, weights: [43.01523136  5.20275906  2.63639446  4.27364403], error 208.5071806729608\n",
      "Iter: 8000, weights: [45.45580916  5.27474085  2.60921478  4.34769852], error 148.50269576348953\n",
      "Iter: 9000, weights: [47.45374545  5.33013936  2.56752299  4.40579336], error 108.26458400476379\n",
      "Final MSE: 81.26832028394881\n",
      "Iter: 0, weights: [ 0.31109761 -2.37525036  0.11389509  1.41988674], error 3339.6343657388597\n",
      "Iter: 1000, weights: [10.49213823 -0.45041419  1.78708187  3.1228472 ], error 2202.495961386404\n",
      "Iter: 2000, weights: [18.8191697   0.77356741  2.72747239  4.11051204], error 1470.932074005054\n",
      "Iter: 3000, weights: [25.62981465  1.57694963  3.23483178  4.67579877], error 991.3244563712218\n",
      "Iter: 4000, weights: [31.20021328  2.1263696   3.48702543  4.9924499 ], error 673.5233015226769\n",
      "Iter: 5000, weights: [35.75621952  2.52099853  3.58955638  5.16346747], error 461.6544960374132\n",
      "Iter: 6000, weights: [39.48255838  2.81994143  3.6049736   5.24986626], error 319.8914903429902\n",
      "Iter: 7000, weights: [42.53031569  3.05850407  3.57033027  5.28774303], error 224.80506788683692\n",
      "Iter: 8000, weights: [45.02306391  3.25785091  3.50754788  5.29840929], error 160.90364355503897\n",
      "Iter: 9000, weights: [47.06187248  3.43073933  3.4295688   5.29440643], error 117.88154947180465\n",
      "Final MSE: 88.85967087473368\n",
      "Iter: 0, weights: [ 0.62123568 -0.2231155  -0.83857644 -0.26531668], error 3313.7657753950502\n",
      "Iter: 1000, weights: [10.69688616  1.63767669  0.96270499  1.60185412], error 2184.1763562163524\n",
      "Iter: 2000, weights: [18.8638696   2.76486216  1.98635672  2.70644907], error 1465.5792109954891\n",
      "Iter: 3000, weights: [25.48375172  3.45848026  2.55388869  3.36283036], error 997.7462214172277\n",
      "Iter: 4000, weights: [30.84960554  3.89518102  2.85439593  3.75589526], error 688.72063906703\n",
      "Iter: 5000, weights: [35.19898619  4.17901131  2.99907162  3.99437596], error 482.56180632483427\n",
      "Iter: 6000, weights: [38.72444789  4.37129499  3.05327917  4.14219771], error 343.9562870499395\n",
      "Iter: 7000, weights: [41.58206857  4.50821312  3.05542134  4.23692784], error 250.1120118213596\n",
      "Iter: 8000, weights: [43.8983598   4.6111476   3.02804156  4.30062978], error 186.12316189740716\n",
      "Iter: 9000, weights: [45.77586757  4.69276718  2.98435514  4.34624864], error 142.1609485473748\n",
      "Final MSE: 111.70720401020799\n",
      "Iter: 0, weights: [-0.39571613  0.36003904  0.10278821  0.44897792], error 3379.8781897074705\n",
      "Iter: 1000, weights: [9.47062907 1.84412402 1.51777566 1.9089283 ], error 2284.076002731081\n",
      "Iter: 2000, weights: [16.7794684   2.67091029  2.25108657  2.69455629], error 1625.693336803111\n",
      "Iter: 3000, weights: [22.19374605  3.14017607  2.62125877  3.11807237], error 1215.6749449906927\n",
      "Iter: 4000, weights: [26.20456105  3.41369381  2.79913979  3.34721505], error 952.6991810781392\n",
      "Iter: 5000, weights: [29.17571216  3.57894871  2.87622135  3.47206994], error 779.7071947958608\n",
      "Iter: 6000, weights: [31.37669597  3.6834109   2.90137423  3.54099212], error 663.3652210747675\n",
      "Iter: 7000, weights: [33.00715149  3.75297323  2.90059364  3.57991678], error 583.6096009653721\n",
      "Iter: 8000, weights: [34.21496829  3.80187388  2.88761067  3.60273886], error 528.0383529488857\n",
      "Iter: 9000, weights: [35.1097007   3.83803909  2.86959314  3.61689128], error 488.7913807594433\n",
      "Final MSE: 460.76738335717675\n",
      "Iter: 0, weights: [-1.12690124 -2.13217131 -0.06414952  0.85995176], error 3514.236433489094\n",
      "Iter: 1000, weights: [6.24329252 0.43280476 1.09114524 1.46827149], error 2630.561484175455\n",
      "Iter: 2000, weights: [8.46155322 1.14643021 1.3046248  1.49462247], error 2397.3038098090315\n"
     ]
    },
    {
     "name": "stdout",
     "output_type": "stream",
     "text": [
      "Iter: 3000, weights: [9.12919924 1.35542585 1.33793071 1.46335965], error 2330.417489916709\n",
      "Iter: 4000, weights: [9.33014551 1.41947412 1.34063986 1.44366406], error 2310.7076170295577\n",
      "Iter: 5000, weights: [9.39062577 1.4398357  1.33966773 1.43488901], error 2304.8413166122673\n",
      "Iter: 6000, weights: [9.40882895 1.44648983 1.33892    1.4314171 ], error 2303.0875732063278\n",
      "Iter: 7000, weights: [9.41430769 1.44870741 1.33857349 1.43011794], error 2302.562021378507\n",
      "Iter: 8000, weights: [9.41595667 1.44945641 1.33843516 1.42964609], error 2302.4042840105776\n",
      "Iter: 9000, weights: [9.41645297 1.44971164 1.33838355 1.42947761], error 2302.356889830166\n",
      "Final MSE: 2302.3426381175514\n",
      "Iter: 0, weights: [-0.90895817  1.33875711  0.26530054  2.36514129], error 3386.0312345006714\n",
      "Iter: 1000, weights: [1.107772   0.2055045  0.19794318 0.2058347 ], error 3215.851266214858\n",
      "Iter: 2000, weights: [1.10784313 0.20547419 0.19795963 0.20576234], error 3215.8451091898673\n",
      "Iter: 3000, weights: [1.10784314 0.20547419 0.19795963 0.20576233], error 3215.845108956112\n",
      "Iter: 4000, weights: [1.10784314 0.20547419 0.19795963 0.20576233], error 3215.8451089561045\n",
      "Iter: 5000, weights: [1.10784314 0.20547419 0.19795963 0.20576233], error 3215.8451089561045\n",
      "Iter: 6000, weights: [1.10784314 0.20547419 0.19795963 0.20576233], error 3215.8451089561045\n",
      "Iter: 7000, weights: [1.10784314 0.20547419 0.19795963 0.20576233], error 3215.8451089561045\n",
      "Iter: 8000, weights: [1.10784314 0.20547419 0.19795963 0.20576233], error 3215.8451089561045\n",
      "Iter: 9000, weights: [1.10784314 0.20547419 0.19795963 0.20576233], error 3215.8451089561045\n",
      "Final MSE: 3215.8451089561045\n"
     ]
    }
   ],
   "source": [
    "lambda_ = [1e-8, 1e-7, 1e-6, 1e-5, 1e-4, 1e-3, 1e-2, 1e-1, 1, 1e+1, 1e+2]\n",
    "\n",
    "dict_w = {}\n",
    "\n",
    "for i in lambda_:\n",
    "    dict_w[i] = gradient_descent_reg_l2(X_st, y, iterations=10000, reg=i)"
   ]
  },
  {
   "cell_type": "code",
   "execution_count": 9,
   "id": "28cf143a",
   "metadata": {
    "scrolled": true
   },
   "outputs": [
    {
     "data": {
      "text/plain": [
       "{1e-08: array([48.65952167,  5.0101817 ,  2.77442809,  4.53106466]),\n",
       " 1e-07: array([49.03827792,  4.67514684,  3.52165624,  4.0765453 ]),\n",
       " 1e-06: array([48.64980214,  4.72937695,  3.2556811 ,  4.29856145]),\n",
       " 1e-05: array([49.05514597,  4.97632002,  2.57921619,  4.78216053]),\n",
       " 0.0001: array([48.56908599,  4.80479916,  2.56941385,  4.93326996]),\n",
       " 0.001: array([49.0878435 ,  5.3750935 ,  2.51787112,  4.45425877]),\n",
       " 0.01: array([48.72789997,  3.58477796,  3.3440962 ,  5.28308952]),\n",
       " 0.1: array([47.29634447,  4.76054586,  2.93214653,  4.38133637]),\n",
       " 1: array([35.77193653,  3.86593767,  2.85022636,  3.62633404]),\n",
       " 10.0: array([9.41660227, 1.44979907, 1.33836498, 1.42941808]),\n",
       " 100.0: array([1.10784314, 0.20547419, 0.19795963, 0.20576233])}"
      ]
     },
     "execution_count": 9,
     "metadata": {},
     "output_type": "execute_result"
    }
   ],
   "source": [
    "dict_w"
   ]
  },
  {
   "cell_type": "markdown",
   "id": "5f826dcf",
   "metadata": {},
   "source": [
    "### Средние значения весов"
   ]
  },
  {
   "cell_type": "code",
   "execution_count": 10,
   "id": "2b2664a2",
   "metadata": {
    "scrolled": true
   },
   "outputs": [
    {
     "data": {
      "image/png": "[encoded data removed]",
      "text/plain": [
       "<Figure size 720x432 with 1 Axes>"
      ]
     },
     "metadata": {
      "needs_background": "light"
     },
     "output_type": "display_data"
    }
   ],
   "source": [
    "plt.figure(figsize=(10, 6))\n",
    "\n",
    "list_x = []\n",
    "list_y = []\n",
    "\n",
    "for i in range(len(dict_w)):\n",
    "    list_x.append(list(dict_w.values())[i].mean())\n",
    "    list_y.append(list(dict_w.keys())[i])\n",
    "\n",
    "sns.barplot(x=list_x, y=list_y, orient='h')\n",
    "\n",
    "plt.show()"
   ]
  },
  {
   "cell_type": "markdown",
   "id": "b15f8282",
   "metadata": {},
   "source": [
    "##### Средние значения весов убывают при увеличении коэффициента регуляризации.\n",
    "\n",
    "### Значения веса первого признака"
   ]
  },
  {
   "cell_type": "code",
   "execution_count": 11,
   "id": "ffff7751",
   "metadata": {
    "scrolled": true
   },
   "outputs": [
    {
     "data": {
      "image/png": "[encoded data removed]",
      "text/plain": [
       "<Figure size 720x432 with 1 Axes>"
      ]
     },
     "metadata": {
      "needs_background": "light"
     },
     "output_type": "display_data"
    }
   ],
   "source": [
    "plt.figure(figsize=(10, 6))\n",
    "\n",
    "list_x = []\n",
    "list_y = []\n",
    "\n",
    "for i in range(len(dict_w)):\n",
    "    list_x.append(list(dict_w.values())[i][0])\n",
    "    list_y.append(list(dict_w.keys())[i])\n",
    "\n",
    "sns.barplot(x=list_x, y=list_y, orient='h')\n",
    "\n",
    "plt.show()"
   ]
  },
  {
   "cell_type": "markdown",
   "id": "fc5fceda",
   "metadata": {},
   "source": [
    "##### Значения самого большого веса первого признака убывают при увеличении кэффициента регуляризации.\n",
    "\n",
    "### Значения веса второго признака"
   ]
  },
  {
   "cell_type": "code",
   "execution_count": 12,
   "id": "55a84566",
   "metadata": {
    "scrolled": true
   },
   "outputs": [
    {
     "data": {
      "image/png": "[encoded data removed]",
      "text/plain": [
       "<Figure size 720x432 with 1 Axes>"
      ]
     },
     "metadata": {
      "needs_background": "light"
     },
     "output_type": "display_data"
    }
   ],
   "source": [
    "plt.figure(figsize=(10, 6))\n",
    "\n",
    "list_x = []\n",
    "list_y = []\n",
    "\n",
    "for i in range(len(dict_w)):\n",
    "    list_x.append(list(dict_w.values())[i][1])\n",
    "    list_y.append(list(dict_w.keys())[i])\n",
    "\n",
    "sns.barplot(x=list_x, y=list_y, orient='h')\n",
    "\n",
    "plt.show()"
   ]
  },
  {
   "cell_type": "markdown",
   "id": "9074e529",
   "metadata": {},
   "source": [
    "##### Значения веса второго признака сперва колеблятся, затем убывают при увеличении кэффициента регуляризации.\n",
    "\n",
    "### Значения веса третьего признака"
   ]
  },
  {
   "cell_type": "code",
   "execution_count": 13,
   "id": "60566d58",
   "metadata": {
    "scrolled": true
   },
   "outputs": [
    {
     "data": {
      "image/png": "[encoded data removed]",
      "text/plain": [
       "<Figure size 720x432 with 1 Axes>"
      ]
     },
     "metadata": {
      "needs_background": "light"
     },
     "output_type": "display_data"
    }
   ],
   "source": [
    "plt.figure(figsize=(10, 6))\n",
    "\n",
    "list_x = []\n",
    "list_y = []\n",
    "\n",
    "for i in range(len(dict_w)):\n",
    "    list_x.append(list(dict_w.values())[i][2])\n",
    "    list_y.append(list(dict_w.keys())[i])\n",
    "\n",
    "sns.barplot(x=list_x, y=list_y, orient='h')\n",
    "\n",
    "plt.show()"
   ]
  },
  {
   "cell_type": "markdown",
   "id": "4a418824",
   "metadata": {},
   "source": [
    "##### Значения веса третьего признака сперва колеблятся, затем убывают при увеличении кэффициента регуляризации.\n",
    "\n",
    "### Значения веса четвёртого признака"
   ]
  },
  {
   "cell_type": "code",
   "execution_count": 14,
   "id": "832c202b",
   "metadata": {
    "scrolled": false
   },
   "outputs": [
    {
     "data": {
      "image/png": "[encoded data removed]",
      "text/plain": [
       "<Figure size 720x432 with 1 Axes>"
      ]
     },
     "metadata": {
      "needs_background": "light"
     },
     "output_type": "display_data"
    }
   ],
   "source": [
    "plt.figure(figsize=(10, 6))\n",
    "\n",
    "list_x = []\n",
    "list_y = []\n",
    "\n",
    "for i in range(len(dict_w)):\n",
    "    list_x.append(list(dict_w.values())[i][3])\n",
    "    list_y.append(list(dict_w.keys())[i])\n",
    "\n",
    "sns.barplot(x=list_x, y=list_y, orient='h')\n",
    "\n",
    "plt.show()"
   ]
  },
  {
   "cell_type": "markdown",
   "id": "d4575a03",
   "metadata": {},
   "source": [
    "##### Значения веса четвёртого признака сперва колеблятся, затем убывают при увеличении кэффициента регуляризации."
   ]
  },
  {
   "cell_type": "markdown",
   "id": "bce87b11",
   "metadata": {},
   "source": [
    "## 2. Напишите функцию наподобие gradient_descent_reg_l2, но для применения L1-регуляризации."
   ]
  },
  {
   "cell_type": "code",
   "execution_count": 15,
   "id": "08972244",
   "metadata": {},
   "outputs": [],
   "source": [
    "def gradient_descent_reg_l1(X, y, iterations, eta=1e-4, reg=1e-8):\n",
    "    W = np.random.randn(X.shape[1])\n",
    "    n = X.shape[0]\n",
    "    \n",
    "    for i in range(0, iterations):\n",
    "        y_pred = np.dot(X, W)\n",
    "        err = calc_mse(y, y_pred)\n",
    "        \n",
    "        dQ = 2/n * X.T @ (y_pred - y) # градиент функции ошибки\n",
    "        dReg = reg * np.sign(W) # градиент регуляризации\n",
    "        \n",
    "        W -= eta * (dQ + dReg)\n",
    "        \n",
    "        if i % (iterations / 10) == 0:\n",
    "            print(f'Iter: {i}, weights: {W}, error {err}')\n",
    "    \n",
    "    print(f'Final MSE: {calc_mse(y, np.dot(X, W))}')\n",
    "    return W"
   ]
  },
  {
   "cell_type": "markdown",
   "id": "1de554a1",
   "metadata": {},
   "source": [
    "##### Различие с функцией gradient_descent_reg_l2 заключаются только в производной весов признаков по норме L1. Вместе весов признаков будет использоваться signum-функция весов признаков."
   ]
  },
  {
   "cell_type": "code",
   "execution_count": 16,
   "id": "24a0c52c",
   "metadata": {},
   "outputs": [
    {
     "name": "stdout",
     "output_type": "stream",
     "text": [
      "Iter: 0, weights: [ 0.83576214  0.39339485 -1.3508379  -0.71744735], error 3444.050891122498\n",
      "Iter: 500, weights: [56.49721645  5.99877328  0.95807965  5.51648056], error 25.205634149377236\n",
      "Iter: 1000, weights: [56.49949991  6.20387551  0.11339292  6.18496747], error 24.943561113002787\n",
      "Iter: 1500, weights: [56.4995      6.26662916 -0.1841987   6.42993245], error 24.909847275697352\n",
      "Iter: 2000, weights: [56.4995      6.28867632 -0.29060039  6.51774883], error 24.9053798356388\n",
      "Iter: 2500, weights: [56.4995      6.29660963 -0.32889803  6.54935911], error 24.904751119103274\n",
      "Iter: 3000, weights: [56.4995      6.29946503 -0.3426829   6.56073703], error 24.904651693945915\n",
      "Iter: 3500, weights: [56.4995      6.30049281 -0.34764465  6.56483243], error 24.904632344491564\n",
      "Iter: 4000, weights: [56.4995      6.30086275 -0.34943059  6.56630653], error 24.904627509464714\n",
      "Iter: 4500, weights: [56.4995      6.3009959  -0.35007342  6.56683712], error 24.90462604505007\n",
      "Final MSE: 24.904625553693034\n"
     ]
    },
    {
     "data": {
      "text/plain": [
       "array([56.4995    ,  6.30104377, -0.35030454,  6.56702788])"
      ]
     },
     "execution_count": 16,
     "metadata": {},
     "output_type": "execute_result"
    }
   ],
   "source": [
    "gradient_descent_reg_l1(X_st, y, iterations=5000, eta=1e-2, reg=1e-3)"
   ]
  },
  {
   "cell_type": "markdown",
   "id": "bcddcebe",
   "metadata": {},
   "source": [
    "##### Результат работы L1-регуляризации - наименьшие веса стремятся к нулю."
   ]
  },
  {
   "cell_type": "markdown",
   "id": "9f69f186",
   "metadata": {},
   "source": [
    "### 3. *Можно ли к одному и тому же признаку применить сразу и нормализацию, и стандартизацию?"
   ]
  },
  {
   "cell_type": "markdown",
   "id": "d4b1c702",
   "metadata": {},
   "source": [
    "##### Можно, но тогда поломаются интерпретации каждого из scaler'ов:\n",
    "##### StandardScaler не даст корректной информации о сдвиге относительно среднего выборки;\n",
    "##### MinMaxScaler не даст корректной информации о \"расстояниях\" между объектами."
   ]
  },
  {
   "cell_type": "markdown",
   "id": "483ff031",
   "metadata": {},
   "source": [
    "## 4. *Сгенерируйте датасет при помощи <code>sklearn.datasets.make_regression</code> и обучите линейную модель при помощи градиентного и стохастического градиентного спуска. Нанесите среднеквадратичную ошибку для обоих методов на один график, сделайте выводы о разнице скорости сходимости каждого из методов."
   ]
  },
  {
   "cell_type": "code",
   "execution_count": 17,
   "id": "0d01d1c3",
   "metadata": {},
   "outputs": [
    {
     "data": {
      "text/plain": [
       "(array([[-2.26169034, -0.06631685],\n",
       "        [ 0.82793629, -1.23225566],\n",
       "        [ 0.89199684, -0.18048996],\n",
       "        ...,\n",
       "        [-0.69132388,  0.31501402],\n",
       "        [ 2.60755891, -0.70850487],\n",
       "        [-0.67360364, -0.33258467]]),\n",
       " array([-67.09998142, -36.25610328,  10.12953444, ...,  -2.79481517,\n",
       "         49.14947545, -44.75846545]),\n",
       " array([30.51944327, 48.38204155]))"
      ]
     },
     "execution_count": 17,
     "metadata": {},
     "output_type": "execute_result"
    }
   ],
   "source": [
    "# Генерация матрицы признаков X (10000 x 2), вектора ответов y (10000 x 1) и истинных весов признаков w_true (2 веса).\n",
    "X, y, w_true = make_regression(n_samples=10000, n_features=2, n_informative=2, n_targets=1, noise=5, coef=True, random_state=1)\n",
    "\n",
    "X, y, w_true"
   ]
  },
  {
   "cell_type": "markdown",
   "id": "67ea87b8",
   "metadata": {},
   "source": [
    "### MSE"
   ]
  },
  {
   "cell_type": "code",
   "execution_count": 18,
   "id": "d64651a6",
   "metadata": {},
   "outputs": [],
   "source": [
    "def MSE(y, y_pred, n):\n",
    "    return sum((y_pred - y)**2) / n"
   ]
  },
  {
   "cell_type": "markdown",
   "id": "c63c2f8d",
   "metadata": {},
   "source": [
    "### GD"
   ]
  },
  {
   "cell_type": "code",
   "execution_count": 19,
   "id": "9d0fb677",
   "metadata": {},
   "outputs": [
    {
     "name": "stdout",
     "output_type": "stream",
     "text": [
      "Number of objects = 10000        \n",
      "Learning rate = 0.003        \n",
      "Initial weights = [0, 0]        \n",
      "epsilon = 1e-06\n",
      "\n",
      "Iteration #0: w_new = [0.1773481  0.29114437], MSE = 3283.98, w_difference = 0.340906724464806\n",
      "Iteration #100: w_new = [13.59875026 22.09443883], MSE = 1014.36, w_difference = 0.1878166197170433\n",
      "Iteration #200: w_new = [21.11568664 34.03179841], MSE = 325.36, w_difference = 0.10349573355290914\n",
      "Iteration #300: w_new = [25.32424763 40.56842969], MSE = 116.11, w_difference = 0.05704252563652124\n",
      "Iteration #400: w_new = [27.67974463 44.14823416], MSE = 52.53, w_difference = 0.031445665784787816\n",
      "Iteration #500: w_new = [28.99767879 46.10899334], MSE = 33.21, w_difference = 0.017338297603652283\n",
      "Iteration #600: w_new = [29.73485754 47.18310359], MSE = 27.33, w_difference = 0.009561666135637952\n",
      "Iteration #700: w_new = [30.14707393 47.7715855 ], MSE = 25.54, w_difference = 0.005273998587986758\n",
      "Iteration #800: w_new = [30.377513   48.09404635], MSE = 25.0, w_difference = 0.002909535115988254\n",
      "Iteration #900: w_new = [30.50629948 48.27076423], MSE = 24.83, w_difference = 0.0016053961274575545\n",
      "Iteration #1000: w_new = [30.57825635 48.36762401], MSE = 24.78, w_difference = 0.0008859591457872378\n",
      "Iteration #1100: w_new = [30.61845084 48.42072053], MSE = 24.77, w_difference = 0.0004890079657291161\n",
      "Iteration #1200: w_new = [30.64089777 48.44983091], MSE = 24.76, w_difference = 0.00026995216713440067\n",
      "Iteration #1300: w_new = [30.65343057 48.46579298], MSE = 24.76, w_difference = 0.0001490473516660551\n",
      "Iteration #1400: w_new = [30.66042645 48.47454664], MSE = 24.76, w_difference = 8.230499784685928e-05\n",
      "Iteration #1500: w_new = [30.66433076 48.47934783], MSE = 24.76, w_difference = 4.545593711461305e-05\n",
      "Iteration #1600: w_new = [30.66650927 48.48198154], MSE = 24.76, w_difference = 2.51081942996299e-05\n",
      "Iteration #1700: w_new = [30.66772457 48.48342646], MSE = 24.76, w_difference = 1.3870714393305501e-05\n",
      "Iteration #1800: w_new = [30.66840242 48.48421929], MSE = 24.76, w_difference = 7.663703990933278e-06\n",
      "Iteration #1900: w_new = [30.66878042 48.48465437], MSE = 24.76, w_difference = 4.2348034024372544e-06\n",
      "Iteration #2000: w_new = [30.66899118 48.48489317], MSE = 24.76, w_difference = 2.340348632883264e-06\n",
      "Iteration #2100: w_new = [30.66910866 48.48502425], MSE = 24.76, w_difference = 1.2935368533776972e-06\n",
      "Iteration #2144: w_new = [30.66914222 48.48506125], MSE = 24.76, w_difference = 9.965376580690346e-07\n",
      "Wall time: 1.45 s\n"
     ]
    }
   ],
   "source": [
    "%%time\n",
    "\n",
    "# Количество векторов для усреднения весов.\n",
    "n = X.shape[0]\n",
    "\n",
    "# Счётчик итераций.\n",
    "i_gd = 0\n",
    "\n",
    "# Скорость обучения.\n",
    "learning_rate = 3e-3\n",
    "\n",
    "# Разница весов.\n",
    "w_difference = np.inf\n",
    "\n",
    "# Порог изменения весов для остановки обучения.\n",
    "epsilon = 1e-6\n",
    "\n",
    "# Счётчик аварийной остановки.\n",
    "emergency_stop = 1e+5\n",
    "\n",
    "# Изначальное предположение о весах.\n",
    "w = [0, 0]\n",
    "\n",
    "# Список ошибок метода Градиентный спуск.\n",
    "dict_mse_gd = {}\n",
    "\n",
    "print(f'Number of objects = {n} \\\n",
    "       \\nLearning rate = {learning_rate} \\\n",
    "       \\nInitial weights = {w} \\\n",
    "       \\nepsilon = {epsilon}\\n')\n",
    "\n",
    "while w_difference > epsilon:\n",
    "    # Прогноз целевой переменной.\n",
    "    y_pred = X@w\n",
    "    \n",
    "#     list_mse_gd.append(MSE(y, y_pred, n))\n",
    "    dict_mse_gd[i_gd] = MSE(y, y_pred, n)\n",
    "    \n",
    "    # Вычисление новых весов признаков при помощи градиентного спуска.\n",
    "    w_new = w - learning_rate * 2 * X.T@(y_pred - y) / n\n",
    "    \n",
    "    # Вычисление расстояния между новыми и предыдущими весами признаков.\n",
    "    w_difference = np.linalg.norm(w - w_new, ord=2)\n",
    "    \n",
    "    if i_gd%100 == 0:\n",
    "        print(f'Iteration #{i_gd}: w_new = {w_new}, MSE = {round(dict_mse_gd[i_gd], 2)}, w_difference = {w_difference}')\n",
    "    \n",
    "    # Переопределение весов признаков.\n",
    "    w = w_new\n",
    "    \n",
    "    # Увеличения счётчика итераций.\n",
    "    i_gd += 1\n",
    "    \n",
    "    if i_gd > emergency_stop:\n",
    "        break\n",
    "        \n",
    "i_gd -= 1\n",
    "print(f'Iteration #{i_gd}: w_new = {w_new}, MSE = {round(dict_mse_gd[i_gd], 2)}, w_difference = {w_difference}')"
   ]
  },
  {
   "cell_type": "markdown",
   "id": "266c8947",
   "metadata": {},
   "source": [
    "### SGD"
   ]
  },
  {
   "cell_type": "code",
   "execution_count": 20,
   "id": "1f2013e5",
   "metadata": {},
   "outputs": [
    {
     "name": "stdout",
     "output_type": "stream",
     "text": [
      "Number of objects = 10000        \n",
      "Learning rate = 0.5        \n",
      "Initial weights = [0, 0]        \n",
      "epsilon = 1e-09\n",
      "\n",
      "Iteration #0: w_new = [-0.00089151  0.00165287], MSE = 3283.98, w_difference = 0.0018779687156975293\n",
      "Iteration #10000: w_new = [19.14604583 30.65945534], MSE = 470.85, w_difference = 0.0035473031233864364\n",
      "Iteration #20000: w_new = [26.36766064 42.10581308], MSE = 83.32, w_difference = 0.0005278353976723119\n",
      "Iteration #30000: w_new = [29.01074069 46.05834951], MSE = 33.31, w_difference = 0.00017249615749730023\n",
      "Iteration #40000: w_new = [30.03710754 47.66626601], MSE = 25.82, w_difference = 0.0017609576004141655\n",
      "Wall time: 26.1 s\n"
     ]
    }
   ],
   "source": [
    "%%time\n",
    "\n",
    "# Количество векторов для усреднения весов.\n",
    "n = X.shape[0]\n",
    "\n",
    "# Счётчик итераций.\n",
    "i_sgd = 0\n",
    "\n",
    "# Скорость обучения.\n",
    "learning_rate = 0.5\n",
    "\n",
    "# Разница весов.\n",
    "w_difference = np.inf\n",
    "\n",
    "# Порог изменения весов для остановки обучения.\n",
    "epsilon = 1e-9\n",
    "\n",
    "# Счётчик аварийной остановки.\n",
    "emergency_stop = 4e+4\n",
    "\n",
    "# Изначальное предположение о весах.\n",
    "w = [0, 0]\n",
    "\n",
    "# Список ошибок метода Градиентный спуск.\n",
    "dict_mse_sgd = {}\n",
    "\n",
    "print(f'Number of objects = {n} \\\n",
    "       \\nLearning rate = {learning_rate} \\\n",
    "       \\nInitial weights = {w} \\\n",
    "       \\nepsilon = {epsilon}\\n')\n",
    "\n",
    "while w_difference > epsilon:\n",
    "    # Прогноз целевой переменной.\n",
    "    y_pred = X@w\n",
    "    \n",
    "#     list_mse_sgd.append(MSE(y, y_pred, n))\n",
    "    dict_mse_sgd[i_sgd] = MSE(y, y_pred, n)\n",
    "    \n",
    "    # Выбор случайного вектора для вычисления градиента.\n",
    "    i_rand = np.random.randint(low=0, high=n, size=1)[0]\n",
    "    \n",
    "    # Вычисление новых весов признаков при помощи градиентного спуска.\n",
    "    w_new = w - learning_rate * 2 * X[i_rand, :].T*(y_pred[i_rand] - y[i_rand]) / n\n",
    "    \n",
    "    # Вычисление расстояния между новыми и предыдущими весами признаков.\n",
    "    w_difference = np.linalg.norm(w - w_new, ord=2)\n",
    "    \n",
    "    if i_sgd%10000 == 0:\n",
    "        print(f'Iteration #{i_sgd}: w_new = {w_new}, MSE = {round(dict_mse_sgd[i_sgd], 2)}, w_difference = {w_difference}')\n",
    "    \n",
    "    # Переопределение весов признаков.\n",
    "    w = w_new\n",
    "    \n",
    "    # Увеличения счётчика итераций.\n",
    "    i_sgd += 1\n",
    "    \n",
    "    if i_sgd > emergency_stop:\n",
    "        break\n",
    "        \n",
    "i_sgd -= 1\n",
    "if i_sgd%10000 != 0:\n",
    "    print(f'Iteration #{i_sgd}: w_new = {w_new}, MSE = {round(dict_mse_sgd[i_sgd], 2)}, w_difference = {w_difference}')"
   ]
  },
  {
   "cell_type": "code",
   "execution_count": 21,
   "id": "590cc6d3",
   "metadata": {},
   "outputs": [
    {
     "data": {
      "image/png": "[encoded data removed]",
      "text/plain": [
       "<Figure size 936x432 with 1 Axes>"
      ]
     },
     "metadata": {
      "needs_background": "light"
     },
     "output_type": "display_data"
    }
   ],
   "source": [
    "plt.figure(figsize=(13, 6))\n",
    "\n",
    "plt.plot(list(dict_mse_gd.keys()), list(dict_mse_gd.values()))\n",
    "plt.plot(list(dict_mse_sgd.keys()), list(dict_mse_sgd.values()))\n",
    "\n",
    "plt.show()"
   ]
  },
  {
   "cell_type": "markdown",
   "id": "4c147465",
   "metadata": {},
   "source": [
    "##### На небольшой выборке (10000 записей) раскрываются недостатки SGD: SGD работает гораздо медленнее GD, 25.6 s против 644 ms у GD, и требует в десятки раз больше итераций для сходимости алгоритма, 40000 итераций против 980 итераций у GD."
   ]
  },
  {
   "cell_type": "code",
   "execution_count": null,
   "id": "6d972add",
   "metadata": {},
   "outputs": [],
   "source": []
  }
 ],
 "metadata": {
  "kernelspec": {
   "display_name": "Python 3 (ipykernel)",
   "language": "python",
   "name": "python3"
  },
  "language_info": {
   "codemirror_mode": {
    "name": "ipython",
    "version": 3
   },
   "file_extension": ".py",
   "mimetype": "text/x-python",
   "name": "python",
   "nbconvert_exporter": "python",
   "pygments_lexer": "ipython3",
   "version": "3.9.4"
  }
 },
 "nbformat": 4,
 "nbformat_minor": 5
}
