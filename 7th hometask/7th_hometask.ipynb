{
 "cells": [
  {
   "cell_type": "markdown",
   "id": "f5b1f368",
   "metadata": {},
   "source": [
    "# 7th_hometask"
   ]
  },
  {
   "cell_type": "code",
   "execution_count": 1,
   "id": "79e75220",
   "metadata": {},
   "outputs": [],
   "source": [
    "import numpy as np\n",
    "from sklearn.model_selection import train_test_split\n",
    "from sklearn.datasets import load_iris\n",
    "import matplotlib.pyplot as plt\n",
    "from matplotlib.colors import ListedColormap\n",
    "\n",
    "from sklearn.datasets import make_blobs, make_moons"
   ]
  },
  {
   "cell_type": "markdown",
   "id": "0660b5aa",
   "metadata": {},
   "source": [
    "## 1. К алгоритму kNN, реализованному на уроке, реализовать добавление весов для соседей по любому из показанных на уроке принципов."
   ]
  },
  {
   "cell_type": "markdown",
   "id": "358e5e58",
   "metadata": {},
   "source": [
    "#### Исходный код методички:"
   ]
  },
  {
   "cell_type": "code",
   "execution_count": 2,
   "id": "9a00995b",
   "metadata": {},
   "outputs": [],
   "source": [
    "X, y = load_iris(return_X_y=True)\n",
    "\n",
    "# Для наглядности возьмем только первые два признака (всего в датасете их 4)\n",
    "X = X[:, :2]"
   ]
  },
  {
   "cell_type": "code",
   "execution_count": 3,
   "id": "c18b342a",
   "metadata": {},
   "outputs": [
    {
     "data": {
      "text/plain": [
       "((120, 2), (30, 2))"
      ]
     },
     "execution_count": 3,
     "metadata": {},
     "output_type": "execute_result"
    }
   ],
   "source": [
    "X_train, X_test, y_train, y_test = train_test_split(X, y,\n",
    "                                                    test_size=0.2,\n",
    "                                                    random_state=1,\n",
    "                                                    stratify=y)\n",
    "X_train.shape, X_test.shape"
   ]
  },
  {
   "cell_type": "code",
   "execution_count": 4,
   "id": "f464ab74",
   "metadata": {},
   "outputs": [
    {
     "data": {
      "image/png": "[encoded data removed]",
      "text/plain": [
       "<Figure size 504x504 with 1 Axes>"
      ]
     },
     "metadata": {
      "needs_background": "light"
     },
     "output_type": "display_data"
    }
   ],
   "source": [
    "cmap = ListedColormap(['red', 'green', 'blue'])\n",
    "plt.figure(figsize=(7, 7))\n",
    "plt.scatter(X[:, 0], X[:, 1], c=y, cmap=cmap);"
   ]
  },
  {
   "cell_type": "code",
   "execution_count": 5,
   "id": "51e7247b",
   "metadata": {},
   "outputs": [],
   "source": [
    "def e_metrics(x1, x2):\n",
    "    \n",
    "    distance = np.sum(np.square(x1 - x2))\n",
    "\n",
    "    return np.sqrt(distance)"
   ]
  },
  {
   "cell_type": "markdown",
   "id": "42ef2584",
   "metadata": {},
   "source": [
    "#### Используем меру весов q^p.\n",
    "#### Преимуществом данной меры является устойчивость при нулевом расстоянии p."
   ]
  },
  {
   "cell_type": "code",
   "execution_count": 6,
   "id": "86d3f1ab",
   "metadata": {},
   "outputs": [],
   "source": [
    "def knn(x_train, y_train, x_test, k, q=0.5):\n",
    "    \n",
    "    answers = []\n",
    "    for x in x_test:\n",
    "        test_distances = []\n",
    "            \n",
    "        for i in range(len(x_train)):\n",
    "            \n",
    "            # расчет расстояния от классифицируемого объекта до\n",
    "            # объекта обучающей выборки\n",
    "            distance = e_metrics(x, x_train[i])\n",
    "            \n",
    "            # Записываем в список значение расстояния и ответа на объекте обучающей выборки\n",
    "            test_distances.append((distance, y_train[i]))\n",
    "        \n",
    "        # создаем словарь со всеми возможными классами\n",
    "        classes = {class_item: 0 for class_item in set(y_train)}\n",
    "        \n",
    "        # Сортируем список и среди первых k элементов подсчитаем частоту появления разных классов\n",
    "        for d in sorted(test_distances)[0:k]:\n",
    "            # =================== ИЗМЕНЕНИЯ ===================\n",
    "            # Вместо количества ближайших классов теперь будут суммироваться веса ближайших классов.\n",
    "#             classes[d[1]] += 1\n",
    "            classes[d[1]] += np.power(q, d[0])\n",
    "\n",
    "        # =================== ИЗМЕНЕНИЯ ===================\n",
    "        # Записываем в список ответов класс с наибольшим суммарным весом.\n",
    "        answers.append(sorted(classes, key=classes.get)[-1])\n",
    "\n",
    "        # =================== ИЗМЕНЕНИЯ ===================\n",
    "        # Вывод весов классов при классификации каждого объекта для проверки.\n",
    "        print(classes)\n",
    "    print()\n",
    "        \n",
    "    return answers"
   ]
  },
  {
   "cell_type": "code",
   "execution_count": 7,
   "id": "072030fa",
   "metadata": {},
   "outputs": [],
   "source": [
    "def accuracy(pred, y):\n",
    "    return (sum(pred == y) / len(y))"
   ]
  },
  {
   "cell_type": "code",
   "execution_count": 8,
   "id": "dadec8a8",
   "metadata": {},
   "outputs": [
    {
     "name": "stdout",
     "output_type": "stream",
     "text": [
      "{0: 0, 1: 0, 2: 4.171004338864155}\n",
      "{0: 4.67931698208707, 1: 0, 2: 0}\n",
      "{0: 0, 1: 3.973539553090305, 2: 0}\n",
      "{0: 4.4680733578122815, 1: 0, 2: 0}\n",
      "{0: 4.73213196614723, 1: 0, 2: 0}\n",
      "{0: 4.705724474117151, 1: 0, 2: 0}\n",
      "{0: 0, 1: 1.692520359651948, 2: 2.6616282873993597}\n",
      "{0: 0, 1: 0, 2: 4.562146142041059}\n",
      "{0: 0, 1: 4.638757465653957, 2: 0}\n",
      "{0: 0, 1: 2.534813132203641, 2: 1.6595888543524364}\n",
      "{0: 4.155276400432912, 1: 0, 2: 0}\n",
      "{0: 0, 1: 4.4052906106498835, 2: 0}\n",
      "{0: 0, 1: 2.7462839905502636, 2: 1.8396584910435356}\n",
      "{0: 0, 1: 2.418936526925194, 2: 1.7514189669936444}\n",
      "{0: 0, 1: 4.499663713800375, 2: 0}\n",
      "{0: 3.490523913991919, 1: 0, 2: 0}\n",
      "{0: 0, 1: 1.712843335847818, 2: 2.645876327384625}\n",
      "{0: 0, 1: 3.7462839905502636, 2: 0.9330329915368071}\n",
      "{0: 0.7514189669936443, 1: 3.063017199087362, 2: 0}\n",
      "{0: 0, 1: 3.746283990550263, 2: 0.9330329915368076}\n",
      "{0: 0, 1: 0, 2: 4.612349973623878}\n",
      "{0: 0, 1: 4.643242045876466, 2: 0}\n",
      "{0: 4.408923494815262, 1: 0, 2: 0}\n",
      "{0: 4.252745510174339, 1: 0, 2: 0}\n",
      "{0: 0, 1: 1.8396584910435356, 2: 2.906625499506728}\n",
      "{0: 2.142835018505726, 1: 1.6352864943426528, 2: 0}\n",
      "{0: 4.155276400432912, 1: 0, 2: 0}\n",
      "{0: 4.643242045876466, 1: 0, 2: 0}\n",
      "{0: 0, 1: 0.9066254995067279, 2: 3.696080158967444}\n",
      "{0: 0, 1: 0.9066254995067281, 2: 3.6071671096658635}\n",
      "\n",
      "Точность алгоритма при k = 5: 0.733\n",
      "Wall time: 21 ms\n"
     ]
    }
   ],
   "source": [
    "%%time\n",
    "\n",
    "k = 5\n",
    "\n",
    "y_pred = knn(X_train, y_train, X_test, k)\n",
    "\n",
    "print(f'Точность алгоритма при k = {k}: {accuracy(y_pred, y_test):.3f}')"
   ]
  },
  {
   "cell_type": "code",
   "execution_count": 9,
   "id": "8c42fcdf",
   "metadata": {},
   "outputs": [
    {
     "data": {
      "text/plain": [
       "array([2, 0, 1, 0, 0, 0, 2, 2, 2, 1, 0, 1, 2, 1, 2, 0, 2, 1, 1, 2, 1, 1,\n",
       "       0, 0, 2, 2, 0, 0, 1, 1])"
      ]
     },
     "execution_count": 9,
     "metadata": {},
     "output_type": "execute_result"
    }
   ],
   "source": [
    "y_test"
   ]
  },
  {
   "cell_type": "code",
   "execution_count": 10,
   "id": "f4c0f508",
   "metadata": {},
   "outputs": [
    {
     "data": {
      "text/plain": [
       "array([ True,  True,  True,  True,  True,  True,  True,  True, False,\n",
       "        True,  True,  True, False,  True, False,  True,  True,  True,\n",
       "        True, False, False,  True,  True,  True,  True, False,  True,\n",
       "        True, False, False])"
      ]
     },
     "execution_count": 10,
     "metadata": {},
     "output_type": "execute_result"
    }
   ],
   "source": [
    "y_test == y_pred"
   ]
  },
  {
   "cell_type": "markdown",
   "id": "1476300b",
   "metadata": {},
   "source": [
    "#### Теперь для классификации алгоритм рассматривает веса ближайших соседей. Веса обратно пропорциональны расстояниям ближайших объектов до классифицируемого объекта. Таким образом, наиближайшие объекты оказывают наибольшее влияние в голосовании."
   ]
  },
  {
   "cell_type": "markdown",
   "id": "8cf5ce57",
   "metadata": {},
   "source": [
    "## 2. *Написать функцию подсчета метрики качества кластеризации как среднее квадратичное внутрикластерное расстояние и построить график ее зависимости от количества кластеров k (взять от 1 до 10) для выборки данных из данного урока (создать датасет, как в методичке)."
   ]
  },
  {
   "cell_type": "markdown",
   "id": "253b33b7",
   "metadata": {},
   "source": [
    "#### Исходный код методички:"
   ]
  },
  {
   "cell_type": "code",
   "execution_count": 11,
   "id": "ea82fa95",
   "metadata": {},
   "outputs": [
    {
     "data": {
      "text/plain": [
       "<matplotlib.collections.PathCollection at 0x2627ffaa850>"
      ]
     },
     "execution_count": 11,
     "metadata": {},
     "output_type": "execute_result"
    },
    {
     "data": {
      "image/png": "[encoded data removed]",
      "text/plain": [
       "<Figure size 504x504 with 1 Axes>"
      ]
     },
     "metadata": {
      "needs_background": "light"
     },
     "output_type": "display_data"
    }
   ],
   "source": [
    "X, y = make_blobs(n_samples=100, random_state=1)\n",
    "\n",
    "plt.figure(figsize=(7, 7))\n",
    "plt.scatter(X[:, 0], X[:, 1])"
   ]
  },
  {
   "cell_type": "code",
   "execution_count": 12,
   "id": "9cf0cfb3",
   "metadata": {},
   "outputs": [],
   "source": [
    "def e_metrics(x1, x2):\n",
    "    \n",
    "    distance = np.sum(np.square(x1 - x2))\n",
    "\n",
    "    return np.sqrt(distance)"
   ]
  },
  {
   "cell_type": "code",
   "execution_count": 13,
   "id": "f51c558f",
   "metadata": {},
   "outputs": [],
   "source": [
    "def kmeans(data, k, max_iterations, min_distance):\n",
    "    # Создадим словарь для кластеризации\n",
    "    clusters = {i: [] for i in range(k)}\n",
    "    \n",
    "    # инициализируем центроиды как первые k элементов датасета\n",
    "    centroids = [data[i] for i in range(k)]\n",
    "    \n",
    "    for _ in range(max_iterations):\n",
    "        # кластеризуем объекты по центроидам\n",
    "        for x in data:\n",
    "            # определим расстояния от объекта до каждого центроида\n",
    "            distances = [e_metrics(x, centroid) for centroid in centroids]\n",
    "            # отнесем объект к кластеру, до центроида которого наименьшее расстояние\n",
    "            cluster = distances.index(min(distances))\n",
    "            clusters[cluster].append(x)\n",
    "        \n",
    "        # сохраним предыдущие центроиды в отдельный список для последующего сравнения сновыми\n",
    "        old_centroids = centroids.copy()\n",
    "        \n",
    "        # пересчитаем центроиды как среднее по кластерам\n",
    "        for cluster in clusters:\n",
    "            centroids[cluster] = np.mean(clusters[cluster], axis=0)\n",
    "            \n",
    "        # сравним величину смещения центроидов с минимальной\n",
    "        optimal = True\n",
    "        for centroid in range(len(centroids)):\n",
    "            if np.linalg.norm(centroids[centroid] - old_centroids[centroid], ord=2) > min_distance:\n",
    "                optimal = False\n",
    "                break\n",
    "        \n",
    "        # если все смещения меньше минимального, останавливаем алгоритм  \n",
    "        if optimal:\n",
    "            break\n",
    "    \n",
    "    return old_centroids, clusters"
   ]
  },
  {
   "cell_type": "code",
   "execution_count": 14,
   "id": "e6e91798",
   "metadata": {},
   "outputs": [],
   "source": [
    "def visualize(centroids, clusters):\n",
    "    colors = ['r', 'g', 'b', 'orange', 'y']\n",
    "    \n",
    "    plt.figure(figsize=(7,7))\n",
    "    \n",
    "    # нанесем на график центроиды\n",
    "    for centroid in centroids:\n",
    "        plt.scatter(centroid[0], centroid[1], marker='x', s=130, c='black')\n",
    "        \n",
    "    # нанесем объекты раскрашенные по классам\n",
    "    for cluster_item in clusters:\n",
    "        for x in clusters[cluster_item]:\n",
    "            plt.scatter(x[0], x[1], color=colors[cluster_item])\n",
    "            \n",
    "    plt.show()"
   ]
  },
  {
   "cell_type": "code",
   "execution_count": 15,
   "id": "9768a620",
   "metadata": {},
   "outputs": [],
   "source": [
    "# определим максимальное количество итераций\n",
    "max_iterations = 1\n",
    "\n",
    "# и минимальное расстояние между центроидами до пересчета и после него, при котором нужно остановить алгоритм\n",
    "min_distance = 1e-4\n",
    "\n",
    "# сразу определим известное нам количество кластеров\n",
    "k = 2"
   ]
  },
  {
   "cell_type": "code",
   "execution_count": 16,
   "id": "11625172",
   "metadata": {},
   "outputs": [
    {
     "data": {
      "image/png": "[encoded data removed]",
      "text/plain": [
       "<Figure size 504x504 with 1 Axes>"
      ]
     },
     "metadata": {
      "needs_background": "light"
     },
     "output_type": "display_data"
    },
    {
     "name": "stdout",
     "output_type": "stream",
     "text": [
      "Wall time: 556 ms\n"
     ]
    }
   ],
   "source": [
    "%%time\n",
    "centroids, clusters = kmeans(X, k, max_iterations, min_distance)\n",
    "\n",
    "visualize(centroids, clusters)"
   ]
  },
  {
   "cell_type": "markdown",
   "id": "bac5aad0",
   "metadata": {},
   "source": [
    "#### Среднее квадратичное внутрикластерное расстояние (первый вариант):"
   ]
  },
  {
   "cell_type": "code",
   "execution_count": 17,
   "id": "422db296",
   "metadata": {},
   "outputs": [],
   "source": [
    "def mean_squared_cluster_cohesion(centroids, clusters):\n",
    "    MSCC = 0\n",
    "    \n",
    "    for cluster in clusters.keys():\n",
    "        MSCC += np.sum(np.power(np.sum(np.power(clusters[cluster] - centroids[cluster], 2), axis=1), 0.5))\n",
    "    \n",
    "    return MSCC / len(clusters)"
   ]
  },
  {
   "cell_type": "markdown",
   "id": "1440e712",
   "metadata": {},
   "source": [
    "#### Для каждого объекта вычисляется разность соответствующих координат с его центроидой. Затем разность возводится в квадрат и суммируются все разности всех координат, чтобы получить расстояние от объекта до центроиды. Затем складываются все расстояния и делятся на количество кластеров."
   ]
  },
  {
   "cell_type": "markdown",
   "id": "37a36e5d",
   "metadata": {},
   "source": [
    "#### Среднее квадратичное внутрикластерное расстояние (второй вариант):"
   ]
  },
  {
   "cell_type": "code",
   "execution_count": 18,
   "id": "f070ab97",
   "metadata": {},
   "outputs": [],
   "source": [
    "def mean_squared_cluster_cohesion_2(centroids, clusters):\n",
    "    # Переменная для среднего квадратичного внутрикластерного расстояния.\n",
    "    MSCC = 0\n",
    "    \n",
    "    # Для каждого кластера:\n",
    "    for cluster in clusters.keys():\n",
    "        # Представить координаты объектов одного кластера в виде матрицы.\n",
    "        # Один вектор - координаты одного объекта.\n",
    "        clusters_matrix = np.array(clusters[cluster])\n",
    "        \n",
    "        # Для каждой координаты:\n",
    "        for n in range(clusters_matrix.shape[1]):\n",
    "            # вычислить разницу с координатой центроиды,\n",
    "            clusters_matrix[:, n] = clusters_matrix[:, n] - centroids[cluster][n]\n",
    "            # возвести разницу в квадрат, чтоб вычислить Евклидову метрику.\n",
    "            clusters_matrix[:, n] = clusters_matrix[:, n] ** 2\n",
    "        \n",
    "        # Суммировать квадраты разностей координат для каждого объекта.\n",
    "        clusters_matrix = clusters_matrix.sum(axis=1)\n",
    "        # Вычислить корень суммы разностей координат, чтобы получить Евклидову метрику для каждого объекта.\n",
    "        clusters_matrix = np.sqrt(clusters_matrix)\n",
    "        \n",
    "        # Записать сумму растояний кластера.\n",
    "        MSCC += np.sum(clusters_matrix)\n",
    "    \n",
    "    # Вернуть нормализованную сумму метрик.\n",
    "    return MSCC / len(clusters)"
   ]
  },
  {
   "cell_type": "code",
   "execution_count": 19,
   "id": "679766ea",
   "metadata": {},
   "outputs": [
    {
     "data": {
      "text/plain": [
       "(139.95820072798224, 139.95820072798224)"
      ]
     },
     "execution_count": 19,
     "metadata": {},
     "output_type": "execute_result"
    }
   ],
   "source": [
    "mean_squared_cluster_cohesion(centroids, clusters), mean_squared_cluster_cohesion_2(centroids, clusters)"
   ]
  },
  {
   "cell_type": "markdown",
   "id": "e49c637b",
   "metadata": {},
   "source": [
    "#### Вычислим среднее расстояние для трёх кластеров."
   ]
  },
  {
   "cell_type": "code",
   "execution_count": 20,
   "id": "862f043f",
   "metadata": {},
   "outputs": [],
   "source": [
    "# определим максимальное количество итераций\n",
    "max_iterations = 1\n",
    "\n",
    "# и минимальное расстояние между центроидами до пересчета и после него, при котором нужно остановить алгоритм\n",
    "min_distance = 1e-4\n",
    "\n",
    "# сразу определим известное нам количество кластеров\n",
    "k = 3"
   ]
  },
  {
   "cell_type": "code",
   "execution_count": 21,
   "id": "1bd19030",
   "metadata": {
    "scrolled": false
   },
   "outputs": [
    {
     "data": {
      "image/png": "[encoded data removed]",
      "text/plain": [
       "<Figure size 504x504 with 1 Axes>"
      ]
     },
     "metadata": {
      "needs_background": "light"
     },
     "output_type": "display_data"
    },
    {
     "name": "stdout",
     "output_type": "stream",
     "text": [
      "Wall time: 567 ms\n"
     ]
    }
   ],
   "source": [
    "%%time\n",
    "centroids, clusters = kmeans(X, k, max_iterations, min_distance)\n",
    "\n",
    "visualize(centroids, clusters)"
   ]
  },
  {
   "cell_type": "code",
   "execution_count": 22,
   "id": "f83c2980",
   "metadata": {},
   "outputs": [
    {
     "data": {
      "text/plain": [
       "(89.11628327543117, 89.11628327543117)"
      ]
     },
     "execution_count": 22,
     "metadata": {},
     "output_type": "execute_result"
    }
   ],
   "source": [
    "mean_squared_cluster_cohesion(centroids, clusters), mean_squared_cluster_cohesion_2(centroids, clusters)"
   ]
  },
  {
   "cell_type": "markdown",
   "id": "b3d415c5",
   "metadata": {},
   "source": [
    "#### Метрика улучшилась, однако визуально можно наблюдать, что разбиение выполнено нерационально. Увеличим количество итераций для сходимости алгоритма."
   ]
  },
  {
   "cell_type": "code",
   "execution_count": 23,
   "id": "f010237b",
   "metadata": {},
   "outputs": [],
   "source": [
    "# определим максимальное количество итераций\n",
    "max_iterations = 10\n",
    "\n",
    "# и минимальное расстояние между центроидами до пересчета и после него, при котором нужно остановить алгоритм\n",
    "min_distance = 1e-4\n",
    "\n",
    "# сразу определим известное нам количество кластеров\n",
    "k = 3"
   ]
  },
  {
   "cell_type": "code",
   "execution_count": 24,
   "id": "b8599ccc",
   "metadata": {
    "scrolled": false
   },
   "outputs": [
    {
     "data": {
      "image/png": "[encoded data removed]",
      "text/plain": [
       "<Figure size 504x504 with 1 Axes>"
      ]
     },
     "metadata": {
      "needs_background": "light"
     },
     "output_type": "display_data"
    },
    {
     "name": "stdout",
     "output_type": "stream",
     "text": [
      "Wall time: 5.56 s\n"
     ]
    }
   ],
   "source": [
    "%%time\n",
    "centroids, clusters = kmeans(X, k, max_iterations, min_distance)\n",
    "\n",
    "visualize(centroids, clusters)"
   ]
  },
  {
   "cell_type": "code",
   "execution_count": 25,
   "id": "d08f5274",
   "metadata": {
    "scrolled": true
   },
   "outputs": [
    {
     "data": {
      "text/plain": [
       "(391.61116909616584, 391.61116909616584)"
      ]
     },
     "execution_count": 25,
     "metadata": {},
     "output_type": "execute_result"
    }
   ],
   "source": [
    "mean_squared_cluster_cohesion(centroids, clusters), mean_squared_cluster_cohesion_2(centroids, clusters)"
   ]
  },
  {
   "cell_type": "code",
   "execution_count": 26,
   "id": "c9edff53",
   "metadata": {},
   "outputs": [
    {
     "data": {
      "text/plain": [
       "[array([-1.4710815 ,  4.33721882]),\n",
       " array([-6.7765915 , -7.90674022]),\n",
       " array([-10.08893489,  -3.83746779])]"
      ]
     },
     "execution_count": 26,
     "metadata": {},
     "output_type": "execute_result"
    }
   ],
   "source": [
    "clusters_10 = clusters\n",
    "centroids_10 = centroids\n",
    "centroids_10"
   ]
  },
  {
   "cell_type": "markdown",
   "id": "151be935",
   "metadata": {},
   "source": [
    "#### Метрика увеличилась, что странно."
   ]
  },
  {
   "cell_type": "code",
   "execution_count": 27,
   "id": "b5078870",
   "metadata": {},
   "outputs": [],
   "source": [
    "# определим максимальное количество итераций\n",
    "max_iterations = 50\n",
    "\n",
    "# и минимальное расстояние между центроидами до пересчета и после него, при котором нужно остановить алгоритм\n",
    "min_distance = 1e-4\n",
    "\n",
    "# сразу определим известное нам количество кластеров\n",
    "k = 3"
   ]
  },
  {
   "cell_type": "code",
   "execution_count": 28,
   "id": "5febe8d0",
   "metadata": {
    "scrolled": false
   },
   "outputs": [
    {
     "data": {
      "image/png": "[encoded data removed]",
      "text/plain": [
       "<Figure size 504x504 with 1 Axes>"
      ]
     },
     "metadata": {
      "needs_background": "light"
     },
     "output_type": "display_data"
    },
    {
     "name": "stdout",
     "output_type": "stream",
     "text": [
      "Wall time: 42.1 s\n"
     ]
    }
   ],
   "source": [
    "%%time\n",
    "centroids, clusters = kmeans(X, k, max_iterations, min_distance)\n",
    "\n",
    "visualize(centroids, clusters)"
   ]
  },
  {
   "cell_type": "code",
   "execution_count": 29,
   "id": "bbc7c7a7",
   "metadata": {
    "scrolled": true
   },
   "outputs": [
    {
     "data": {
      "text/plain": [
       "(1835.8900918122854, 1835.8900918122854)"
      ]
     },
     "execution_count": 29,
     "metadata": {},
     "output_type": "execute_result"
    }
   ],
   "source": [
    "mean_squared_cluster_cohesion(centroids, clusters), mean_squared_cluster_cohesion_2(centroids, clusters)"
   ]
  },
  {
   "cell_type": "code",
   "execution_count": 30,
   "id": "7c0a1d6d",
   "metadata": {},
   "outputs": [
    {
     "data": {
      "text/plain": [
       "[array([-1.4710815 ,  4.33721882]),\n",
       " array([-6.61975194, -8.1208197 ]),\n",
       " array([-10.05619751,  -3.85572379])]"
      ]
     },
     "execution_count": 30,
     "metadata": {},
     "output_type": "execute_result"
    }
   ],
   "source": [
    "clusters_50 = clusters\n",
    "centroids_50 = centroids\n",
    "centroids_50"
   ]
  },
  {
   "cell_type": "markdown",
   "id": "1935ff21",
   "metadata": {},
   "source": [
    "#### При пятидесяти итерациях метрика ухудшилась до неадекватных значений."
   ]
  },
  {
   "cell_type": "code",
   "execution_count": 31,
   "id": "9f6e4d6b",
   "metadata": {},
   "outputs": [
    {
     "data": {
      "text/plain": [
       "[array([-1.4710815 ,  4.33721882]),\n",
       " array([-6.7765915 , -7.90674022]),\n",
       " array([-10.08893489,  -3.83746779])]"
      ]
     },
     "execution_count": 31,
     "metadata": {},
     "output_type": "execute_result"
    }
   ],
   "source": [
    "centroids_10"
   ]
  },
  {
   "cell_type": "markdown",
   "id": "85bdfa27",
   "metadata": {},
   "source": [
    "#### При этом положение центроид практически не изменилось, что явно свидетельствует об ошибке в вычислениях.\n",
    "\n",
    "#### Вычислим внутрикластерные расстояния для от 1 до 10 кластеров."
   ]
  },
  {
   "cell_type": "code",
   "execution_count": 32,
   "id": "9721dfde",
   "metadata": {},
   "outputs": [
    {
     "name": "stdout",
     "output_type": "stream",
     "text": [
      "Wall time: 286 ms\n"
     ]
    }
   ],
   "source": [
    "%%time\n",
    "\n",
    "max_iterations = 10\n",
    "\n",
    "K = np.arange(1, 11, 1)\n",
    "\n",
    "list_MSCC = []\n",
    "\n",
    "for k in K:\n",
    "    centroids, clusters = kmeans(X, k, max_iterations, min_distance)\n",
    "    list_MSCC.append(mean_squared_cluster_cohesion_2(centroids, clusters))"
   ]
  },
  {
   "cell_type": "code",
   "execution_count": 33,
   "id": "899dcdf2",
   "metadata": {},
   "outputs": [
    {
     "data": {
      "text/plain": [
       "[<matplotlib.lines.Line2D at 0x26207be8340>]"
      ]
     },
     "execution_count": 33,
     "metadata": {},
     "output_type": "execute_result"
    },
    {
     "data": {
      "image/png": "[encoded data removed]",
      "text/plain": [
       "<Figure size 720x360 with 1 Axes>"
      ]
     },
     "metadata": {
      "needs_background": "light"
     },
     "output_type": "display_data"
    }
   ],
   "source": [
    "plt.figure(figsize=([10, 5]))\n",
    "\n",
    "plt.plot(K, list_MSCC)"
   ]
  },
  {
   "cell_type": "markdown",
   "id": "6d2dfa1c",
   "metadata": {},
   "source": [
    "#### С увеличением количества кластеров внутрикластерное расстояние сокращается. Только при разбиении на 3 кластера наблюдается аномалия, которая усугубляется при увеличении количества итераций. К сожалению, не получается установить причину данной ошибки."
   ]
  },
  {
   "cell_type": "markdown",
   "id": "5fd793cb",
   "metadata": {},
   "source": [
    "## 3. *Оптимизировать код для KNN (оставить один цикл, либо обойтись без циклов вообще)."
   ]
  },
  {
   "cell_type": "markdown",
   "id": "dfc4db9a",
   "metadata": {},
   "source": [
    "#### Исходный код методички:"
   ]
  },
  {
   "cell_type": "code",
   "execution_count": 34,
   "id": "16c88dc3",
   "metadata": {},
   "outputs": [],
   "source": [
    "X, y = load_iris(return_X_y=True)\n",
    "\n",
    "# Для наглядности возьмем только первые два признака (всего в датасете их 4)\n",
    "X = X[:, :2]"
   ]
  },
  {
   "cell_type": "code",
   "execution_count": 35,
   "id": "32e03105",
   "metadata": {},
   "outputs": [
    {
     "data": {
      "text/plain": [
       "((120, 2), (30, 2))"
      ]
     },
     "execution_count": 35,
     "metadata": {},
     "output_type": "execute_result"
    }
   ],
   "source": [
    "X_train, X_test, y_train, y_test = train_test_split(X, y,\n",
    "                                                    test_size=0.2,\n",
    "                                                    random_state=1,\n",
    "                                                    stratify=y)\n",
    "X_train.shape, X_test.shape"
   ]
  },
  {
   "cell_type": "code",
   "execution_count": 36,
   "id": "319b6cc4",
   "metadata": {},
   "outputs": [],
   "source": [
    "def knn(x_train, y_train, x_test, k):\n",
    "    \n",
    "    answers = []\n",
    "    for x in x_test:\n",
    "        test_distances = []\n",
    "            \n",
    "#         for i in range(len(x_train)):\n",
    "            \n",
    "#             # расчет расстояния от классифицируемого объекта до\n",
    "#             # объекта обучающей выборки\n",
    "#             distance = e_metrics(x, x_train[i])\n",
    "            \n",
    "#             # Записываем в список значение расстояния и ответа на объекте обучающей выборки\n",
    "#             test_distances.append((distance, y_train[i]))\n",
    "        \n",
    "        # =================== ИЗМЕНЕНИЯ ===================\n",
    "        # Для каждого объекта тестовой выборки вычисляется вектор расстояний до каждого объекта обучающей выборки.\n",
    "        matrix_distances = ((x_train[:, 0] - x[0]) ** 2 + (x_train[:, 1] - x[1]) ** 2) ** 0.5\n",
    "        # Из вектора расстояний получается матрица, где в каждой строке записано расстояние и класс объекта.\n",
    "        matrix_distances = np.vstack((matrix_distances, y_train))\n",
    "        # Матрица сортируется по возрастанию расстояний.\n",
    "        matrix_distances = matrix_distances[:, matrix_distances[0, :].argsort()]\n",
    "        # Выбираются классы первых k объектов с наименьшими расстояниями.\n",
    "        matrix_distances = matrix_distances[1, 0:k]\n",
    "                \n",
    "#         # создаем словарь со всеми возможными классами\n",
    "#         classes = {class_item: 0 for class_item in set(y_train)}\n",
    "        \n",
    "#         # Сортируем список и среди первых k элементов подсчитаем частоту появления разных классов\n",
    "#         for d in sorted(test_distances)[0:k]:\n",
    "#             classes[d[1]] += 1\n",
    "        \n",
    "        # =================== ИЗМЕНЕНИЯ ===================\n",
    "        # Из классов первых k объектов составляется словарь 'classes', где указан класс и количество его объектов.\n",
    "        unique, counts = np.unique(matrix_distances, return_counts=True)\n",
    "        classes = dict(zip(unique, counts))\n",
    "        \n",
    "        # Записываем в список ответов наиболее часто встречающийся класс\n",
    "        answers.append(sorted(classes, key=classes.get)[-1])\n",
    "        \n",
    "    return answers"
   ]
  },
  {
   "cell_type": "code",
   "execution_count": 37,
   "id": "0ccbc6a6",
   "metadata": {},
   "outputs": [
    {
     "name": "stdout",
     "output_type": "stream",
     "text": [
      "Точность алгоритма при k = 3: 0.767\n",
      "Wall time: 1.99 ms\n"
     ]
    }
   ],
   "source": [
    "%%time\n",
    "\n",
    "k = 3\n",
    "\n",
    "y_pred = knn(X_train, y_train, X_test, k)\n",
    "\n",
    "print(f'Точность алгоритма при k = {k}: {accuracy(y_pred, y_test):.3f}')"
   ]
  },
  {
   "cell_type": "markdown",
   "id": "1a8d86df",
   "metadata": {},
   "source": [
    "##### Скорость работы алгоритма до изменения:\n",
    "##### Wall time: 25 ms\n",
    "##### Скорость работы алгоритма после изменения:\n",
    "##### Wall time: 2.97 ms"
   ]
  },
  {
   "cell_type": "code",
   "execution_count": null,
   "id": "b267be3c",
   "metadata": {},
   "outputs": [],
   "source": []
  }
 ],
 "metadata": {
  "kernelspec": {
   "display_name": "Python 3 (ipykernel)",
   "language": "python",
   "name": "python3"
  },
  "language_info": {
   "codemirror_mode": {
    "name": "ipython",
    "version": 3
   },
   "file_extension": ".py",
   "mimetype": "text/x-python",
   "name": "python",
   "nbconvert_exporter": "python",
   "pygments_lexer": "ipython3",
   "version": "3.9.4"
  }
 },
 "nbformat": 4,
 "nbformat_minor": 5
}
