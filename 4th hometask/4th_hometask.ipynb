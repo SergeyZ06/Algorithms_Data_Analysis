{
 "cells": [
  {
   "cell_type": "markdown",
   "id": "019d800a",
   "metadata": {},
   "source": [
    "# 4th_hometask"
   ]
  },
  {
   "cell_type": "code",
   "execution_count": 1,
   "id": "ac220d0b",
   "metadata": {},
   "outputs": [],
   "source": [
    "import numpy as np\n",
    "import pandas as pd\n",
    "\n",
    "from matplotlib.colors import ListedColormap\n",
    "from matplotlib import pyplot as plt\n",
    "\n",
    "from sklearn.datasets import make_classification\n",
    "from sklearn.datasets import make_regression\n",
    "\n",
    "from sklearn.model_selection import train_test_split\n",
    "\n",
    "from sklearn.metrics import mean_squared_error"
   ]
  },
  {
   "cell_type": "markdown",
   "id": "e92039da",
   "metadata": {},
   "source": [
    "# 1. В коде из методички реализуйте один или несколько из критериев останова (количество листьев, количество используемых признаков, глубина дерева и т.д.)"
   ]
  },
  {
   "cell_type": "markdown",
   "id": "6fa7acf2",
   "metadata": {},
   "source": [
    "### Исходный код из методички"
   ]
  },
  {
   "cell_type": "code",
   "execution_count": 2,
   "id": "41ebf1e2",
   "metadata": {},
   "outputs": [],
   "source": [
    "# сгенерируем данные\n",
    "classification_data, classification_labels = make_classification(n_features=2, n_informative=2, \n",
    "                                                                 n_classes=2, n_redundant=0,\n",
    "                                                                 n_clusters_per_class=1, random_state=5)\n",
    "# classification_data, classification_labels = make_circles(n_samples=30, random_state=5)"
   ]
  },
  {
   "cell_type": "code",
   "execution_count": 3,
   "id": "2d534817",
   "metadata": {},
   "outputs": [
    {
     "data": {
      "image/png": "[encoded data removed]",
      "text/plain": [
       "<Figure size 576x576 with 1 Axes>"
      ]
     },
     "metadata": {
      "needs_background": "light"
     },
     "output_type": "display_data"
    }
   ],
   "source": [
    "# визуализируем сгенерированные данные\n",
    "\n",
    "colors = ListedColormap(['red', 'blue'])\n",
    "light_colors = ListedColormap(['lightcoral', 'lightblue'])\n",
    "\n",
    "plt.figure(figsize=(8,8))\n",
    "plt.scatter(list(map(lambda x: x[0], classification_data)), list(map(lambda x: x[1], classification_data)), \n",
    "              c=classification_labels, cmap=colors);"
   ]
  },
  {
   "cell_type": "code",
   "execution_count": 4,
   "id": "c957f77f",
   "metadata": {},
   "outputs": [],
   "source": [
    "# Реализуем класс узла\n",
    "\n",
    "class Node:\n",
    "    \n",
    "    def __init__(self, index, t, true_branch, false_branch):\n",
    "        self.index = index  # индекс признака, по которому ведется сравнение с порогом в этом узле\n",
    "        self.t = t  # значение порога\n",
    "        self.true_branch = true_branch  # поддерево, удовлетворяющее условию в узле\n",
    "        self.false_branch = false_branch  # поддерево, не удовлетворяющее условию в узле"
   ]
  },
  {
   "cell_type": "code",
   "execution_count": 5,
   "id": "8890ccb0",
   "metadata": {},
   "outputs": [],
   "source": [
    "# И класс терминального узла (листа)\n",
    "\n",
    "class Leaf:\n",
    "    \n",
    "    def __init__(self, data, labels):\n",
    "        self.data = data\n",
    "        self.labels = labels\n",
    "        self.prediction = self.predict()\n",
    "        \n",
    "    def predict(self):\n",
    "        # подсчет количества объектов разных классов\n",
    "        classes = {}  # сформируем словарь \"класс: количество объектов\"\n",
    "        for label in self.labels:\n",
    "            if label not in classes:\n",
    "                classes[label] = 0\n",
    "            classes[label] += 1\n",
    "            \n",
    "        # найдем класс, количество объектов которого будет максимальным в этом листе и вернем его    \n",
    "        prediction = max(classes, key=classes.get)\n",
    "        return prediction"
   ]
  },
  {
   "cell_type": "code",
   "execution_count": 6,
   "id": "70b69534",
   "metadata": {},
   "outputs": [],
   "source": [
    "# Расчет критерия Джини\n",
    "\n",
    "def gini(labels):\n",
    "    #  подсчет количества объектов разных классов\n",
    "    classes = {}\n",
    "    for label in labels:\n",
    "        if label not in classes:\n",
    "            classes[label] = 0\n",
    "        classes[label] += 1\n",
    "    \n",
    "    #  расчет критерия\n",
    "    impurity = 1\n",
    "    for label in classes:\n",
    "        p = classes[label] / len(labels)\n",
    "        impurity -= p ** 2\n",
    "        \n",
    "    return impurity"
   ]
  },
  {
   "cell_type": "code",
   "execution_count": 7,
   "id": "2b2a1f38",
   "metadata": {},
   "outputs": [],
   "source": [
    "# Расчет прироста\n",
    "\n",
    "def gain(left_labels, right_labels, root_gini):\n",
    "\n",
    "    # доля выборки, ушедшая в левое поддерево\n",
    "    p = float(left_labels.shape[0]) / (left_labels.shape[0] + right_labels.shape[0])\n",
    "    \n",
    "    return root_gini - p * gini(left_labels) - (1 - p) * gini(right_labels)"
   ]
  },
  {
   "cell_type": "code",
   "execution_count": 8,
   "id": "1436fa90",
   "metadata": {},
   "outputs": [],
   "source": [
    "# Разбиение датасета в узле\n",
    "\n",
    "def split(data, labels, column_index, t):\n",
    "    \n",
    "    left = np.where(data[:, column_index] <= t)\n",
    "    right = np.where(data[:, column_index] > t)\n",
    "        \n",
    "    true_data = data[left]\n",
    "    false_data = data[right]\n",
    "    \n",
    "    true_labels = labels[left]\n",
    "    false_labels = labels[right]\n",
    "        \n",
    "    return true_data, false_data, true_labels, false_labels"
   ]
  },
  {
   "cell_type": "code",
   "execution_count": 9,
   "id": "ab3f218b",
   "metadata": {},
   "outputs": [],
   "source": [
    "# Нахождение наилучшего разбиения\n",
    "\n",
    "def find_best_split(data, labels):\n",
    "    \n",
    "    #  обозначим минимальное количество объектов в узле\n",
    "#     min_samples_leaf = 5\n",
    "\n",
    "    root_gini = gini(labels)\n",
    "\n",
    "    best_gain = 0\n",
    "    best_t = None\n",
    "    best_index = None\n",
    "    \n",
    "    n_features = data.shape[1]\n",
    "    \n",
    "    for index in range(n_features):\n",
    "        # будем проверять только уникальные значения признака, исключая повторения\n",
    "        t_values = np.unique(data[:, index])\n",
    "        \n",
    "        for t in t_values:\n",
    "            true_data, false_data, true_labels, false_labels = split(data, labels, index, t)\n",
    "            #  пропускаем разбиения, в которых в узле остается менее 5 объектов\n",
    "#             if len(true_data) < min_samples_leaf or len(false_data) < min_samples_leaf:\n",
    "#                 continue\n",
    "            \n",
    "            current_gain = gain(true_labels, false_labels, root_gini)\n",
    "            \n",
    "            #  выбираем порог, на котором получается максимальный прирост качества\n",
    "            if current_gain > best_gain:\n",
    "                best_gain, best_t, best_index = current_gain, t, index\n",
    "\n",
    "    return best_gain, best_t, best_index"
   ]
  },
  {
   "cell_type": "code",
   "execution_count": 10,
   "id": "b18bdb2f",
   "metadata": {},
   "outputs": [],
   "source": [
    "# Построение дерева с помощью рекурсивной функции\n",
    "\n",
    "def build_tree(data, labels):\n",
    "\n",
    "    gain, t, index = find_best_split(data, labels)\n",
    "\n",
    "    #  Базовый случай - прекращаем рекурсию, когда нет прироста в качества\n",
    "    if gain == 0:\n",
    "        return Leaf(data, labels)\n",
    "\n",
    "    true_data, false_data, true_labels, false_labels = split(data, labels, index, t)\n",
    "\n",
    "    # Рекурсивно строим два поддерева\n",
    "    true_branch = build_tree(true_data, true_labels)\n",
    "\n",
    "#     print(time.time(), true_branch)\n",
    "    false_branch = build_tree(false_data, false_labels)\n",
    "    \n",
    "#     print(time.time(), false_branch)\n",
    "    \n",
    "    # Возвращаем класс узла со всеми поддеревьями, то есть целого дерева\n",
    "    return Node(index, t, true_branch, false_branch)"
   ]
  },
  {
   "cell_type": "code",
   "execution_count": 11,
   "id": "ff95cf42",
   "metadata": {},
   "outputs": [],
   "source": [
    "def classify_object(obj, node):\n",
    "\n",
    "    #  Останавливаем рекурсию, если достигли листа\n",
    "    if isinstance(node, Leaf):\n",
    "        answer = node.prediction\n",
    "        return answer\n",
    "\n",
    "    if obj[node.index] <= node.t:\n",
    "        return classify_object(obj, node.true_branch)\n",
    "    else:\n",
    "        return classify_object(obj, node.false_branch)"
   ]
  },
  {
   "cell_type": "code",
   "execution_count": 12,
   "id": "c4c08f81",
   "metadata": {},
   "outputs": [],
   "source": [
    "def predict(data, tree):\n",
    "    \n",
    "    classes = []\n",
    "    for obj in data:\n",
    "        prediction = classify_object(obj, tree)\n",
    "        classes.append(prediction)\n",
    "    return classes"
   ]
  },
  {
   "cell_type": "code",
   "execution_count": 13,
   "id": "125ffc3c",
   "metadata": {},
   "outputs": [],
   "source": [
    "# Разобьем выборку на обучающую и тестовую\n",
    "train_data, test_data, train_labels, test_labels = train_test_split(classification_data, \n",
    "                                                                    classification_labels, \n",
    "                                                                    test_size=0.3,\n",
    "                                                                    random_state=1)"
   ]
  },
  {
   "cell_type": "code",
   "execution_count": 14,
   "id": "1f7f1772",
   "metadata": {},
   "outputs": [],
   "source": [
    "# Построим дерево по обучающей выборке\n",
    "my_tree = build_tree(train_data, train_labels)"
   ]
  },
  {
   "cell_type": "code",
   "execution_count": 15,
   "id": "21d6df00",
   "metadata": {},
   "outputs": [],
   "source": [
    "# Получим ответы для обучающей выборки \n",
    "train_answers = predict(train_data, my_tree)"
   ]
  },
  {
   "cell_type": "code",
   "execution_count": 16,
   "id": "56bce07c",
   "metadata": {},
   "outputs": [],
   "source": [
    "# И получим ответы для тестовой выборки\n",
    "answers = predict(test_data, my_tree)"
   ]
  },
  {
   "cell_type": "code",
   "execution_count": 17,
   "id": "086eaf76",
   "metadata": {},
   "outputs": [],
   "source": [
    "# Введем функцию подсчета точности как доли правильных ответов\n",
    "def accuracy_metric(actual, predicted):\n",
    "    correct = 0\n",
    "    for i in range(len(actual)):\n",
    "        if actual[i] == predicted[i]:\n",
    "            correct += 1\n",
    "    return correct / float(len(actual)) * 100.0"
   ]
  },
  {
   "cell_type": "code",
   "execution_count": 18,
   "id": "9f7880fd",
   "metadata": {},
   "outputs": [
    {
     "data": {
      "text/plain": [
       "100.0"
      ]
     },
     "execution_count": 18,
     "metadata": {},
     "output_type": "execute_result"
    }
   ],
   "source": [
    "# Точность на обучающей выборке\n",
    "train_accuracy = accuracy_metric(train_labels, train_answers)\n",
    "train_accuracy"
   ]
  },
  {
   "cell_type": "code",
   "execution_count": 19,
   "id": "a13bfe64",
   "metadata": {},
   "outputs": [
    {
     "data": {
      "text/plain": [
       "96.66666666666667"
      ]
     },
     "execution_count": 19,
     "metadata": {},
     "output_type": "execute_result"
    }
   ],
   "source": [
    "# Точность на тестовой выборке\n",
    "test_accuracy = accuracy_metric(test_labels, answers)\n",
    "test_accuracy"
   ]
  },
  {
   "cell_type": "code",
   "execution_count": 20,
   "id": "e78d5039",
   "metadata": {},
   "outputs": [],
   "source": [
    "# Визуализируем дерево на графике\n",
    "\n",
    "def get_meshgrid(data, step=.05, border=1.2):\n",
    "    x_min, x_max = data[:, 0].min() - border, data[:, 0].max() + border\n",
    "    y_min, y_max = data[:, 1].min() - border, data[:, 1].max() + border\n",
    "    return np.meshgrid(np.arange(x_min, x_max, step), np.arange(y_min, y_max, step))\n",
    "\n",
    "\n",
    "def visualize(train_data, test_data):\n",
    "    plt.figure(figsize = (16, 7))\n",
    "\n",
    "    # график обучающей выборки\n",
    "    plt.subplot(1,2,1)\n",
    "    xx, yy = get_meshgrid(train_data)\n",
    "    mesh_predictions = np.array(predict(np.c_[xx.ravel(), yy.ravel()], my_tree)).reshape(xx.shape)\n",
    "    plt.pcolormesh(xx, yy, mesh_predictions, cmap = light_colors)\n",
    "    plt.scatter(train_data[:, 0], train_data[:, 1], c = train_labels, cmap = colors)\n",
    "    plt.title(f'Train accuracy={train_accuracy:.2f}')\n",
    "\n",
    "    # график тестовой выборки\n",
    "    plt.subplot(1,2,2)\n",
    "    plt.pcolormesh(xx, yy, mesh_predictions, cmap = light_colors)\n",
    "    plt.scatter(test_data[:, 0], test_data[:, 1], c = test_labels, cmap = colors)\n",
    "    plt.title(f'Test accuracy={test_accuracy:.2f}')"
   ]
  },
  {
   "cell_type": "code",
   "execution_count": 21,
   "id": "d24a14e9",
   "metadata": {},
   "outputs": [
    {
     "data": {
      "image/png": "[encoded data removed]",
      "text/plain": [
       "<Figure size 1152x504 with 2 Axes>"
      ]
     },
     "metadata": {
      "needs_background": "light"
     },
     "output_type": "display_data"
    }
   ],
   "source": [
    "visualize(train_data, test_data)"
   ]
  },
  {
   "cell_type": "code",
   "execution_count": 22,
   "id": "04b0d2b0",
   "metadata": {},
   "outputs": [
    {
     "name": "stdout",
     "output_type": "stream",
     "text": [
      "Индекс 0 <= 0.16261402870113306\n",
      "--> True:\n",
      "  Индекс 1 <= -1.5208896621663803\n",
      "  --> True:\n",
      "    Индекс 0 <= -0.9478301462477035\n",
      "    --> True:\n",
      "      Прогноз: 0\n",
      "    --> False:\n",
      "      Индекс 0 <= -0.4942656820712277\n",
      "      --> True:\n",
      "        Индекс 0 <= -0.8411814419026544\n",
      "        --> True:\n",
      "          Прогноз: 1\n",
      "        --> False:\n",
      "          Прогноз: 0\n",
      "      --> False:\n",
      "        Прогноз: 1\n",
      "  --> False:\n",
      "    Прогноз: 0\n",
      "--> False:\n",
      "  Прогноз: 1\n"
     ]
    }
   ],
   "source": [
    "# Напечатаем ход нашего дерева\n",
    "def print_tree(node, spacing=\"\"):\n",
    "\n",
    "    # Если лист, то выводим его прогноз\n",
    "    if isinstance(node, Leaf):\n",
    "        print(spacing + \"Прогноз:\", node.prediction)\n",
    "        return\n",
    "\n",
    "    # Выведем значение индекса и порога на этом узле\n",
    "    print(spacing + 'Индекс', str(node.index), '<=', str(node.t))\n",
    "\n",
    "    # Рекурсионный вызов функции на положительном поддереве\n",
    "    print (spacing + '--> True:')\n",
    "    print_tree(node.true_branch, spacing + \"  \")\n",
    "\n",
    "    # Рекурсионный вызов функции на отрицательном поддереве\n",
    "    print (spacing + '--> False:')\n",
    "    print_tree(node.false_branch, spacing + \"  \")\n",
    "    \n",
    "print_tree(my_tree)"
   ]
  },
  {
   "cell_type": "markdown",
   "id": "312c1769",
   "metadata": {},
   "source": [
    "### Критерий останова - количество листьев\n",
    "Максимальное количество листьев опционально указывается при создании дерева с параметром \"n_leafs\". Каждому последующему ветвлению выделяется половина квоты листьев от вышестроящего ветвления. Данное разделение сделано с целью построения сбалансированных деревьев, чтоб каждая ветвь могла реализовать свой потенциал прироста информации в равной степени."
   ]
  },
  {
   "cell_type": "code",
   "execution_count": 23,
   "id": "7ff38827",
   "metadata": {},
   "outputs": [],
   "source": [
    "# Построение дерева с помощью рекурсивной функции\n",
    "\n",
    "def build_tree(data, labels, n_leafs=-1): # ==================== Изменения ====================\n",
    "\n",
    "    gain, t, index = find_best_split(data, labels)\n",
    "    \n",
    "    #  Базовый случай - прекращаем рекурсию, когда нет прироста в качества\n",
    "    if (gain == 0) or (n_leafs == 1): # ==================== Изменения ====================\n",
    "        return Leaf(data, labels)\n",
    "\n",
    "    true_data, false_data, true_labels, false_labels = split(data, labels, index, t)\n",
    "\n",
    "    # Рекурсивно строим два поддерева\n",
    "    true_branch = build_tree(true_data, true_labels, n_leafs // 2) # ==================== Изменения ====================\n",
    "\n",
    "#     print(time.time(), true_branch)\n",
    "    false_branch = build_tree(false_data, false_labels, n_leafs // 2) # ==================== Изменения ====================\n",
    "    \n",
    "#     print(time.time(), false_branch)\n",
    "    \n",
    "    # Возвращаем класс узла со всеми поддеревьями, то есть целого дерева\n",
    "    return Node(index, t, true_branch, false_branch)"
   ]
  },
  {
   "cell_type": "code",
   "execution_count": 24,
   "id": "a56ad500",
   "metadata": {},
   "outputs": [],
   "source": [
    "# Построим дерево по обучающей выборке\n",
    "my_tree = build_tree(train_data, train_labels, n_leafs=4)"
   ]
  },
  {
   "cell_type": "code",
   "execution_count": 25,
   "id": "aeec64b2",
   "metadata": {},
   "outputs": [],
   "source": [
    "# Получим ответы для обучающей выборки \n",
    "train_answers = predict(train_data, my_tree)"
   ]
  },
  {
   "cell_type": "code",
   "execution_count": 26,
   "id": "9bed0aa4",
   "metadata": {},
   "outputs": [],
   "source": [
    "# И получим ответы для тестовой выборки\n",
    "answers = predict(test_data, my_tree)"
   ]
  },
  {
   "cell_type": "code",
   "execution_count": 27,
   "id": "93113675",
   "metadata": {},
   "outputs": [
    {
     "data": {
      "text/plain": [
       "92.85714285714286"
      ]
     },
     "execution_count": 27,
     "metadata": {},
     "output_type": "execute_result"
    }
   ],
   "source": [
    "# Точность на обучающей выборке\n",
    "train_accuracy = accuracy_metric(train_labels, train_answers)\n",
    "train_accuracy"
   ]
  },
  {
   "cell_type": "code",
   "execution_count": 28,
   "id": "e3bef3d6",
   "metadata": {},
   "outputs": [
    {
     "data": {
      "text/plain": [
       "96.66666666666667"
      ]
     },
     "execution_count": 28,
     "metadata": {},
     "output_type": "execute_result"
    }
   ],
   "source": [
    "# Точность на тестовой выборке\n",
    "test_accuracy = accuracy_metric(test_labels, answers)\n",
    "test_accuracy"
   ]
  },
  {
   "cell_type": "code",
   "execution_count": 29,
   "id": "7401fd7c",
   "metadata": {},
   "outputs": [
    {
     "data": {
      "image/png": "[encoded data removed]",
      "text/plain": [
       "<Figure size 1152x504 with 2 Axes>"
      ]
     },
     "metadata": {
      "needs_background": "light"
     },
     "output_type": "display_data"
    }
   ],
   "source": [
    "visualize(train_data, test_data)"
   ]
  },
  {
   "cell_type": "code",
   "execution_count": 30,
   "id": "0a311472",
   "metadata": {
    "scrolled": true
   },
   "outputs": [
    {
     "name": "stdout",
     "output_type": "stream",
     "text": [
      "Индекс 0 <= 0.16261402870113306\n",
      "--> True:\n",
      "  Индекс 1 <= -1.5208896621663803\n",
      "  --> True:\n",
      "    Прогноз: 0\n",
      "  --> False:\n",
      "    Прогноз: 0\n",
      "--> False:\n",
      "  Прогноз: 1\n"
     ]
    }
   ],
   "source": [
    "print_tree(my_tree)"
   ]
  },
  {
   "cell_type": "markdown",
   "id": "b7d08bd2",
   "metadata": {},
   "source": [
    "### Критерий останова - количество используемых признаков\n",
    "\n",
    "Максимальное количество используемых признаков опционально указывается при создании дерева с параметром \"n_features\". Параметр определяет сколько раз признаки могут использоваться для разбиения. Признаки могут повторяться, также количество использований признаков может быть больше количества признаков.\n",
    "\n",
    "При создании нового узла дерева, который не является листом, параметр \"n_features\" уменьшается на единицу. Далее параметр \"n_features\" указывается для каждого последующего узла. При этом каждый последующий узел возращает параметр \"n_features\" в предыдущий узел. Таким образом, каждый узел дерева знает, сколько значений \"n_features\" потратили его дочерние узлы, и может остановить дальнейшую генерацию передав n_features=0 при построении дочерней ветви."
   ]
  },
  {
   "cell_type": "code",
   "execution_count": 31,
   "id": "151ff8a2",
   "metadata": {},
   "outputs": [],
   "source": [
    "# Реализуем класс узла\n",
    "\n",
    "class Node:\n",
    "    \n",
    "    def __init__(self, index, t, true_branch, false_branch, n_features): # ==================== Изменения ====================\n",
    "        self.index = index  # индекс признака, по которому ведется сравнение с порогом в этом узле\n",
    "        self.t = t  # значение порога\n",
    "        self.true_branch = true_branch  # поддерево, удовлетворяющее условию в узле\n",
    "        self.false_branch = false_branch  # поддерево, не удовлетворяющее условию в узле\n",
    "        \n",
    "        self.n_features = n_features # ==================== Изменения ====================\n",
    "#         self.n_features = n_features - isinstance(true_branch, Node) - isinstance(false_branch, Node)"
   ]
  },
  {
   "cell_type": "code",
   "execution_count": 32,
   "id": "802e15f5",
   "metadata": {},
   "outputs": [],
   "source": [
    "# Построение дерева с помощью рекурсивной функции\n",
    "\n",
    "def build_tree(data, labels, n_features=-1): # ==================== Изменения ====================\n",
    "\n",
    "    gain, t, index = find_best_split(data, labels)\n",
    "\n",
    "    #  Базовый случай - прекращаем рекурсию, когда нет прироста в качества\n",
    "    if (gain == 0) or (n_features == 0): # ==================== Изменения ====================\n",
    "        return Leaf(data, labels)\n",
    "\n",
    "    true_data, false_data, true_labels, false_labels = split(data, labels, index, t)\n",
    "    \n",
    "    if n_features > 0: # ==================== Изменения ====================\n",
    "        n_features -= 1 # ==================== Изменения ====================\n",
    "\n",
    "    # Рекурсивно строим два поддерева\n",
    "    true_branch = build_tree(true_data, true_labels, n_features) # ==================== Изменения ====================\n",
    "\n",
    "#     if (n_features > 0) and isinstance(true_branch, Node): # ==================== Изменения ====================\n",
    "    if n_features > 0: # ==================== Изменения ====================\n",
    "        n_features = true_branch.n_features # ==================== Изменения ====================\n",
    "        if n_features < 0: # ==================== Изменения ====================\n",
    "            n_features = 0 # ==================== Изменения ====================\n",
    "    \n",
    "#     print(time.time(), true_branch)\n",
    "    false_branch = build_tree(false_data, false_labels, n_features) # ==================== Изменения ====================\n",
    "    \n",
    "#     print(time.time(), false_branch)\n",
    "    \n",
    "    if (n_features > 0) and isinstance(false_branch, Node): # ==================== Изменения ====================\n",
    "        n_features = false_branch.n_features # ==================== Изменения ====================\n",
    "        if n_features < 0: # ==================== Изменения ====================\n",
    "            n_features = 0 # ==================== Изменения ====================\n",
    "    \n",
    "    # Возвращаем класс узла со всеми поддеревьями, то есть целого дерева\n",
    "    return Node(index, t, true_branch, false_branch, n_features)"
   ]
  },
  {
   "cell_type": "code",
   "execution_count": 33,
   "id": "db1ab854",
   "metadata": {},
   "outputs": [],
   "source": [
    "# Построим дерево по обучающей выборке\n",
    "my_tree = build_tree(train_data, train_labels, n_features=2)"
   ]
  },
  {
   "cell_type": "code",
   "execution_count": 34,
   "id": "9cf5e223",
   "metadata": {},
   "outputs": [],
   "source": [
    "# Получим ответы для обучающей выборки \n",
    "train_answers = predict(train_data, my_tree)"
   ]
  },
  {
   "cell_type": "code",
   "execution_count": 35,
   "id": "a010b070",
   "metadata": {},
   "outputs": [],
   "source": [
    "# И получим ответы для тестовой выборки\n",
    "answers = predict(test_data, my_tree)"
   ]
  },
  {
   "cell_type": "code",
   "execution_count": 36,
   "id": "1ad4784c",
   "metadata": {},
   "outputs": [
    {
     "data": {
      "text/plain": [
       "92.85714285714286"
      ]
     },
     "execution_count": 36,
     "metadata": {},
     "output_type": "execute_result"
    }
   ],
   "source": [
    "# Точность на обучающей выборке\n",
    "train_accuracy = accuracy_metric(train_labels, train_answers)\n",
    "train_accuracy"
   ]
  },
  {
   "cell_type": "code",
   "execution_count": 37,
   "id": "62f1cb5b",
   "metadata": {},
   "outputs": [
    {
     "data": {
      "text/plain": [
       "96.66666666666667"
      ]
     },
     "execution_count": 37,
     "metadata": {},
     "output_type": "execute_result"
    }
   ],
   "source": [
    "# Точность на тестовой выборке\n",
    "test_accuracy = accuracy_metric(test_labels, answers)\n",
    "test_accuracy"
   ]
  },
  {
   "cell_type": "code",
   "execution_count": 38,
   "id": "67dfb4e3",
   "metadata": {},
   "outputs": [
    {
     "data": {
      "image/png": "[encoded data removed]",
      "text/plain": [
       "<Figure size 1152x504 with 2 Axes>"
      ]
     },
     "metadata": {
      "needs_background": "light"
     },
     "output_type": "display_data"
    }
   ],
   "source": [
    "visualize(train_data, test_data)"
   ]
  },
  {
   "cell_type": "code",
   "execution_count": 39,
   "id": "2b72cfc3",
   "metadata": {
    "scrolled": false
   },
   "outputs": [
    {
     "name": "stdout",
     "output_type": "stream",
     "text": [
      "Индекс 0 <= 0.16261402870113306\n",
      "--> True:\n",
      "  Индекс 1 <= -1.5208896621663803\n",
      "  --> True:\n",
      "    Прогноз: 0\n",
      "  --> False:\n",
      "    Прогноз: 0\n",
      "--> False:\n",
      "  Прогноз: 1\n"
     ]
    }
   ],
   "source": [
    "print_tree(my_tree)"
   ]
  },
  {
   "cell_type": "markdown",
   "id": "6e330b1f",
   "metadata": {},
   "source": [
    "### Критерий останова - глубина дерева\n",
    "\n",
    "Максимальная глубина дерева опционально указывается при создании дерева с параметром \"depth\". При этом глубина уменьшается на единицу для каждого нового дочернего узла."
   ]
  },
  {
   "cell_type": "code",
   "execution_count": 40,
   "id": "888100b0",
   "metadata": {},
   "outputs": [],
   "source": [
    "# Реализуем класс узла\n",
    "\n",
    "class Node:\n",
    "    \n",
    "    def __init__(self, index, t, true_branch, false_branch):\n",
    "        self.index = index  # индекс признака, по которому ведется сравнение с порогом в этом узле\n",
    "        self.t = t  # значение порога\n",
    "        self.true_branch = true_branch  # поддерево, удовлетворяющее условию в узле\n",
    "        self.false_branch = false_branch  # поддерево, не удовлетворяющее условию в узле"
   ]
  },
  {
   "cell_type": "code",
   "execution_count": 41,
   "id": "2f0a071e",
   "metadata": {},
   "outputs": [],
   "source": [
    "# Построение дерева с помощью рекурсивной функции\n",
    "\n",
    "def build_tree(data, labels, depth=-1):\n",
    "\n",
    "    gain, t, index = find_best_split(data, labels)\n",
    "\n",
    "    #  Базовый случай - прекращаем рекурсию, когда нет прироста в качества\n",
    "    if (gain == 0) or (depth == 0): # ==================== Изменения ====================\n",
    "        return Leaf(data, labels)\n",
    "\n",
    "    if depth > 0: # ==================== Изменения ====================\n",
    "        depth -= 1 # ==================== Изменения ====================\n",
    "    \n",
    "    true_data, false_data, true_labels, false_labels = split(data, labels, index, t)\n",
    "\n",
    "    # Рекурсивно строим два поддерева\n",
    "    true_branch = build_tree(true_data, true_labels, depth) # ==================== Изменения ====================\n",
    "\n",
    "#     print(time.time(), true_branch)\n",
    "    false_branch = build_tree(false_data, false_labels, depth) # ==================== Изменения ====================\n",
    "    \n",
    "#     print(time.time(), false_branch)\n",
    "    \n",
    "    # Возвращаем класс узла со всеми поддеревьями, то есть целого дерева\n",
    "    return Node(index, t, true_branch, false_branch)"
   ]
  },
  {
   "cell_type": "code",
   "execution_count": 42,
   "id": "07416da0",
   "metadata": {},
   "outputs": [],
   "source": [
    "# Построим дерево по обучающей выборке\n",
    "my_tree = build_tree(train_data, train_labels, depth=1)"
   ]
  },
  {
   "cell_type": "code",
   "execution_count": 43,
   "id": "1ce83c3a",
   "metadata": {},
   "outputs": [],
   "source": [
    "# Получим ответы для обучающей выборки \n",
    "train_answers = predict(train_data, my_tree)"
   ]
  },
  {
   "cell_type": "code",
   "execution_count": 44,
   "id": "74907410",
   "metadata": {},
   "outputs": [],
   "source": [
    "# И получим ответы для тестовой выборки\n",
    "answers = predict(test_data, my_tree)"
   ]
  },
  {
   "cell_type": "code",
   "execution_count": 45,
   "id": "5ff35cf8",
   "metadata": {},
   "outputs": [
    {
     "data": {
      "text/plain": [
       "92.85714285714286"
      ]
     },
     "execution_count": 45,
     "metadata": {},
     "output_type": "execute_result"
    }
   ],
   "source": [
    "# Точность на обучающей выборке\n",
    "train_accuracy = accuracy_metric(train_labels, train_answers)\n",
    "train_accuracy"
   ]
  },
  {
   "cell_type": "code",
   "execution_count": 46,
   "id": "c9e536dd",
   "metadata": {},
   "outputs": [
    {
     "data": {
      "text/plain": [
       "96.66666666666667"
      ]
     },
     "execution_count": 46,
     "metadata": {},
     "output_type": "execute_result"
    }
   ],
   "source": [
    "# Точность на тестовой выборке\n",
    "test_accuracy = accuracy_metric(test_labels, answers)\n",
    "test_accuracy"
   ]
  },
  {
   "cell_type": "code",
   "execution_count": 47,
   "id": "088860f4",
   "metadata": {},
   "outputs": [
    {
     "data": {
      "image/png": "[encoded data removed]",
      "text/plain": [
       "<Figure size 1152x504 with 2 Axes>"
      ]
     },
     "metadata": {
      "needs_background": "light"
     },
     "output_type": "display_data"
    }
   ],
   "source": [
    "visualize(train_data, test_data)"
   ]
  },
  {
   "cell_type": "code",
   "execution_count": 48,
   "id": "4b749d20",
   "metadata": {
    "scrolled": false
   },
   "outputs": [
    {
     "name": "stdout",
     "output_type": "stream",
     "text": [
      "Индекс 0 <= 0.16261402870113306\n",
      "--> True:\n",
      "  Прогноз: 0\n",
      "--> False:\n",
      "  Прогноз: 1\n"
     ]
    }
   ],
   "source": [
    "print_tree(my_tree)"
   ]
  },
  {
   "cell_type": "markdown",
   "id": "5bd4daa3",
   "metadata": {},
   "source": [
    "# 2. *Реализуйте дерево для задачи регрессии. Возьмите за основу дерево, реализованное в методичке, заменив механизм предсказания в листе на взятие среднего значения по выборке, и критерий Джини на дисперсию значений."
   ]
  },
  {
   "cell_type": "code",
   "execution_count": 49,
   "id": "0141b7c4",
   "metadata": {
    "scrolled": false
   },
   "outputs": [
    {
     "data": {
      "text/plain": [
       "((100, 2), (100,))"
      ]
     },
     "execution_count": 49,
     "metadata": {},
     "output_type": "execute_result"
    }
   ],
   "source": [
    "# сгенерируем данные\n",
    "X, y = make_regression(n_features=2, n_informative=2, n_targets=1, random_state=5) \n",
    "X.shape, y.shape"
   ]
  },
  {
   "cell_type": "code",
   "execution_count": 50,
   "id": "e43bd0ce",
   "metadata": {},
   "outputs": [],
   "source": [
    "# Реализуем класс узла\n",
    "\n",
    "class Node:\n",
    "    \n",
    "    def __init__(self, index, t, true_branch, false_branch):\n",
    "        self.index = index  # индекс признака, по которому ведется сравнение с порогом в этом узле\n",
    "        self.t = t  # значение порога\n",
    "        self.true_branch = true_branch  # поддерево, удовлетворяющее условию в узле\n",
    "        self.false_branch = false_branch  # поддерево, не удовлетворяющее условию в узле"
   ]
  },
  {
   "cell_type": "code",
   "execution_count": 51,
   "id": "4fc3855c",
   "metadata": {},
   "outputs": [],
   "source": [
    "# И класс терминального узла (листа)\n",
    "\n",
    "class Leaf:\n",
    "    \n",
    "    def __init__(self, data, labels):\n",
    "        self.data = data\n",
    "        self.labels = labels\n",
    "        self.prediction = self.predict()\n",
    "        \n",
    "    def predict(self):\n",
    "        return np.mean(self.labels) # ==================== Изменения ===================="
   ]
  },
  {
   "cell_type": "code",
   "execution_count": 52,
   "id": "70497b15",
   "metadata": {},
   "outputs": [],
   "source": [
    "# Расчет критерия Джини\n",
    "\n",
    "def gini(labels):        \n",
    "    return np.sum((labels - np.mean(labels))**2) # ==================== Изменения ===================="
   ]
  },
  {
   "cell_type": "code",
   "execution_count": 53,
   "id": "71df2083",
   "metadata": {},
   "outputs": [],
   "source": [
    "# Расчет прироста\n",
    "\n",
    "def gain(left_labels, right_labels, root_gini):\n",
    "\n",
    "    # доля выборки, ушедшая в левое поддерево\n",
    "    p = float(left_labels.shape[0]) / (left_labels.shape[0] + right_labels.shape[0])\n",
    "    \n",
    "    return root_gini - p * gini(left_labels) - (1 - p) * gini(right_labels)"
   ]
  },
  {
   "cell_type": "code",
   "execution_count": 54,
   "id": "60be30b2",
   "metadata": {},
   "outputs": [],
   "source": [
    "# Разбиение датасета в узле\n",
    "\n",
    "def split(data, labels, column_index, t):\n",
    "    \n",
    "    left = np.where(data[:, column_index] <= t)\n",
    "    right = np.where(data[:, column_index] > t)\n",
    "        \n",
    "    true_data = data[left]\n",
    "    false_data = data[right]\n",
    "    \n",
    "    true_labels = labels[left]\n",
    "    false_labels = labels[right]\n",
    "        \n",
    "    return true_data, false_data, true_labels, false_labels"
   ]
  },
  {
   "cell_type": "code",
   "execution_count": 55,
   "id": "f2614042",
   "metadata": {},
   "outputs": [],
   "source": [
    "# Нахождение наилучшего разбиения\n",
    "\n",
    "def find_best_split(data, labels):\n",
    "    \n",
    "    #  обозначим минимальное количество объектов в узле\n",
    "    min_samples_leaf = 1 # ==================== Изменения ====================\n",
    "\n",
    "    root_gini = gini(labels)\n",
    "\n",
    "    best_gain = 0\n",
    "    best_t = None\n",
    "    best_index = None\n",
    "    \n",
    "    n_features = data.shape[1]\n",
    "    \n",
    "    for index in range(n_features):\n",
    "        # будем проверять только уникальные значения признака, исключая повторения\n",
    "        t_values = np.unique(data[:, index])\n",
    "        \n",
    "        for t in t_values:\n",
    "            true_data, false_data, true_labels, false_labels = split(data, labels, index, t)\n",
    "            #  пропускаем разбиения, в которых в узле остается менее 5 объектов\n",
    "            if len(true_data) < min_samples_leaf or len(false_data) < min_samples_leaf:\n",
    "                continue\n",
    "            \n",
    "            current_gain = gain(true_labels, false_labels, root_gini)\n",
    "            \n",
    "            #  выбираем порог, на котором получается максимальный прирост качества\n",
    "            if current_gain > best_gain:\n",
    "                best_gain, best_t, best_index = current_gain, t, index\n",
    "\n",
    "    return best_gain, best_t, best_index"
   ]
  },
  {
   "cell_type": "code",
   "execution_count": 56,
   "id": "171cd2cf",
   "metadata": {},
   "outputs": [],
   "source": [
    "# Построение дерева с помощью рекурсивной функции\n",
    "\n",
    "def build_tree(data, labels):\n",
    "\n",
    "    gain, t, index = find_best_split(data, labels)\n",
    "\n",
    "    #  Базовый случай - прекращаем рекурсию, когда нет прироста в качества\n",
    "    if gain == 0:\n",
    "        return Leaf(data, labels)\n",
    "\n",
    "    true_data, false_data, true_labels, false_labels = split(data, labels, index, t)\n",
    "\n",
    "    # Рекурсивно строим два поддерева\n",
    "    true_branch = build_tree(true_data, true_labels)\n",
    "\n",
    "#     print(time.time(), true_branch)\n",
    "    false_branch = build_tree(false_data, false_labels)\n",
    "    \n",
    "#     print(time.time(), false_branch)\n",
    "    \n",
    "    # Возвращаем класс узла со всеми поддеревьями, то есть целого дерева\n",
    "    return Node(index, t, true_branch, false_branch)"
   ]
  },
  {
   "cell_type": "code",
   "execution_count": 57,
   "id": "0e72cee5",
   "metadata": {},
   "outputs": [],
   "source": [
    "def classify_object(obj, node):\n",
    "\n",
    "    #  Останавливаем рекурсию, если достигли листа\n",
    "    if isinstance(node, Leaf):\n",
    "        answer = node.prediction\n",
    "        return answer\n",
    "\n",
    "    if obj[node.index] <= node.t:\n",
    "        return classify_object(obj, node.true_branch)\n",
    "    else:\n",
    "        return classify_object(obj, node.false_branch)"
   ]
  },
  {
   "cell_type": "code",
   "execution_count": 58,
   "id": "b3f52d2b",
   "metadata": {},
   "outputs": [],
   "source": [
    "def predict(data, tree):\n",
    "    \n",
    "    classes = []\n",
    "    for obj in data:\n",
    "        prediction = classify_object(obj, tree)\n",
    "        classes.append(prediction)\n",
    "    return classes"
   ]
  },
  {
   "cell_type": "code",
   "execution_count": 59,
   "id": "5cb819ab",
   "metadata": {},
   "outputs": [],
   "source": [
    "# Разобьем выборку на обучающую и тестовую\n",
    "X_train, X_test, y_train, y_test = train_test_split(X, y, test_size=0.3, random_state=1)"
   ]
  },
  {
   "cell_type": "code",
   "execution_count": 60,
   "id": "2335c313",
   "metadata": {},
   "outputs": [],
   "source": [
    "# Построим дерево по обучающей выборке\n",
    "my_tree = build_tree(X_train, y_train)"
   ]
  },
  {
   "cell_type": "code",
   "execution_count": 61,
   "id": "e17b179f",
   "metadata": {},
   "outputs": [],
   "source": [
    "# Получим ответы для обучающей выборки \n",
    "train_answers = predict(X_train, my_tree)"
   ]
  },
  {
   "cell_type": "code",
   "execution_count": 62,
   "id": "bf332b6f",
   "metadata": {},
   "outputs": [],
   "source": [
    "# И получим ответы для тестовой выборки\n",
    "answers = predict(X_test, my_tree)"
   ]
  },
  {
   "cell_type": "code",
   "execution_count": 63,
   "id": "2dd2068d",
   "metadata": {},
   "outputs": [
    {
     "data": {
      "text/plain": [
       "0.0"
      ]
     },
     "execution_count": 63,
     "metadata": {},
     "output_type": "execute_result"
    }
   ],
   "source": [
    "# Точность на обучающей выборке\n",
    "np.sqrt(mean_squared_error(y_train, train_answers))"
   ]
  },
  {
   "cell_type": "code",
   "execution_count": 64,
   "id": "5ad1de8e",
   "metadata": {},
   "outputs": [
    {
     "data": {
      "text/plain": [
       "17.54753310352028"
      ]
     },
     "execution_count": 64,
     "metadata": {},
     "output_type": "execute_result"
    }
   ],
   "source": [
    "# Точность на тестовой выборке\n",
    "np.sqrt(mean_squared_error(y_test, answers))"
   ]
  },
  {
   "cell_type": "markdown",
   "id": "1485d5b6",
   "metadata": {},
   "source": [
    "##### Наблюдается переобучение."
   ]
  },
  {
   "cell_type": "code",
   "execution_count": 65,
   "id": "846ea7bc",
   "metadata": {
    "scrolled": true
   },
   "outputs": [
    {
     "name": "stdout",
     "output_type": "stream",
     "text": [
      "Индекс 0 <= -0.10061434630710828\n",
      "--> True:\n",
      "  Индекс 0 <= -0.689565232048181\n",
      "  --> True:\n",
      "    Индекс 0 <= -1.167278449710173\n",
      "    --> True:\n",
      "      Индекс 0 <= -2.2491181284434787\n",
      "      --> True:\n",
      "        Индекс 0 <= -2.386697744379377\n",
      "        --> True:\n",
      "          Прогноз: -152.49936131427688\n",
      "        --> False:\n",
      "          Прогноз: -149.66624361859945\n",
      "      --> False:\n",
      "        Индекс 1 <= -1.164701910115395\n",
      "        --> True:\n",
      "          Индекс 0 <= -1.3970740246682614\n",
      "          --> True:\n",
      "            Прогноз: -110.81020877241555\n",
      "          --> False:\n",
      "            Прогноз: -118.56057513568012\n",
      "        --> False:\n",
      "          Индекс 0 <= -1.4219245490984462\n",
      "          --> True:\n",
      "            Прогноз: -97.34193416486161\n",
      "          --> False:\n",
      "            Прогноз: -99.4655679805966\n",
      "    --> False:\n",
      "      Индекс 1 <= -0.3010051283841473\n",
      "      --> True:\n",
      "        Индекс 1 <= -0.9806078852186219\n",
      "        --> True:\n",
      "          Индекс 0 <= -0.7001790376899514\n",
      "          --> True:\n",
      "            Индекс 0 <= -0.8568531547160899\n",
      "            --> True:\n",
      "              Прогноз: -73.03876078594122\n",
      "            --> False:\n",
      "              Прогноз: -76.14660197205974\n",
      "          --> False:\n",
      "            Прогноз: -68.72393149909885\n",
      "        --> False:\n",
      "          Индекс 0 <= -1.1184064312813717\n",
      "          --> True:\n",
      "            Прогноз: -76.66978594690195\n",
      "          --> False:\n",
      "            Индекс 0 <= -0.8126247611063044\n",
      "            --> True:\n",
      "              Прогноз: -59.307433469772384\n",
      "            --> False:\n",
      "              Прогноз: -59.60736436152583\n",
      "      --> False:\n",
      "        Индекс 0 <= -0.8241234534171207\n",
      "        --> True:\n",
      "          Прогноз: -56.85639633486129\n",
      "        --> False:\n",
      "          Прогноз: -28.318005660127863\n",
      "  --> False:\n",
      "    Индекс 1 <= -0.3058530211666308\n",
      "    --> True:\n",
      "      Индекс 0 <= -0.48212018670721907\n",
      "      --> True:\n",
      "        Индекс 0 <= -0.5732155560138283\n",
      "        --> True:\n",
      "          Индекс 0 <= -0.5916366579302884\n",
      "          --> True:\n",
      "            Прогноз: -54.85753319230815\n",
      "          --> False:\n",
      "            Прогноз: -60.45469851882299\n",
      "        --> False:\n",
      "          Прогноз: -39.06915544904817\n",
      "      --> False:\n",
      "        Индекс 0 <= -0.17170904843929477\n",
      "        --> True:\n",
      "          Индекс 0 <= -0.47773141727821256\n",
      "          --> True:\n",
      "            Прогноз: -36.129690076242724\n",
      "          --> False:\n",
      "            Индекс 0 <= -0.24341970124625367\n",
      "            --> True:\n",
      "              Прогноз: -26.84613610334243\n",
      "            --> False:\n",
      "              Прогноз: -30.689602540443225\n",
      "        --> False:\n",
      "          Прогноз: -12.79356930257967\n",
      "    --> False:\n",
      "      Индекс 1 <= 0.7930533194619698\n",
      "      --> True:\n",
      "        Индекс 1 <= 0.024210744386125548\n",
      "        --> True:\n",
      "          Индекс 0 <= -0.2241898325725227\n",
      "          --> True:\n",
      "            Индекс 0 <= -0.23998173469104078\n",
      "            --> True:\n",
      "              Прогноз: -14.758391035334405\n",
      "            --> False:\n",
      "              Прогноз: -16.947235047451166\n",
      "          --> False:\n",
      "            Индекс 0 <= -0.10593044205742323\n",
      "            --> True:\n",
      "              Прогноз: -6.655555988084691\n",
      "            --> False:\n",
      "              Прогноз: -6.527962079572781\n",
      "        --> False:\n",
      "          Индекс 0 <= -0.48713264551119473\n",
      "          --> True:\n",
      "            Индекс 0 <= -0.6315716297922155\n",
      "            --> True:\n",
      "              Прогноз: -24.935110523396293\n",
      "            --> False:\n",
      "              Прогноз: -30.018482353624417\n",
      "          --> False:\n",
      "            Прогноз: -17.344049313344993\n",
      "      --> False:\n",
      "        Индекс 1 <= 1.1415077374346698\n",
      "        --> True:\n",
      "          Индекс 0 <= -0.5017555471945\n",
      "          --> True:\n",
      "            Прогноз: -10.058485042702397\n",
      "          --> False:\n",
      "            Прогноз: -2.288619637706173\n",
      "        --> False:\n",
      "          Прогноз: 7.642532304504794\n",
      "--> False:\n",
      "  Индекс 0 <= 0.9068894675659355\n",
      "  --> True:\n",
      "    Индекс 1 <= 0.6566194702604272\n",
      "    --> True:\n",
      "      Индекс 1 <= -1.0650326193820066\n",
      "      --> True:\n",
      "        Индекс 1 <= -1.6936750408421892\n",
      "        --> True:\n",
      "          Индекс 0 <= 0.30364846530823975\n",
      "          --> True:\n",
      "            Прогноз: -13.03316830186576\n",
      "          --> False:\n",
      "            Прогноз: -4.459018212204896\n",
      "        --> False:\n",
      "          Индекс 0 <= 0.6448475108927784\n",
      "          --> True:\n",
      "            Индекс 0 <= 0.390420608044887\n",
      "            --> True:\n",
      "              Прогноз: 4.455510826330773\n",
      "            --> False:\n",
      "              Прогноз: 12.085554248289142\n",
      "          --> False:\n",
      "            Индекс 0 <= 0.7269532606897998\n",
      "            --> True:\n",
      "              Прогноз: 22.608191696686188\n",
      "            --> False:\n",
      "              Прогноз: 25.13101831701642\n",
      "      --> False:\n",
      "        Индекс 0 <= 0.41367880834311616\n",
      "        --> True:\n",
      "          Индекс 0 <= 0.24921765856490757\n",
      "          --> True:\n",
      "            Индекс 1 <= 0.568132717730888\n",
      "            --> True:\n",
      "              Индекс 0 <= 0.012758316706164157\n",
      "              --> True:\n",
      "                Прогноз: 11.640960789377711\n",
      "              --> False:\n",
      "                Индекс 0 <= 0.10134479014204936\n",
      "                --> True:\n",
      "                  Прогноз: 15.344527441535451\n",
      "                --> False:\n",
      "                  Прогноз: 14.808451660919104\n",
      "            --> False:\n",
      "              Прогноз: 20.434293153280016\n",
      "          --> False:\n",
      "            Индекс 0 <= 0.3554384723493521\n",
      "            --> True:\n",
      "              Прогноз: 24.46305271937413\n",
      "            --> False:\n",
      "              Прогноз: 15.424910889538147\n",
      "        --> False:\n",
      "          Индекс 1 <= -0.6463565855238054\n",
      "          --> True:\n",
      "            Индекс 0 <= 0.5485678368565737\n",
      "            --> True:\n",
      "              Прогноз: 22.46775763214987\n",
      "            --> False:\n",
      "              Прогноз: 38.53455064145254\n",
      "          --> False:\n",
      "            Индекс 0 <= 0.5004873274970344\n",
      "            --> True:\n",
      "              Прогноз: 41.15161024205196\n",
      "            --> False:\n",
      "              Индекс 0 <= 0.5218494903163309\n",
      "              --> True:\n",
      "                Прогноз: 38.922900525840355\n",
      "              --> False:\n",
      "                Прогноз: 38.677575966697646\n",
      "    --> False:\n",
      "      Индекс 0 <= 0.2212541228509997\n",
      "      --> True:\n",
      "        Индекс 1 <= 1.189060725824544\n",
      "        --> True:\n",
      "          Индекс 0 <= -0.07359331874884148\n",
      "          --> True:\n",
      "            Прогноз: 18.00280257543214\n",
      "          --> False:\n",
      "            Прогноз: 25.9381644942692\n",
      "        --> False:\n",
      "          Индекс 0 <= -0.034702101230658505\n",
      "          --> True:\n",
      "            Прогноз: 40.37786586121038\n",
      "          --> False:\n",
      "            Прогноз: 40.9795808201512\n",
      "      --> False:\n",
      "        Индекс 0 <= 0.6178447508392777\n",
      "        --> True:\n",
      "          Индекс 0 <= 0.34691932708774675\n",
      "          --> True:\n",
      "            Прогноз: 61.82097441245809\n",
      "          --> False:\n",
      "            Индекс 0 <= 0.4651009937136952\n",
      "            --> True:\n",
      "              Индекс 0 <= 0.44295626086393586\n",
      "              --> True:\n",
      "                Прогноз: 55.62142624822812\n",
      "              --> False:\n",
      "                Прогноз: 56.23056377825371\n",
      "            --> False:\n",
      "              Индекс 0 <= 0.49444039812108825\n",
      "              --> True:\n",
      "                Прогноз: 53.08041148690898\n",
      "              --> False:\n",
      "                Прогноз: 56.536430517876674\n",
      "        --> False:\n",
      "          Индекс 0 <= 0.7097978597938108\n",
      "          --> True:\n",
      "            Прогноз: 84.5511871003319\n",
      "          --> False:\n",
      "            Индекс 0 <= 0.7124212708765678\n",
      "            --> True:\n",
      "              Прогноз: 64.18053051820158\n",
      "            --> False:\n",
      "              Прогноз: 63.49034520481851\n",
      "  --> False:\n",
      "    Индекс 0 <= 1.3348485742415819\n",
      "    --> True:\n",
      "      Индекс 0 <= 1.1522047703756748\n",
      "      --> True:\n",
      "        Индекс 0 <= 1.1472020816149164\n",
      "        --> True:\n",
      "          Индекс 0 <= 1.018137609564609\n",
      "          --> True:\n",
      "            Прогноз: 74.07270282421368\n",
      "          --> False:\n",
      "            Прогноз: 77.52011913181558\n",
      "        --> False:\n",
      "          Прогноз: 62.06381582770366\n",
      "      --> False:\n",
      "        Индекс 0 <= 1.2919633833879631\n",
      "        --> True:\n",
      "          Прогноз: 87.0784934913244\n",
      "        --> False:\n",
      "          Прогноз: 88.42651704906055\n",
      "    --> False:\n",
      "      Индекс 0 <= 1.5615322934488904\n",
      "      --> True:\n",
      "        Индекс 1 <= 0.7471525922096975\n",
      "        --> True:\n",
      "          Индекс 0 <= 1.4630954796733577\n",
      "          --> True:\n",
      "            Прогноз: 107.03654147134081\n",
      "          --> False:\n",
      "            Прогноз: 97.3782688354629\n",
      "        --> False:\n",
      "          Прогноз: 126.07001331224482\n",
      "      --> False:\n",
      "        Индекс 0 <= 2.2601067737202705\n",
      "        --> True:\n",
      "          Прогноз: 141.29604887287232\n",
      "        --> False:\n",
      "          Прогноз: 143.73475851850714\n"
     ]
    }
   ],
   "source": [
    "print_tree(my_tree)"
   ]
  },
  {
   "cell_type": "code",
   "execution_count": null,
   "id": "073f4787",
   "metadata": {},
   "outputs": [],
   "source": []
  }
 ],
 "metadata": {
  "kernelspec": {
   "display_name": "Python 3 (ipykernel)",
   "language": "python",
   "name": "python3"
  },
  "language_info": {
   "codemirror_mode": {
    "name": "ipython",
    "version": 3
   },
   "file_extension": ".py",
   "mimetype": "text/x-python",
   "name": "python",
   "nbconvert_exporter": "python",
   "pygments_lexer": "ipython3",
   "version": "3.9.4"
  }
 },
 "nbformat": 4,
 "nbformat_minor": 5
}
