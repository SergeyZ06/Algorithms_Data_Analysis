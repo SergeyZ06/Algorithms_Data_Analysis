{
 "cells": [
  {
   "cell_type": "markdown",
   "id": "8e91f60f",
   "metadata": {},
   "source": [
    "# 3th_hometask"
   ]
  },
  {
   "cell_type": "code",
   "execution_count": 1,
   "id": "984944bb",
   "metadata": {},
   "outputs": [],
   "source": [
    "import numpy as np"
   ]
  },
  {
   "cell_type": "markdown",
   "id": "efc4461b",
   "metadata": {},
   "source": [
    "## 1. *Измените функцию calc_logloss так, чтобы нули по возможности не попадали в np.log."
   ]
  },
  {
   "cell_type": "markdown",
   "id": "1da819b4",
   "metadata": {},
   "source": [
    "### Исходная функция:"
   ]
  },
  {
   "cell_type": "code",
   "execution_count": 2,
   "id": "59693a56",
   "metadata": {},
   "outputs": [],
   "source": [
    "def calc_logloss(y, y_pred):\n",
    "    err = - np.mean(y * np.log(y_pred) + (1.0 - y) * np.log(1.0 - y_pred))\n",
    "    return err"
   ]
  },
  {
   "cell_type": "code",
   "execution_count": 3,
   "id": "663ad580",
   "metadata": {},
   "outputs": [
    {
     "data": {
      "text/plain": [
       "0.164252033486018"
      ]
     },
     "execution_count": 3,
     "metadata": {},
     "output_type": "execute_result"
    }
   ],
   "source": [
    "# Пример применения\n",
    "y1 = np.array([1, 0])\n",
    "y_pred1 = np.array([0.8, 0.1])\n",
    "calc_logloss(y1, y_pred1)"
   ]
  },
  {
   "cell_type": "code",
   "execution_count": 4,
   "id": "c43078cb",
   "metadata": {
    "scrolled": true
   },
   "outputs": [
    {
     "name": "stderr",
     "output_type": "stream",
     "text": [
      "C:\\Users\\SERGEY~1\\AppData\\Local\\Temp/ipykernel_6868/851670199.py:2: RuntimeWarning: divide by zero encountered in log\n",
      "  err = - np.mean(y * np.log(y_pred) + (1.0 - y) * np.log(1.0 - y_pred))\n",
      "C:\\Users\\SERGEY~1\\AppData\\Local\\Temp/ipykernel_6868/851670199.py:2: RuntimeWarning: invalid value encountered in multiply\n",
      "  err = - np.mean(y * np.log(y_pred) + (1.0 - y) * np.log(1.0 - y_pred))\n"
     ]
    },
    {
     "data": {
      "text/plain": [
       "nan"
      ]
     },
     "execution_count": 4,
     "metadata": {},
     "output_type": "execute_result"
    }
   ],
   "source": [
    "# Пример применения\n",
    "y1 = np.array([1, 0])\n",
    "y_pred1 = np.array([1, 0.1])\n",
    "calc_logloss(y1, y_pred1)"
   ]
  },
  {
   "cell_type": "code",
   "execution_count": 5,
   "id": "87815a85",
   "metadata": {},
   "outputs": [
    {
     "name": "stderr",
     "output_type": "stream",
     "text": [
      "C:\\Users\\SERGEY~1\\AppData\\Local\\Temp/ipykernel_6868/851670199.py:2: RuntimeWarning: divide by zero encountered in log\n",
      "  err = - np.mean(y * np.log(y_pred) + (1.0 - y) * np.log(1.0 - y_pred))\n",
      "C:\\Users\\SERGEY~1\\AppData\\Local\\Temp/ipykernel_6868/851670199.py:2: RuntimeWarning: invalid value encountered in multiply\n",
      "  err = - np.mean(y * np.log(y_pred) + (1.0 - y) * np.log(1.0 - y_pred))\n"
     ]
    },
    {
     "data": {
      "text/plain": [
       "nan"
      ]
     },
     "execution_count": 5,
     "metadata": {},
     "output_type": "execute_result"
    }
   ],
   "source": [
    "# Пример применения\n",
    "y1 = np.array([1, 0])\n",
    "y_pred1 = np.array([0.8, 0])\n",
    "calc_logloss(y1, y_pred1)"
   ]
  },
  {
   "cell_type": "markdown",
   "id": "67056ad9",
   "metadata": {},
   "source": [
    "##### Исходная фукция не работает при спрогнозированных вероятностях 1 или 0, так как в этом случае под логарифмом оказывается нуль."
   ]
  },
  {
   "cell_type": "markdown",
   "id": "a93a8372",
   "metadata": {},
   "source": [
    "### Изменённая функция:"
   ]
  },
  {
   "cell_type": "markdown",
   "id": "57021f38",
   "metadata": {},
   "source": [
    "##### Попробуем добавить какое-нибудь маленькое значение, которое не будет оказывать существенного влияния на метрику, но при этом позволит избежать возникновения нуля под логарифмом."
   ]
  },
  {
   "cell_type": "code",
   "execution_count": 6,
   "id": "be3f3b88",
   "metadata": {},
   "outputs": [],
   "source": [
    "def calc_logloss(y, y_pred):\n",
    "    anti_error = 1e-15\n",
    "    err = - np.mean(y * np.log(y_pred + anti_error) + (1.0 - y) * np.log(1.0 - y_pred + anti_error))\n",
    "    return err"
   ]
  },
  {
   "cell_type": "code",
   "execution_count": 7,
   "id": "12fa0f17",
   "metadata": {},
   "outputs": [
    {
     "data": {
      "text/plain": [
       "0.1642520334860168"
      ]
     },
     "execution_count": 7,
     "metadata": {},
     "output_type": "execute_result"
    }
   ],
   "source": [
    "# Пример применения\n",
    "y1 = np.array([1, 0])\n",
    "y_pred1 = np.array([0.8, 0.1])\n",
    "calc_logloss(y1, y_pred1)"
   ]
  },
  {
   "cell_type": "markdown",
   "id": "57fc29a0",
   "metadata": {},
   "source": [
    "##### В сравнении с исходной функцией мы можем наблюдать крайне незначительные изменения метрики, погрешность наблюдается после 14-го знака после запятой."
   ]
  },
  {
   "cell_type": "code",
   "execution_count": 8,
   "id": "00110fc3",
   "metadata": {
    "scrolled": true
   },
   "outputs": [
    {
     "data": {
      "text/plain": [
       "0.05268025782891203"
      ]
     },
     "execution_count": 8,
     "metadata": {},
     "output_type": "execute_result"
    }
   ],
   "source": [
    "# Пример применения\n",
    "y1 = np.array([1, 0])\n",
    "y_pred1 = np.array([1, 0.1])\n",
    "calc_logloss(y1, y_pred1)"
   ]
  },
  {
   "cell_type": "code",
   "execution_count": 9,
   "id": "f3df786e",
   "metadata": {},
   "outputs": [
    {
     "data": {
      "text/plain": [
       "0.11157177565710368"
      ]
     },
     "execution_count": 9,
     "metadata": {},
     "output_type": "execute_result"
    }
   ],
   "source": [
    "# Пример применения\n",
    "y1 = np.array([1, 0])\n",
    "y_pred1 = np.array([0.8, 0])\n",
    "calc_logloss(y1, y_pred1)"
   ]
  },
  {
   "cell_type": "code",
   "execution_count": 10,
   "id": "cc1c5594",
   "metadata": {},
   "outputs": [
    {
     "data": {
      "text/plain": [
       "-1.110223024625156e-15"
      ]
     },
     "execution_count": 10,
     "metadata": {},
     "output_type": "execute_result"
    }
   ],
   "source": [
    "# Пример применения\n",
    "y1 = np.array([1, 0])\n",
    "y_pred1 = np.array([1, 0])\n",
    "calc_logloss(y1, y_pred1)"
   ]
  },
  {
   "cell_type": "markdown",
   "id": "ada74a58",
   "metadata": {},
   "source": [
    "##### Попробуем избавиться от отрицательных значений в случае идеального прогноза добавив округление после 14-го знака. Также возьмём модуль ответа, чтобы избежать ответа \"-0.0\"."
   ]
  },
  {
   "cell_type": "code",
   "execution_count": 11,
   "id": "739a5969",
   "metadata": {},
   "outputs": [],
   "source": [
    "def calc_logloss(y, y_pred):\n",
    "    anti_error = 1e-15\n",
    "    err = - np.mean(y * np.log(y_pred + anti_error) + (1.0 - y) * np.log(1.0 - y_pred + anti_error))\n",
    "    return np.abs(np.round(err, 14))"
   ]
  },
  {
   "cell_type": "code",
   "execution_count": 12,
   "id": "53ed797a",
   "metadata": {
    "scrolled": true
   },
   "outputs": [
    {
     "data": {
      "text/plain": [
       "0.05268025782891"
      ]
     },
     "execution_count": 12,
     "metadata": {},
     "output_type": "execute_result"
    }
   ],
   "source": [
    "# Пример применения\n",
    "y1 = np.array([1, 0])\n",
    "y_pred1 = np.array([1, 0.1])\n",
    "calc_logloss(y1, y_pred1)"
   ]
  },
  {
   "cell_type": "code",
   "execution_count": 13,
   "id": "d7c4c8ac",
   "metadata": {},
   "outputs": [
    {
     "data": {
      "text/plain": [
       "0.1115717756571"
      ]
     },
     "execution_count": 13,
     "metadata": {},
     "output_type": "execute_result"
    }
   ],
   "source": [
    "# Пример применения\n",
    "y1 = np.array([1, 0])\n",
    "y_pred1 = np.array([0.8, 0])\n",
    "calc_logloss(y1, y_pred1)"
   ]
  },
  {
   "cell_type": "code",
   "execution_count": 14,
   "id": "1f95ec84",
   "metadata": {},
   "outputs": [
    {
     "data": {
      "text/plain": [
       "0.0"
      ]
     },
     "execution_count": 14,
     "metadata": {},
     "output_type": "execute_result"
    }
   ],
   "source": [
    "# Пример применения\n",
    "y1 = np.array([1, 0])\n",
    "y_pred1 = np.array([1, 0])\n",
    "calc_logloss(y1, y_pred1)"
   ]
  },
  {
   "cell_type": "markdown",
   "id": "56c71669",
   "metadata": {},
   "source": [
    "##### Работает!\n",
    "\n",
    "##### Также можно было бы реализовать отдельный алгоритм для разбора ситуаций, когда модель выдаёт вероятность 0 или 1, но данная реализация выглядит проще."
   ]
  },
  {
   "cell_type": "markdown",
   "id": "d6887c77",
   "metadata": {},
   "source": [
    "## 2. Подберите аргументы функции eval_model для логистической регрессии таким образом, чтобы log loss был минимальным."
   ]
  },
  {
   "cell_type": "code",
   "execution_count": 15,
   "id": "9c4987cb",
   "metadata": {},
   "outputs": [],
   "source": [
    "def standard_scale(x):\n",
    "    res = (x - x.mean()) / x.std()\n",
    "    return res"
   ]
  },
  {
   "cell_type": "code",
   "execution_count": 16,
   "id": "e37afd3b",
   "metadata": {},
   "outputs": [],
   "source": [
    "def sigmoid(z):\n",
    "    res = 1 / (1 + np.exp(-z))\n",
    "    return res"
   ]
  },
  {
   "cell_type": "code",
   "execution_count": 17,
   "id": "7df98461",
   "metadata": {},
   "outputs": [],
   "source": [
    "def eval_model(X, y, iterations, eta=1e-4):\n",
    "    np.random.seed(42)\n",
    "    W = np.random.randn(X.shape[1])\n",
    "    n = X.shape[0]\n",
    "    \n",
    "    for i in range(iterations + 1):\n",
    "        z = np.dot(X, W)\n",
    "        y_pred = sigmoid(z)\n",
    "        err = calc_logloss(y, y_pred)\n",
    "        \n",
    "        dQ = 1/n * X.T @ (y_pred - y)\n",
    "        W -= eta * dQ\n",
    "        if i % (iterations / 10) == 0:\n",
    "            print(i, W, err)\n",
    "    return W"
   ]
  },
  {
   "cell_type": "code",
   "execution_count": 18,
   "id": "96ef8f51",
   "metadata": {},
   "outputs": [],
   "source": [
    "X = np.array([ [   1,    1,  500,    1],\n",
    "               [   1,    1,  700,    1],\n",
    "               [   1,    2,  750,    2],\n",
    "               [   1,    5,  600,    1],\n",
    "               [   1,    3, 1450,    2],\n",
    "               [   1,    0,  800,    1],\n",
    "               [   1,    5, 1500,    3],\n",
    "               [   1,   10, 2000,    3],\n",
    "               [   1,    1,  450,    1],\n",
    "               [   1,    2, 1000,    2]], dtype=np.float64)\n",
    "\n",
    "y = np.array([0, 0, 1, 0, 1, 0, 1, 0, 1, 1], dtype=np.float64)"
   ]
  },
  {
   "cell_type": "code",
   "execution_count": 19,
   "id": "8307248e",
   "metadata": {
    "scrolled": true
   },
   "outputs": [
    {
     "data": {
      "text/plain": [
       "array([[ 1.        ,  1.        , -0.97958969,  1.        ],\n",
       "       [ 1.        ,  1.        , -0.56713087,  1.        ],\n",
       "       [ 1.        ,  2.        , -0.46401617,  2.        ],\n",
       "       [ 1.        ,  5.        , -0.77336028,  1.        ],\n",
       "       [ 1.        ,  3.        ,  0.97958969,  2.        ],\n",
       "       [ 1.        ,  0.        , -0.36090146,  1.        ],\n",
       "       [ 1.        ,  5.        ,  1.08270439,  3.        ],\n",
       "       [ 1.        , 10.        ,  2.11385144,  3.        ],\n",
       "       [ 1.        ,  1.        , -1.08270439,  1.        ],\n",
       "       [ 1.        ,  2.        ,  0.05155735,  2.        ]])"
      ]
     },
     "execution_count": 19,
     "metadata": {},
     "output_type": "execute_result"
    }
   ],
   "source": [
    "X_st = X.copy()\n",
    "X_st[:, 2] = standard_scale(X[:, 2])\n",
    "X_st"
   ]
  },
  {
   "cell_type": "markdown",
   "id": "c07e214b",
   "metadata": {},
   "source": [
    "### Исходные аргументы:"
   ]
  },
  {
   "cell_type": "code",
   "execution_count": 20,
   "id": "0705a57c",
   "metadata": {},
   "outputs": [
    {
     "name": "stdout",
     "output_type": "stream",
     "text": [
      "0 [ 0.49667621 -0.13840939  0.6476858   1.52297324] 1.17859583443561\n",
      "50 [ 0.494784   -0.14564801  0.6475462   1.52014828] 1.16579857492553\n",
      "100 [ 0.49290109 -0.15285535  0.64740132  1.51733474] 1.15311126857083\n",
      "150 [ 0.49102761 -0.16003088  0.64725118  1.51453281] 1.14053527533049\n",
      "200 [ 0.48916364 -0.16717404  0.64709581  1.51174267] 1.12807193269173\n",
      "250 [ 0.48730929 -0.17428428  0.64693524  1.50896452] 1.11572255659606\n",
      "300 [ 0.48546465 -0.18136107  0.64676951  1.50619853] 1.10348844262243\n",
      "350 [ 0.48362982 -0.18840385  0.64659868  1.5034449 ] 1.09137086741919\n",
      "400 [ 0.48180488 -0.19541206  0.64642281  1.50070383] 1.07937109037212\n",
      "450 [ 0.47998993 -0.20238516  0.64624195  1.49797551] 1.06749035549159\n",
      "500 [ 0.47818506 -0.20932258  0.64605619  1.49526014] 1.05572989349779\n"
     ]
    }
   ],
   "source": [
    "W = eval_model(X_st, y, iterations=500, eta=1e-4)"
   ]
  },
  {
   "cell_type": "markdown",
   "id": "7714ca8f",
   "metadata": {},
   "source": [
    "##### Функция потерь уменьшается вплоть до последнец итерации. Вероятно, алгоритму не хватило итераций для дальнейшего уменьшения функционала ошибки."
   ]
  },
  {
   "cell_type": "markdown",
   "id": "28fccf2a",
   "metadata": {},
   "source": [
    "### Новые аргументы:"
   ]
  },
  {
   "cell_type": "code",
   "execution_count": 21,
   "id": "a9e665b7",
   "metadata": {},
   "outputs": [
    {
     "name": "stdout",
     "output_type": "stream",
     "text": [
      "0 [ -3.29715467 -14.6470242    0.37388435  -4.13843283] 1.17859583443561\n",
      "100000 [-222.7923953   -15.71449676  -66.00850597  170.47520542] 0.00675437110364\n",
      "200000 [-266.78113524  -18.4559948   -79.34691143  203.4510617 ] 0.00342406608172\n",
      "300000 [-292.80097774  -20.07957263  -87.23494243  222.96058506] 0.00228641162731\n",
      "400000 [-311.30854942  -21.23495797  -92.84508527  236.83857122] 0.00171457701332\n",
      "500000 [-325.6740421   -22.13199747  -97.19943724  247.61107309] 0.00137097835065\n",
      "600000 [-337.41292046  -22.8651414  -100.75752022  256.41415326] 0.00114185103385\n",
      "700000 [-347.33710532  -23.4850202  -103.76550054  263.85652165] 0.00097821593245\n",
      "800000 [-355.93234768  -24.02193589 -106.37064289  270.30237596] 0.00085553076405\n",
      "900000 [-363.51236712  -24.49546401 -108.6680526   275.9869416 ] 0.00076014671899\n",
      "1000000 [-370.29152644  -24.91898307 -110.72271217  281.07095209] 0.00068387064698\n",
      "Wall time: 30.4 s\n"
     ]
    }
   ],
   "source": [
    "%%time\n",
    "\n",
    "W = eval_model(X_st, y, iterations=1000000, eta=10)"
   ]
  },
  {
   "cell_type": "markdown",
   "id": "3864f5ad",
   "metadata": {},
   "source": [
    "##### Увеличение количества итераций на три порядка и скорости обучения на пять порядков позволило существенно сократить значение функционала ошибки."
   ]
  },
  {
   "cell_type": "markdown",
   "id": "e9807dc5",
   "metadata": {},
   "source": [
    "## 3. Создайте функцию calc_pred_proba, возвращающую предсказанную вероятность класса 1 (на вход подаются W, который уже посчитан функцией eval_model и X, на выходе - массив y_pred_proba)."
   ]
  },
  {
   "cell_type": "code",
   "execution_count": 22,
   "id": "b5e0cb13",
   "metadata": {},
   "outputs": [],
   "source": [
    "def calc_pred_proba(W, X):\n",
    "    return sigmoid(X@W)"
   ]
  },
  {
   "cell_type": "code",
   "execution_count": 23,
   "id": "7ee3633d",
   "metadata": {},
   "outputs": [
    {
     "data": {
      "text/plain": [
       "array([3.41305000e-03, 0.00000000e+00, 1.00000000e+00, 0.00000000e+00,\n",
       "       9.99821475e-01, 0.00000000e+00, 1.00000000e+00, 3.29700000e-05,\n",
       "       9.96796841e-01, 1.00000000e+00])"
      ]
     },
     "execution_count": 23,
     "metadata": {},
     "output_type": "execute_result"
    }
   ],
   "source": [
    "np.round(calc_pred_proba(W, X_st), 9)"
   ]
  },
  {
   "cell_type": "code",
   "execution_count": 24,
   "id": "b4f7182e",
   "metadata": {},
   "outputs": [
    {
     "data": {
      "text/plain": [
       "array([0., 0., 1., 0., 1., 0., 1., 0., 1., 1.])"
      ]
     },
     "execution_count": 24,
     "metadata": {},
     "output_type": "execute_result"
    }
   ],
   "source": [
    "y"
   ]
  },
  {
   "cell_type": "markdown",
   "id": "6eaa7ce8",
   "metadata": {},
   "source": [
    "##### Результат предсказания довольно близок к истинным ответам."
   ]
  },
  {
   "cell_type": "markdown",
   "id": "05c9f2e5",
   "metadata": {},
   "source": [
    "## 4. Создайте функцию calc_pred, возвращающую предсказанный класс (на вход подаются W, который уже посчитан функцией eval_model и X, на выходе - массив y_pred)."
   ]
  },
  {
   "cell_type": "code",
   "execution_count": 25,
   "id": "60ca095f",
   "metadata": {},
   "outputs": [],
   "source": [
    "def calc_pred(W, X):\n",
    "    return np.round(sigmoid(X@W))"
   ]
  },
  {
   "cell_type": "code",
   "execution_count": 26,
   "id": "bae67f0e",
   "metadata": {},
   "outputs": [
    {
     "data": {
      "text/plain": [
       "array([0., 0., 1., 0., 1., 0., 1., 0., 1., 1.])"
      ]
     },
     "execution_count": 26,
     "metadata": {},
     "output_type": "execute_result"
    }
   ],
   "source": [
    "calc_pred(W, X_st)"
   ]
  },
  {
   "cell_type": "code",
   "execution_count": 27,
   "id": "c6845cbf",
   "metadata": {},
   "outputs": [
    {
     "data": {
      "text/plain": [
       "array([0., 0., 1., 0., 1., 0., 1., 0., 1., 1.])"
      ]
     },
     "execution_count": 27,
     "metadata": {},
     "output_type": "execute_result"
    }
   ],
   "source": [
    "y"
   ]
  },
  {
   "cell_type": "markdown",
   "id": "c3785b1b",
   "metadata": {},
   "source": [
    "## 5. *Реализуйте функции для подсчета Accuracy, матрицы ошибок, точности и полноты, а также F1 score."
   ]
  },
  {
   "cell_type": "code",
   "execution_count": 28,
   "id": "880380b7",
   "metadata": {},
   "outputs": [],
   "source": [
    "y_pred = calc_pred(W, X_st)"
   ]
  },
  {
   "cell_type": "code",
   "execution_count": 29,
   "id": "281fe129",
   "metadata": {},
   "outputs": [],
   "source": [
    "def classification_report(y_true, y_pred):\n",
    "    TP = 0\n",
    "    FP = 0\n",
    "    FN = 0\n",
    "    TN = 0\n",
    "    \n",
    "    for i in range(len(y_true)):\n",
    "        if (y_true[i] == 1) & (y_pred[i] == y_true[i]):\n",
    "            TP += 1\n",
    "        elif (y_true[i] == 0) & (y_pred[i] == y_true[i]):\n",
    "            TN += 1\n",
    "        elif (y_true[i] == 1) & (y_pred[i] != y_true[i]):\n",
    "            FN += 1\n",
    "        elif (y_true[i] == 0) & (y_pred[i] != y_true[i]):\n",
    "            FP += 1\n",
    "    \n",
    "    accuracy = (TP + TN) / (TP + TN + FP + FN)\n",
    "    precision_1 = TP / (TP + FP)\n",
    "    precision_0 = TN / (TN + FN)\n",
    "    recall_1 = TP / (TP + FN)\n",
    "    recall_0 = TN / (TN + FP)\n",
    "    f1_score_1 = 2 * precision_1 * recall_1 / (precision_1 + recall_1)\n",
    "    f1_score_0 = 2 * precision_0 * recall_0 / (precision_0 + recall_0)\n",
    "    \n",
    "    print(f\"\\t\\t=== Classification report ===\\n\" \\\n",
    "          f\"\\n\" \\\n",
    "          f\"\\t\\t\\tActual 1\\t\\tActual 0\\n\" \\\n",
    "          f\"Predicted 1\\t\\t{TP}\\t\\t\\t{FP}\\n\" \\\n",
    "          f\"Predicted 0\\t\\t{FN}\\t\\t\\t{TN}\\n\" \\\n",
    "          f\"\\n\" \\\n",
    "          f\"Precision:\\t\\t{precision_1}\\t\\t\\t{precision_0}\\n\" \\\n",
    "          f\"Recall:\\t\\t\\t{recall_1}\\t\\t\\t{recall_0}\\n\" \\\n",
    "          f\"\\n\" \\\n",
    "          f\"Accuracy:\\t\\t{accuracy}\\n\" \\\n",
    "          f\"F1-score:\\t\\t{f1_score_1}\\t\\t\\t{f1_score_0}\\n\" \\\n",
    "          f\"\\n\" \\\n",
    "          f\"Made by SergeyZ06\\n\" \\\n",
    "          f\":D\" \\\n",
    "         )            "
   ]
  },
  {
   "cell_type": "code",
   "execution_count": 30,
   "id": "94ef0b5f",
   "metadata": {},
   "outputs": [
    {
     "name": "stdout",
     "output_type": "stream",
     "text": [
      "\t\t=== Classification report ===\n",
      "\n",
      "\t\t\tActual 1\t\tActual 0\n",
      "Predicted 1\t\t5\t\t\t0\n",
      "Predicted 0\t\t0\t\t\t5\n",
      "\n",
      "Precision:\t\t1.0\t\t\t1.0\n",
      "Recall:\t\t\t1.0\t\t\t1.0\n",
      "\n",
      "Accuracy:\t\t1.0\n",
      "F1-score:\t\t1.0\t\t\t1.0\n",
      "\n",
      "Made by SergeyZ06\n",
      ":D\n"
     ]
    }
   ],
   "source": [
    "classification_report(y, y_pred)"
   ]
  },
  {
   "cell_type": "markdown",
   "id": "0e283aef",
   "metadata": {},
   "source": [
    "## 6. Могла ли модель переобучиться? Почему?"
   ]
  },
  {
   "cell_type": "markdown",
   "id": "6980eb6c",
   "metadata": {},
   "source": [
    "##### Линейная логистическая регрессия сремится разделить гиперпространство признаков объектов таким образом, чтобы объекты были корректно разделены на классы, а также максимально удалены от гиперплоскости разделения для максимизации уверенности классификации.\n",
    "\n",
    "##### В данном случае переобучение не уместно, так как модель пытается выполнить разделение с максимальным удалением каждого признака от гиперплоскости разделения."
   ]
  },
  {
   "cell_type": "code",
   "execution_count": null,
   "id": "b6e0f191",
   "metadata": {},
   "outputs": [],
   "source": []
  }
 ],
 "metadata": {
  "kernelspec": {
   "display_name": "Python 3 (ipykernel)",
   "language": "python",
   "name": "python3"
  },
  "language_info": {
   "codemirror_mode": {
    "name": "ipython",
    "version": 3
   },
   "file_extension": ".py",
   "mimetype": "text/x-python",
   "name": "python",
   "nbconvert_exporter": "python",
   "pygments_lexer": "ipython3",
   "version": "3.9.4"
  }
 },
 "nbformat": 4,
 "nbformat_minor": 5
}
