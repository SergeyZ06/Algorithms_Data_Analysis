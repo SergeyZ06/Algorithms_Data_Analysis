{
 "cells": [
  {
   "cell_type": "markdown",
   "id": "fcd0b14a",
   "metadata": {},
   "source": [
    "# 1th_hometask"
   ]
  },
  {
   "cell_type": "code",
   "execution_count": 1,
   "id": "85391efe",
   "metadata": {},
   "outputs": [],
   "source": [
    "import numpy as np"
   ]
  },
  {
   "cell_type": "markdown",
   "id": "9abdb8e0",
   "metadata": {},
   "source": [
    "##### Кусочек кода из методички, где определяются матрица X и вектор y."
   ]
  },
  {
   "cell_type": "code",
   "execution_count": 2,
   "id": "04be9546",
   "metadata": {},
   "outputs": [],
   "source": [
    "X = np.array([[ 1,  1],\n",
    "              [ 1,  1],\n",
    "              [ 1,  2],\n",
    "              [ 1,  5],\n",
    "              [ 1,  3],\n",
    "              [ 1,  0],\n",
    "              [ 1,  5],\n",
    "              [ 1, 10],\n",
    "              [ 1,  1],\n",
    "              [ 1,  2]])\n",
    "\n",
    "y = np.array([45, 55, 50, 55, 60, 35, 75, 80, 50, 60])"
   ]
  },
  {
   "cell_type": "markdown",
   "id": "87a1a39a",
   "metadata": {},
   "source": [
    "##### Метрики из методички."
   ]
  },
  {
   "cell_type": "code",
   "execution_count": 3,
   "id": "5d38070b",
   "metadata": {},
   "outputs": [],
   "source": [
    "def calc_mae(y, y_pred):\n",
    "    err = np.mean(np.abs(y - y_pred))\n",
    "    return err\n",
    "\n",
    "def calc_mse(y, y_pred):\n",
    "    err = np.mean((y - y_pred)**2)\n",
    "    return err"
   ]
  },
  {
   "cell_type": "markdown",
   "id": "b2204b70",
   "metadata": {},
   "source": [
    "## 1. Подберите скорость обучения (eta) и количество итераций"
   ]
  },
  {
   "cell_type": "markdown",
   "id": "8b1c23fd",
   "metadata": {},
   "source": [
    "##### Далее следует оригинальный код из методички без изменений:"
   ]
  },
  {
   "cell_type": "code",
   "execution_count": 4,
   "id": "887284fc",
   "metadata": {},
   "outputs": [
    {
     "name": "stdout",
     "output_type": "stream",
     "text": [
      "Number of objects = 10        \n",
      "Learning rate = 0.01        \n",
      "Initial weights = [1.  0.5] \n",
      "\n",
      "Iteration #0: W_new = [2.08 4.27], MSE = 3047.75\n",
      "Iteration #10: W_new = [ 6.67106886 10.61676385], MSE = 749.71\n",
      "Iteration #20: W_new = [ 9.49320908 10.25731657], MSE = 648.91\n",
      "Iteration #30: W_new = [11.85740092  9.83349244], MSE = 570.46\n",
      "Iteration #40: W_new = [13.86876921  9.46898661], MSE = 508.03\n",
      "Iteration #50: W_new = [15.59085668  9.15672679], MSE = 457.73\n",
      "Iteration #60: W_new = [17.07337653  8.88789585], MSE = 416.77\n",
      "Iteration #70: W_new = [18.35601294  8.65530964], MSE = 383.06\n",
      "Iteration #80: W_new = [19.47073522  8.45317196], MSE = 355.08\n",
      "Iteration #90: W_new = [20.44350656  8.27677488], MSE = 331.65\n"
     ]
    }
   ],
   "source": [
    "n = X.shape[0]\n",
    "\n",
    "eta = 1e-2 \n",
    "n_iter = 100\n",
    "\n",
    "W = np.array([1, 0.5])\n",
    "print(f'Number of objects = {n} \\\n",
    "       \\nLearning rate = {eta} \\\n",
    "       \\nInitial weights = {W} \\n')\n",
    "\n",
    "for i in range(n_iter):\n",
    "    y_pred = np.dot(X, W)\n",
    "    err = calc_mse(y, y_pred)\n",
    "    for k in range(W.shape[0]):\n",
    "        W[k] -= eta * (1/n * 2 * X[:, k] @ (y_pred - y))\n",
    "    if i % 10 == 0:\n",
    "        eta /= 1.1\n",
    "        print(f'Iteration #{i}: W_new = {W}, MSE = {round(err, 2)}')"
   ]
  },
  {
   "cell_type": "markdown",
   "id": "d579d753",
   "metadata": {},
   "source": [
    "##### Метрика продолжает значительно изменяться даже на последних шагах итерации, значит сходимость алгоритма не достигнута. Необходимо либо увеличить скорость обучения, либо увеличить количество итераций.\n",
    "##### Скорость обучения выглядит достаточной, так как метрица меняется значительно. Попробуем увеличить количество итераций в 10 раз."
   ]
  },
  {
   "cell_type": "code",
   "execution_count": 5,
   "id": "ba166ec0",
   "metadata": {},
   "outputs": [
    {
     "name": "stdout",
     "output_type": "stream",
     "text": [
      "Number of objects = 10        \n",
      "Learning rate = 0.01        \n",
      "Initial weights = [1.  0.5] \n",
      "\n",
      "Iteration #0: W_new = [2.08 4.27], MSE = 3047.75\n",
      "Iteration #100: W_new = [26.92778597  7.10095078], MSE = 201.46\n",
      "Iteration #200: W_new = [36.55234278  5.3556858 ], MSE = 78.6\n",
      "Iteration #300: W_new = [40.78354544  4.58842244], MSE = 52.71\n",
      "Iteration #400: W_new = [42.77180005  4.22788312], MSE = 46.47\n",
      "Iteration #500: W_new = [43.76430815  4.04790708], MSE = 44.77\n",
      "Iteration #600: W_new = [44.28770223  3.95299763], MSE = 44.25\n",
      "Iteration #700: W_new = [44.57781114  3.90039085], MSE = 44.08\n",
      "Iteration #800: W_new = [44.74605536  3.86988236], MSE = 44.02\n",
      "Iteration #900: W_new = [44.84771779  3.85144744], MSE = 43.99\n",
      "Iteration #1000: W_new = [44.91148301  3.8398846 ], MSE = 43.98\n"
     ]
    }
   ],
   "source": [
    "n = X.shape[0]\n",
    "\n",
    "eta = 1e-2 \n",
    "# =============================ИЗМЕНЕНИЯ=============================\n",
    "# n_iter = 100\n",
    "n_iter = 1001\n",
    "# =============================ИЗМЕНЕНИЯ=============================\n",
    "\n",
    "W = np.array([1, 0.5])\n",
    "print(f'Number of objects = {n} \\\n",
    "       \\nLearning rate = {eta} \\\n",
    "       \\nInitial weights = {W} \\n')\n",
    "\n",
    "for i in range(n_iter):\n",
    "    y_pred = np.dot(X, W)\n",
    "    err = calc_mse(y, y_pred)\n",
    "    for k in range(W.shape[0]):\n",
    "        W[k] -= eta * (1/n * 2 * X[:, k] @ (y_pred - y))\n",
    "    if i % 100 == 0:\n",
    "        eta /= 1.1\n",
    "        print(f'Iteration #{i}: W_new = {W}, MSE = {round(err, 2)}')"
   ]
  },
  {
   "cell_type": "markdown",
   "id": "252dad21",
   "metadata": {},
   "source": [
    "##### В двух последних отчётах, 900-я итерация и 1000-я итерация, метрика MSE изменилась крайне незначительно, на 0.01. Вероятно, значения вектора весов дали максимальное приближение к точки минимума функции ошибки и дальнейшие итерации уже не принесут существенного улучшения метрики.\n",
    "##### Также можно попробовать увеличить скорость обучения в два раза, в сравнении с изначальным значением, а количество итераций - в пять раз."
   ]
  },
  {
   "cell_type": "code",
   "execution_count": 6,
   "id": "ab5bb834",
   "metadata": {},
   "outputs": [
    {
     "name": "stdout",
     "output_type": "stream",
     "text": [
      "Number of objects = 10        \n",
      "Learning rate = 0.02        \n",
      "Initial weights = [1.  0.5] \n",
      "\n",
      "Iteration #0: W_new = [3.16 8.04], MSE = 3047.75\n",
      "Iteration #100: W_new = [37.30195981  5.21975431], MSE = 73.3\n",
      "Iteration #200: W_new = [43.36331425  4.12062114], MSE = 45.37\n",
      "Iteration #300: W_new = [44.63496292  3.89002726], MSE = 44.06\n",
      "Iteration #400: W_new = [44.9404526   3.83463141], MSE = 43.98\n",
      "Iteration #500: W_new = [45.02342839  3.81958503], MSE = 43.97\n"
     ]
    }
   ],
   "source": [
    "n = X.shape[0]\n",
    "\n",
    "# =============================ИЗМЕНЕНИЯ=============================\n",
    "# eta = 1e-2 \n",
    "eta = 2e-2 \n",
    "# n_iter = 100\n",
    "n_iter = 501\n",
    "# =============================ИЗМЕНЕНИЯ=============================\n",
    "\n",
    "W = np.array([1, 0.5])\n",
    "print(f'Number of objects = {n} \\\n",
    "       \\nLearning rate = {eta} \\\n",
    "       \\nInitial weights = {W} \\n')\n",
    "\n",
    "for i in range(n_iter):\n",
    "    y_pred = np.dot(X, W)\n",
    "    err = calc_mse(y, y_pred)\n",
    "    for k in range(W.shape[0]):\n",
    "        W[k] -= eta * (1/n * 2 * X[:, k] @ (y_pred - y))\n",
    "    if i % 100 == 0:\n",
    "        eta /= 1.1\n",
    "        print(f'Iteration #{i}: W_new = {W}, MSE = {round(err, 2)}')"
   ]
  },
  {
   "cell_type": "markdown",
   "id": "f9d52627",
   "metadata": {},
   "source": [
    "##### Данное соотношение, скорость обучения 0.02, количество итераций 500, получилось более эффективным, чем предыдущее: лучшая метрика при меньшем количестве итераций."
   ]
  },
  {
   "cell_type": "markdown",
   "id": "41b93116",
   "metadata": {},
   "source": [
    "## 2*. В этом коде мы избавляемся от итераций по весам, но тут есть ошибка, исправьте ее"
   ]
  },
  {
   "cell_type": "markdown",
   "id": "036a7983",
   "metadata": {},
   "source": [
    "##### Далее следует оригинальный код из методички без изменений:"
   ]
  },
  {
   "cell_type": "code",
   "execution_count": 7,
   "id": "ad0cb572",
   "metadata": {},
   "outputs": [
    {
     "name": "stdout",
     "output_type": "stream",
     "text": [
      "Number of objects = 10        \n",
      "Learning rate = 0.01        \n",
      "Initial weights = [1.  0.5] \n",
      "\n"
     ]
    },
    {
     "ename": "ValueError",
     "evalue": "shapes (10,2) and (10,) not aligned: 2 (dim 1) != 10 (dim 0)",
     "output_type": "error",
     "traceback": [
      "\u001b[1;31m---------------------------------------------------------------------------\u001b[0m",
      "\u001b[1;31mValueError\u001b[0m                                Traceback (most recent call last)",
      "\u001b[1;32mC:\\Users\\SERGEY~1\\AppData\\Local\\Temp/ipykernel_1204/113960398.py\u001b[0m in \u001b[0;36m<module>\u001b[1;34m\u001b[0m\n\u001b[0;32m     15\u001b[0m \u001b[1;31m#         W[k] -= eta * (1/n * 2 * X[:, k] @ (y_pred - y))\u001b[0m\u001b[1;33m\u001b[0m\u001b[1;33m\u001b[0m\u001b[1;33m\u001b[0m\u001b[0m\n\u001b[0;32m     16\u001b[0m     \u001b[1;31m# ИЗМЕНЕНИЯ\u001b[0m\u001b[1;33m\u001b[0m\u001b[1;33m\u001b[0m\u001b[1;33m\u001b[0m\u001b[0m\n\u001b[1;32m---> 17\u001b[1;33m     \u001b[0mW\u001b[0m \u001b[1;33m-=\u001b[0m \u001b[0meta\u001b[0m \u001b[1;33m*\u001b[0m \u001b[1;33m(\u001b[0m\u001b[1;36m1\u001b[0m\u001b[1;33m/\u001b[0m\u001b[0mn\u001b[0m \u001b[1;33m*\u001b[0m \u001b[1;36m2\u001b[0m \u001b[1;33m*\u001b[0m \u001b[0mnp\u001b[0m\u001b[1;33m.\u001b[0m\u001b[0mdot\u001b[0m\u001b[1;33m(\u001b[0m\u001b[0mX\u001b[0m\u001b[1;33m,\u001b[0m \u001b[0my_pred\u001b[0m \u001b[1;33m-\u001b[0m \u001b[0my\u001b[0m\u001b[1;33m)\u001b[0m\u001b[1;33m)\u001b[0m\u001b[1;33m\u001b[0m\u001b[1;33m\u001b[0m\u001b[0m\n\u001b[0m\u001b[0;32m     18\u001b[0m     \u001b[1;31m# ИЗМЕНЕНИЯ\u001b[0m\u001b[1;33m\u001b[0m\u001b[1;33m\u001b[0m\u001b[1;33m\u001b[0m\u001b[0m\n\u001b[0;32m     19\u001b[0m     \u001b[1;31m#\u001b[0m\u001b[1;33m\u001b[0m\u001b[1;33m\u001b[0m\u001b[1;33m\u001b[0m\u001b[0m\n",
      "\u001b[1;32m<__array_function__ internals>\u001b[0m in \u001b[0;36mdot\u001b[1;34m(*args, **kwargs)\u001b[0m\n",
      "\u001b[1;31mValueError\u001b[0m: shapes (10,2) and (10,) not aligned: 2 (dim 1) != 10 (dim 0)"
     ]
    }
   ],
   "source": [
    "n = X.shape[0]\n",
    "\n",
    "eta = 1e-2 \n",
    "n_iter = 100\n",
    "\n",
    "W = np.array([1, 0.5])\n",
    "print(f'Number of objects = {n} \\\n",
    "       \\nLearning rate = {eta} \\\n",
    "       \\nInitial weights = {W} \\n')\n",
    "\n",
    "for i in range(n_iter):\n",
    "    y_pred = np.dot(X, W)\n",
    "    err = calc_mse(y, y_pred)\n",
    "#     for k in range(W.shape[0]):\n",
    "#         W[k] -= eta * (1/n * 2 * X[:, k] @ (y_pred - y))\n",
    "    # ИЗМЕНЕНИЯ\n",
    "    W -= eta * (1/n * 2 * np.dot(X, y_pred - y))\n",
    "    # ИЗМЕНЕНИЯ\n",
    "    #\n",
    "    if i % 10 == 0:\n",
    "        print(f'Iteration #{i}: W_new = {W}, MSE = {round(err,2)}')"
   ]
  },
  {
   "cell_type": "markdown",
   "id": "fd48cdeb",
   "metadata": {},
   "source": [
    "##### По-видимому, ошибка происходит из-за попытки умножить матрицу X с количеством столбцов 2 с вектором разностей (y_pred - y).\n",
    "##### Поскольку в вычислениях используется вектор весов, то антиградиент должен обладать соответствующей размерностью. В данном случае антиградиент должен получиться как вектор двух переменных. Для этого необходимо перемножить матрицу с количеством столбцов = количеству строк вектора (y_pred - y) => матрица Х должна быть транспонирована в X.T.\n",
    "##### p.s. Ещё проще было бы сразу посмотреть формулу функционала ошибки многомерной регрессии."
   ]
  },
  {
   "cell_type": "code",
   "execution_count": 8,
   "id": "727b0395",
   "metadata": {},
   "outputs": [
    {
     "name": "stdout",
     "output_type": "stream",
     "text": [
      "Number of objects = 10        \n",
      "Learning rate = 0.01        \n",
      "Initial weights = [1.  0.5] \n",
      "\n",
      "Iteration #0: W_new = [2.08 4.27], MSE = 3047.75\n",
      "Iteration #10: W_new = [ 7.0011236 10.6169007], MSE = 738.65\n",
      "Iteration #20: W_new = [10.3486292  10.10603105], MSE = 622.03\n",
      "Iteration #30: W_new = [13.38789582  9.55618391], MSE = 525.24\n",
      "Iteration #40: W_new = [16.16088505  9.05336203], MSE = 444.66\n",
      "Iteration #50: W_new = [18.69110735  8.59454545], MSE = 377.58\n",
      "Iteration #60: W_new = [20.99981865  8.17589626], MSE = 321.72\n",
      "Iteration #70: W_new = [23.10641138  7.79389815], MSE = 275.22\n",
      "Iteration #80: W_new = [25.02858024  7.44534246], MSE = 236.5\n",
      "Iteration #90: W_new = [26.78247081  7.12730145], MSE = 204.27\n"
     ]
    }
   ],
   "source": [
    "n = X.shape[0]\n",
    "\n",
    "eta = 1e-2 \n",
    "n_iter = 100\n",
    "\n",
    "W = np.array([1, 0.5])\n",
    "print(f'Number of objects = {n} \\\n",
    "       \\nLearning rate = {eta} \\\n",
    "       \\nInitial weights = {W} \\n')\n",
    "\n",
    "for i in range(n_iter):\n",
    "    y_pred = np.dot(X, W)\n",
    "    err = calc_mse(y, y_pred)\n",
    "# =============================ИЗМЕНЕНИЯ=============================\n",
    "#     W -= eta * (1/n * 2 * np.dot(X, y_pred - y))\n",
    "    W -= eta * (1/n * 2 * np.dot(X.T, y_pred - y))\n",
    "# =============================ИЗМЕНЕНИЯ=============================\n",
    "    if i % 10 == 0:\n",
    "        print(f'Iteration #{i}: W_new = {W}, MSE = {round(err,2)}')"
   ]
  },
  {
   "cell_type": "markdown",
   "id": "317b5ebb",
   "metadata": {},
   "source": [
    "##### Скорректируем скорость обучения eta = 0.01 -> 0.02 и количество итераций n_iter = 100 -> 501 для большей эффективности."
   ]
  },
  {
   "cell_type": "code",
   "execution_count": 9,
   "id": "28c90416",
   "metadata": {},
   "outputs": [
    {
     "name": "stdout",
     "output_type": "stream",
     "text": [
      "Number of objects = 10        \n",
      "Learning rate = 0.02        \n",
      "Initial weights = [1.  0.5] \n",
      "\n",
      "Iteration #0: W_new = [3.16 8.04], MSE = 3047.75\n",
      "Iteration #100: W_new = [38.50704891  5.00122998], MSE = 64.97\n",
      "Iteration #200: W_new = [44.0222384  4.0011354], MSE = 44.5\n",
      "Iteration #300: W_new = [44.89742453  3.84243389], MSE = 43.98\n",
      "Iteration #400: W_new = [45.03630475  3.8172501 ], MSE = 43.97\n",
      "Iteration #500: W_new = [45.05834317  3.81325378], MSE = 43.97\n"
     ]
    }
   ],
   "source": [
    "n = X.shape[0]\n",
    "\n",
    "# =============================ИЗМЕНЕНИЯ=============================\n",
    "# eta = 1e-2 \n",
    "eta = 2e-2 \n",
    "# n_iter = 100\n",
    "n_iter = 501\n",
    "# =============================ИЗМЕНЕНИЯ=============================\n",
    "\n",
    "\n",
    "W = np.array([1, 0.5])\n",
    "print(f'Number of objects = {n} \\\n",
    "       \\nLearning rate = {eta} \\\n",
    "       \\nInitial weights = {W} \\n')\n",
    "\n",
    "for i in range(n_iter):\n",
    "    y_pred = np.dot(X, W)\n",
    "    err = calc_mse(y, y_pred)\n",
    "    W -= eta * (1/n * 2 * np.dot(X.T, y_pred - y))\n",
    "    if i % 100 == 0:\n",
    "        print(f'Iteration #{i}: W_new = {W}, MSE = {round(err,2)}')"
   ]
  },
  {
   "cell_type": "markdown",
   "id": "7210fc82",
   "metadata": {},
   "source": [
    "## 3*. Вместо того, чтобы задавать количество итераций, задайте другое условие остановки алгоритма - когда веса перестают изменяться меньше определенного порога $\\epsilon$."
   ]
  },
  {
   "cell_type": "code",
   "execution_count": 10,
   "id": "5b710dd1",
   "metadata": {},
   "outputs": [
    {
     "name": "stdout",
     "output_type": "stream",
     "text": [
      "Number of objects = 10        \n",
      "Learning rate = 0.03        \n",
      "Initial weights = [1.  0.5]        \n",
      "epsilon = 0.001\n",
      "\n",
      "Iteration #0: W_new = [ 4.24 11.81], MSE = 3047.75, W_difference = 11.764935188941756\n",
      "Iteration #50: W_new = [34.83850237  5.66646433], MSE = 96.01, W_difference = 0.29228494257548715\n",
      "Iteration #100: W_new = [42.50843433  4.27564043], MSE = 47.22, W_difference = 0.07301595362803025\n",
      "Iteration #150: W_new = [44.42446665  3.92819751], MSE = 44.17, W_difference = 0.018240178358942174\n",
      "Iteration #200: W_new = [44.90311234  3.84140249], MSE = 43.98, W_difference = 0.004556594689716193\n",
      "Iteration #250: W_new = [45.02268323  3.81972016], MSE = 43.97, W_difference = 0.0011382868499299741\n",
      "Iteration #256: W_new = [45.02784011  3.81878504], MSE = 43.97, W_difference = 0.0009908612636153446\n",
      "Wall time: 8 ms\n"
     ]
    }
   ],
   "source": [
    "%%time\n",
    "\n",
    "n = X.shape[0]\n",
    "\n",
    "# Скорость обучения.\n",
    "eta = 3e-2 \n",
    "# Счётчик итераций.\n",
    "i = 0\n",
    "# Разница весов.\n",
    "W_difference = np.inf\n",
    "# Порог изменения весов, после которого обучение прекращается.\n",
    "epsilon = 1e-3\n",
    "# Счётчик аварийной остановки.\n",
    "emergency_stop = 1e+6\n",
    "\n",
    "W = np.array([1, 0.5])\n",
    "print(f'Number of objects = {n} \\\n",
    "       \\nLearning rate = {eta} \\\n",
    "       \\nInitial weights = {W} \\\n",
    "       \\nepsilon = {epsilon}\\n')\n",
    "\n",
    "while W_difference > epsilon:\n",
    "    y_pred = np.dot(X, W)\n",
    "    err = calc_mse(y, y_pred)\n",
    "#     Вычисляем новые веса.\n",
    "    W_new = W - eta * (1/n * 2 * np.dot(X.T, y_pred - y))\n",
    "#     Вычисляем евклидово расстояние между векторами весов.\n",
    "    W_difference = np.linalg.norm(W_new - W)\n",
    "#     Вывод отчёта каждые пятьдесят итераций.\n",
    "    if i % 50 == 0:\n",
    "        print(f'Iteration #{i}: W_new = {W_new}, MSE = {round(err,2)}, W_difference = {W_difference}')\n",
    "#     Присваиваем новые значения весов.\n",
    "    W = W_new\n",
    "#     Увеличиваем счётчик итераций для отчётности.\n",
    "    i += 1\n",
    "#     Условие аварийной остановки, если условие по весам не сработает.\n",
    "    if i > emergency_stop:\n",
    "        break\n",
    "\n",
    "# Вывод финального отчёта после остановки обучения.\n",
    "print(f'Iteration #{i}: W_new = {W_new}, MSE = {round(err,2)}, W_difference = {W_difference}')"
   ]
  },
  {
   "cell_type": "code",
   "execution_count": null,
   "id": "ab05d7b0",
   "metadata": {},
   "outputs": [],
   "source": []
  }
 ],
 "metadata": {
  "kernelspec": {
   "display_name": "Python 3 (ipykernel)",
   "language": "python",
   "name": "python3"
  },
  "language_info": {
   "codemirror_mode": {
    "name": "ipython",
    "version": 3
   },
   "file_extension": ".py",
   "mimetype": "text/x-python",
   "name": "python",
   "nbconvert_exporter": "python",
   "pygments_lexer": "ipython3",
   "version": "3.9.4"
  }
 },
 "nbformat": 4,
 "nbformat_minor": 5
}
