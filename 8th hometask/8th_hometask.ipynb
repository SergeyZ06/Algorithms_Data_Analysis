{
 "cells": [
  {
   "cell_type": "markdown",
   "id": "bf026661",
   "metadata": {},
   "source": [
    "# 8th_hometask"
   ]
  },
  {
   "cell_type": "code",
   "execution_count": 1,
   "id": "8a1b0030",
   "metadata": {},
   "outputs": [],
   "source": [
    "import numpy as np\n",
    "\n",
    "from sklearn.datasets import load_iris\n",
    "from sklearn.model_selection import train_test_split\n",
    "\n",
    "from sklearn.decomposition import PCA"
   ]
  },
  {
   "cell_type": "markdown",
   "id": "6feafba8",
   "metadata": {},
   "source": [
    "## 2. Обучить любую модель классификации на датасете IRIS до применения самописного PCA (2 компоненты) и после него. Сравнить качество классификации по отложенной выборке."
   ]
  },
  {
   "cell_type": "markdown",
   "id": "08b8731e",
   "metadata": {},
   "source": [
    "### Датасет IRIS"
   ]
  },
  {
   "cell_type": "code",
   "execution_count": 2,
   "id": "00e70f05",
   "metadata": {},
   "outputs": [
    {
     "data": {
      "text/plain": [
       "((150, 4), (150,))"
      ]
     },
     "execution_count": 2,
     "metadata": {},
     "output_type": "execute_result"
    }
   ],
   "source": [
    "X, y = load_iris(return_X_y=True)\n",
    "\n",
    "X.shape, y.shape"
   ]
  },
  {
   "cell_type": "code",
   "execution_count": 3,
   "id": "d53ae85a",
   "metadata": {},
   "outputs": [
    {
     "data": {
      "text/plain": [
       "((112, 4), (38, 4), (112,), (38,))"
      ]
     },
     "execution_count": 3,
     "metadata": {},
     "output_type": "execute_result"
    }
   ],
   "source": [
    "X_train, X_test, y_train, y_test = train_test_split(X, y, train_size=0.75, shuffle=True, random_state=0, stratify=y)\n",
    "\n",
    "X_train.shape, X_test.shape, y_train.shape, y_test.shape"
   ]
  },
  {
   "cell_type": "markdown",
   "id": "1bbea8cc",
   "metadata": {},
   "source": [
    "### Дерево-классификатор"
   ]
  },
  {
   "cell_type": "code",
   "execution_count": 4,
   "id": "bf39cab6",
   "metadata": {},
   "outputs": [],
   "source": [
    "# Реализуем класс узла\n",
    "\n",
    "class Node:\n",
    "    \n",
    "    def __init__(self, index, t, true_branch, false_branch):\n",
    "        self.index = index  # индекс признака, по которому ведется сравнение с порогом в этом узле\n",
    "        self.t = t  # значение порога\n",
    "        self.true_branch = true_branch  # поддерево, удовлетворяющее условию в узле\n",
    "        self.false_branch = false_branch  # поддерево, не удовлетворяющее условию в узле"
   ]
  },
  {
   "cell_type": "code",
   "execution_count": 5,
   "id": "c2249b8e",
   "metadata": {},
   "outputs": [],
   "source": [
    "# И класс терминального узла (листа)\n",
    "\n",
    "class Leaf:\n",
    "    \n",
    "    def __init__(self, data, labels):\n",
    "        self.data = data\n",
    "        self.labels = labels\n",
    "        self.prediction = self.predict()\n",
    "        \n",
    "    def predict(self):\n",
    "        # подсчет количества объектов разных классов\n",
    "        classes = {}  # сформируем словарь \"класс: количество объектов\"\n",
    "        for label in self.labels:\n",
    "            if label not in classes:\n",
    "                classes[label] = 0\n",
    "            classes[label] += 1\n",
    "            \n",
    "        # найдем класс, количество объектов которого будет максимальным в этом листе и вернем его    \n",
    "        prediction = max(classes, key=classes.get)\n",
    "        return prediction"
   ]
  },
  {
   "cell_type": "code",
   "execution_count": 6,
   "id": "050f6aba",
   "metadata": {},
   "outputs": [],
   "source": [
    "# Расчет критерия Джини\n",
    "\n",
    "def gini(labels):\n",
    "    #  подсчет количества объектов разных классов\n",
    "    classes = {}\n",
    "    for label in labels:\n",
    "        if label not in classes:\n",
    "            classes[label] = 0\n",
    "        classes[label] += 1\n",
    "    \n",
    "    #  расчет критерия\n",
    "    impurity = 1\n",
    "    for label in classes:\n",
    "        p = classes[label] / len(labels)\n",
    "        impurity -= p ** 2\n",
    "        \n",
    "    return impurity"
   ]
  },
  {
   "cell_type": "code",
   "execution_count": 7,
   "id": "ae3de3d8",
   "metadata": {},
   "outputs": [],
   "source": [
    "# Расчет прироста\n",
    "\n",
    "def gain(left_labels, right_labels, root_gini):\n",
    "\n",
    "    # доля выборки, ушедшая в левое поддерево\n",
    "    p = float(left_labels.shape[0]) / (left_labels.shape[0] + right_labels.shape[0])\n",
    "    \n",
    "    return root_gini - p * gini(left_labels) - (1 - p) * gini(right_labels)"
   ]
  },
  {
   "cell_type": "code",
   "execution_count": 8,
   "id": "9822f3f4",
   "metadata": {},
   "outputs": [],
   "source": [
    "# Разбиение датасета в узле\n",
    "\n",
    "def split(data, labels, column_index, t):\n",
    "    \n",
    "    left = np.where(data[:, column_index] <= t)\n",
    "    right = np.where(data[:, column_index] > t)\n",
    "        \n",
    "    true_data = data[left]\n",
    "    false_data = data[right]\n",
    "    \n",
    "    true_labels = labels[left]\n",
    "    false_labels = labels[right]\n",
    "        \n",
    "    return true_data, false_data, true_labels, false_labels"
   ]
  },
  {
   "cell_type": "code",
   "execution_count": 9,
   "id": "9b0cdb77",
   "metadata": {},
   "outputs": [],
   "source": [
    "# Нахождение наилучшего разбиения\n",
    "\n",
    "def find_best_split(data, labels):\n",
    "    \n",
    "    #  обозначим минимальное количество объектов в узле\n",
    "#     min_samples_leaf = 5\n",
    "\n",
    "    root_gini = gini(labels)\n",
    "\n",
    "    best_gain = 0\n",
    "    best_t = None\n",
    "    best_index = None\n",
    "    \n",
    "    n_features = data.shape[1]\n",
    "    \n",
    "    for index in range(n_features):\n",
    "        # будем проверять только уникальные значения признака, исключая повторения\n",
    "        t_values = np.unique(data[:, index])\n",
    "        \n",
    "        for t in t_values:\n",
    "            true_data, false_data, true_labels, false_labels = split(data, labels, index, t)\n",
    "            #  пропускаем разбиения, в которых в узле остается менее 5 объектов\n",
    "#             if len(true_data) < min_samples_leaf or len(false_data) < min_samples_leaf:\n",
    "#                 continue\n",
    "            \n",
    "            current_gain = gain(true_labels, false_labels, root_gini)\n",
    "            \n",
    "            #  выбираем порог, на котором получается максимальный прирост качества\n",
    "            if current_gain > best_gain:\n",
    "                best_gain, best_t, best_index = current_gain, t, index\n",
    "\n",
    "    return best_gain, best_t, best_index"
   ]
  },
  {
   "cell_type": "code",
   "execution_count": 10,
   "id": "52f8d394",
   "metadata": {},
   "outputs": [],
   "source": [
    "# Построение дерева с помощью рекурсивной функции\n",
    "\n",
    "def build_tree(data, labels):\n",
    "\n",
    "    gain, t, index = find_best_split(data, labels)\n",
    "\n",
    "    #  Базовый случай - прекращаем рекурсию, когда нет прироста в качества\n",
    "    if gain == 0:\n",
    "        return Leaf(data, labels)\n",
    "\n",
    "    true_data, false_data, true_labels, false_labels = split(data, labels, index, t)\n",
    "\n",
    "    # Рекурсивно строим два поддерева\n",
    "    true_branch = build_tree(true_data, true_labels)\n",
    "\n",
    "#     print(time.time(), true_branch)\n",
    "    false_branch = build_tree(false_data, false_labels)\n",
    "    \n",
    "#     print(time.time(), false_branch)\n",
    "    \n",
    "    # Возвращаем класс узла со всеми поддеревьями, то есть целого дерева\n",
    "    return Node(index, t, true_branch, false_branch)"
   ]
  },
  {
   "cell_type": "code",
   "execution_count": 11,
   "id": "929b6da2",
   "metadata": {},
   "outputs": [],
   "source": [
    "def classify_object(obj, node):\n",
    "\n",
    "    #  Останавливаем рекурсию, если достигли листа\n",
    "    if isinstance(node, Leaf):\n",
    "        answer = node.prediction\n",
    "        return answer\n",
    "\n",
    "    if obj[node.index] <= node.t:\n",
    "        return classify_object(obj, node.true_branch)\n",
    "    else:\n",
    "        return classify_object(obj, node.false_branch)"
   ]
  },
  {
   "cell_type": "code",
   "execution_count": 12,
   "id": "71106569",
   "metadata": {},
   "outputs": [],
   "source": [
    "def predict(data, tree):\n",
    "    \n",
    "    classes = []\n",
    "    for obj in data:\n",
    "        prediction = classify_object(obj, tree)\n",
    "        classes.append(prediction)\n",
    "    return classes"
   ]
  },
  {
   "cell_type": "code",
   "execution_count": 13,
   "id": "dadae54b",
   "metadata": {},
   "outputs": [],
   "source": [
    "# Введем функцию подсчета точности как доли правильных ответов\n",
    "def accuracy_metric(actual, predicted):\n",
    "    correct = 0\n",
    "    for i in range(len(actual)):\n",
    "        if actual[i] == predicted[i]:\n",
    "            correct += 1\n",
    "    return correct / float(len(actual)) * 100.0"
   ]
  },
  {
   "cell_type": "markdown",
   "id": "6b790777",
   "metadata": {},
   "source": [
    "### Обучение и прогноз без PCA"
   ]
  },
  {
   "cell_type": "code",
   "execution_count": 14,
   "id": "76bb5dcf",
   "metadata": {},
   "outputs": [],
   "source": [
    "# Построим дерево по обучающей выборке\n",
    "my_tree = build_tree(X_train, y_train)"
   ]
  },
  {
   "cell_type": "code",
   "execution_count": 15,
   "id": "d9bd988d",
   "metadata": {},
   "outputs": [],
   "source": [
    "# Получим ответы для обучающей выборки \n",
    "y_pred_train = predict(X_train, my_tree)"
   ]
  },
  {
   "cell_type": "code",
   "execution_count": 16,
   "id": "5e7be6ba",
   "metadata": {},
   "outputs": [
    {
     "data": {
      "text/plain": [
       "100.0"
      ]
     },
     "execution_count": 16,
     "metadata": {},
     "output_type": "execute_result"
    }
   ],
   "source": [
    "accuracy_metric(y_train, y_pred_train)"
   ]
  },
  {
   "cell_type": "code",
   "execution_count": 17,
   "id": "da51d1d6",
   "metadata": {},
   "outputs": [],
   "source": [
    "# И получим ответы для тестовой выборки\n",
    "y_pred_test = predict(X_test, my_tree)"
   ]
  },
  {
   "cell_type": "code",
   "execution_count": 18,
   "id": "34b78fdf",
   "metadata": {},
   "outputs": [
    {
     "data": {
      "text/plain": [
       "94.73684210526315"
      ]
     },
     "execution_count": 18,
     "metadata": {},
     "output_type": "execute_result"
    }
   ],
   "source": [
    "accuracy_metric(y_test, y_pred_test)"
   ]
  },
  {
   "cell_type": "markdown",
   "id": "1e940db2",
   "metadata": {},
   "source": [
    "#### Хорошая точность прогноза на обоих выборках, переобучение."
   ]
  },
  {
   "cell_type": "markdown",
   "id": "c5039870",
   "metadata": {},
   "source": [
    "### Самописный PCA"
   ]
  },
  {
   "cell_type": "code",
   "execution_count": 19,
   "id": "bc2dacb3",
   "metadata": {},
   "outputs": [],
   "source": [
    "def my_PCA(X, n_components):\n",
    "    if not type(X) == np.ndarray:\n",
    "        raise Exception('X must be numpy.ndarray type!')\n",
    "    elif not type(n_components) == int:\n",
    "        raise Exception('n_components must be integer type!')\n",
    "    elif not 0 < n_components < X.shape[1]:\n",
    "        raise Exception(f'n_components value must be from one and up to number of columns of matrix X: {X.shape[1]}!')\n",
    "    \n",
    "    # Выбор необходимого количества опорных векторов, для получения матрицы перехода.\n",
    "    eig_vectors = np.linalg.eig(X.T @ X)[1][0:n_components]\n",
    "    \n",
    "    # Перевод матрицы объектов-признаков в новый базис.\n",
    "    return X @ eig_vectors.T"
   ]
  },
  {
   "cell_type": "markdown",
   "id": "22067b40",
   "metadata": {},
   "source": [
    "### Датасет IRIS c применением PCA (2 компоненты)"
   ]
  },
  {
   "cell_type": "code",
   "execution_count": 20,
   "id": "8f8285af",
   "metadata": {},
   "outputs": [
    {
     "data": {
      "text/plain": [
       "(150, 2)"
      ]
     },
     "execution_count": 20,
     "metadata": {},
     "output_type": "execute_result"
    }
   ],
   "source": [
    "n = 2\n",
    "\n",
    "X_PCA_2 = my_PCA(X.copy(), n)\n",
    "\n",
    "X_PCA_2.shape"
   ]
  },
  {
   "cell_type": "code",
   "execution_count": 21,
   "id": "f8f1cc21",
   "metadata": {},
   "outputs": [
    {
     "data": {
      "text/plain": [
       "((112, 2), (38, 2), (112,), (38,))"
      ]
     },
     "execution_count": 21,
     "metadata": {},
     "output_type": "execute_result"
    }
   ],
   "source": [
    "X_train, X_test, y_train, y_test = train_test_split(X_PCA_2, y, train_size=0.75, shuffle=True, random_state=0, stratify=y)\n",
    "\n",
    "X_train.shape, X_test.shape, y_train.shape, y_test.shape"
   ]
  },
  {
   "cell_type": "markdown",
   "id": "ca1e1d26",
   "metadata": {},
   "source": [
    "### Обучение и прогноз с PCA (2 компоненты)"
   ]
  },
  {
   "cell_type": "code",
   "execution_count": 22,
   "id": "060abe67",
   "metadata": {},
   "outputs": [],
   "source": [
    "# Построим дерево по обучающей выборке\n",
    "my_tree = build_tree(X_train, y_train)"
   ]
  },
  {
   "cell_type": "code",
   "execution_count": 23,
   "id": "b7ceb13d",
   "metadata": {},
   "outputs": [],
   "source": [
    "# Получим ответы для обучающей выборки \n",
    "y_pred_train = predict(X_train, my_tree)"
   ]
  },
  {
   "cell_type": "code",
   "execution_count": 24,
   "id": "1b8c8602",
   "metadata": {},
   "outputs": [
    {
     "data": {
      "text/plain": [
       "100.0"
      ]
     },
     "execution_count": 24,
     "metadata": {},
     "output_type": "execute_result"
    }
   ],
   "source": [
    "accuracy_metric(y_train, y_pred_train)"
   ]
  },
  {
   "cell_type": "code",
   "execution_count": 25,
   "id": "442302c9",
   "metadata": {},
   "outputs": [],
   "source": [
    "# И получим ответы для тестовой выборки\n",
    "y_pred_test = predict(X_test, my_tree)"
   ]
  },
  {
   "cell_type": "code",
   "execution_count": 26,
   "id": "8c226021",
   "metadata": {},
   "outputs": [
    {
     "data": {
      "text/plain": [
       "97.36842105263158"
      ]
     },
     "execution_count": 26,
     "metadata": {},
     "output_type": "execute_result"
    }
   ],
   "source": [
    "accuracy_metric(y_test, y_pred_test)"
   ]
  },
  {
   "cell_type": "markdown",
   "id": "521ab321",
   "metadata": {},
   "source": [
    "#### На отложенной выборке метрика качества улучшилась после применения метода PCA. Возможно, удалённые признаки содержали шумы, снижающие качество обучения модели. Попробуем проанализировать собственные значения матрицы объектов-признаков X."
   ]
  },
  {
   "cell_type": "code",
   "execution_count": 27,
   "id": "010b0d77",
   "metadata": {},
   "outputs": [
    {
     "data": {
      "text/plain": [
       "array([9.20830507e+03, 3.15454317e+02, 1.19780429e+01, 3.55257020e+00])"
      ]
     },
     "execution_count": 27,
     "metadata": {},
     "output_type": "execute_result"
    }
   ],
   "source": [
    "eig_values = np.linalg.eig(X.T @ X)[0]\n",
    "eig_values"
   ]
  },
  {
   "cell_type": "code",
   "execution_count": 28,
   "id": "dd6f3d64",
   "metadata": {},
   "outputs": [
    {
     "data": {
      "text/plain": [
       "(96.53029806531568, 3.3068951313646835)"
      ]
     },
     "execution_count": 28,
     "metadata": {},
     "output_type": "execute_result"
    }
   ],
   "source": [
    "eig_values[0] / sum(eig_values) * 100, eig_values[1] / sum(eig_values) * 100"
   ]
  },
  {
   "cell_type": "markdown",
   "id": "624b1c72",
   "metadata": {},
   "source": [
    "#### Первая компонента объясняет более 96.5% дисперсии всей выборки признаков, что является достаточной информативностью для работы модели. Вторая компонента добавляет ещё 3.3%, что суммарно покрывает более 99.8% дисперсии признаков объектов.\n",
    "#### В данном случае применение метода PCA позволило сократить размерность матрицы объектов-признаков в два раза без значимой потери информативности.\n",
    "#### Попробуем рассмотреть только одну компоненту."
   ]
  },
  {
   "cell_type": "markdown",
   "id": "c775a153",
   "metadata": {},
   "source": [
    "### Датасет IRIS c применением PCA (1 компонента)"
   ]
  },
  {
   "cell_type": "code",
   "execution_count": 29,
   "id": "3c2476fc",
   "metadata": {},
   "outputs": [
    {
     "data": {
      "text/plain": [
       "(150, 1)"
      ]
     },
     "execution_count": 29,
     "metadata": {},
     "output_type": "execute_result"
    }
   ],
   "source": [
    "n = 1\n",
    "\n",
    "X_PCA_1 = my_PCA(X.copy(), n)\n",
    "\n",
    "X_PCA_1.shape"
   ]
  },
  {
   "cell_type": "code",
   "execution_count": 30,
   "id": "ab2fd254",
   "metadata": {},
   "outputs": [
    {
     "data": {
      "text/plain": [
       "((112, 1), (38, 1), (112,), (38,))"
      ]
     },
     "execution_count": 30,
     "metadata": {},
     "output_type": "execute_result"
    }
   ],
   "source": [
    "X_train, X_test, y_train, y_test = train_test_split(X_PCA_1, y, train_size=0.75, shuffle=True, random_state=0, stratify=y)\n",
    "\n",
    "X_train.shape, X_test.shape, y_train.shape, y_test.shape"
   ]
  },
  {
   "cell_type": "markdown",
   "id": "3f2334e8",
   "metadata": {},
   "source": [
    "### Обучение и прогноз с PCA (1 компонента)"
   ]
  },
  {
   "cell_type": "code",
   "execution_count": 31,
   "id": "271dae46",
   "metadata": {},
   "outputs": [],
   "source": [
    "# Построим дерево по обучающей выборке\n",
    "my_tree = build_tree(X_train, y_train)"
   ]
  },
  {
   "cell_type": "code",
   "execution_count": 32,
   "id": "fe9df129",
   "metadata": {},
   "outputs": [],
   "source": [
    "# Получим ответы для обучающей выборки \n",
    "y_pred_train = predict(X_train, my_tree)"
   ]
  },
  {
   "cell_type": "code",
   "execution_count": 33,
   "id": "d2fa3b42",
   "metadata": {},
   "outputs": [
    {
     "data": {
      "text/plain": [
       "100.0"
      ]
     },
     "execution_count": 33,
     "metadata": {},
     "output_type": "execute_result"
    }
   ],
   "source": [
    "accuracy_metric(y_train, y_pred_train)"
   ]
  },
  {
   "cell_type": "code",
   "execution_count": 34,
   "id": "18ca6e2b",
   "metadata": {},
   "outputs": [],
   "source": [
    "# И получим ответы для тестовой выборки\n",
    "y_pred_test = predict(X_test, my_tree)"
   ]
  },
  {
   "cell_type": "code",
   "execution_count": 35,
   "id": "0d5ce70b",
   "metadata": {},
   "outputs": [
    {
     "data": {
      "text/plain": [
       "84.21052631578947"
      ]
     },
     "execution_count": 35,
     "metadata": {},
     "output_type": "execute_result"
    }
   ],
   "source": [
    "accuracy_metric(y_test, y_pred_test)"
   ]
  },
  {
   "cell_type": "markdown",
   "id": "684e4c69",
   "metadata": {},
   "source": [
    "#### Метрика качества на отложенной выборке ухудшилась, значит вторая компонента содержит значимую информацию."
   ]
  },
  {
   "cell_type": "markdown",
   "id": "64a4a26d",
   "metadata": {},
   "source": [
    "## 2. *Написать свою реализацию метода главных компонент с помощью сингулярного разложения с использованием функции numpy.linalg.svd()"
   ]
  },
  {
   "cell_type": "markdown",
   "id": "7d549cfe",
   "metadata": {},
   "source": [
    "### Самописный PCA SVG"
   ]
  },
  {
   "cell_type": "code",
   "execution_count": 36,
   "id": "86092d73",
   "metadata": {},
   "outputs": [],
   "source": [
    "def my_PCA_SVG(X, n_components):\n",
    "    if not type(X) == np.ndarray:\n",
    "        raise Exception('X must be numpy.ndarray type!')\n",
    "    elif not type(n_components) == int:\n",
    "        raise Exception('n_components must be integer type!')\n",
    "    elif not 0 < n_components < X.shape[1]:\n",
    "        raise Exception(f'n_components value must be from one and up to number of columns of matrix X: {X.shape[1]}!')\n",
    "    \n",
    "    # Вычисление матрицы перехода.\n",
    "    W = np.linalg.svd(X.T @ X)[2].T[:, 0:n_components]\n",
    "    \n",
    "    # Перевод матрицы объектов-признаков в новый базис.\n",
    "    return X @ W"
   ]
  },
  {
   "cell_type": "markdown",
   "id": "04ceaf89",
   "metadata": {},
   "source": [
    "### Проверка\n",
    "#### Сравним матрицы PCA и PCA SVD."
   ]
  },
  {
   "cell_type": "code",
   "execution_count": 37,
   "id": "04c289c5",
   "metadata": {},
   "outputs": [],
   "source": [
    "X_PCA_SVG_2 = my_PCA_SVG(X, 2)"
   ]
  },
  {
   "cell_type": "code",
   "execution_count": 38,
   "id": "7833d7c6",
   "metadata": {},
   "outputs": [
    {
     "data": {
      "text/plain": [
       "array([[-5.91274714, -2.30203322],\n",
       "       [-5.57248242, -1.97182599],\n",
       "       [-5.44697714, -2.09520636],\n",
       "       [-5.43645948, -1.87038151],\n",
       "       [-5.87564494, -2.32829018]])"
      ]
     },
     "execution_count": 38,
     "metadata": {},
     "output_type": "execute_result"
    }
   ],
   "source": [
    "X_PCA_SVG_2[0:5, :]"
   ]
  },
  {
   "cell_type": "code",
   "execution_count": 39,
   "id": "a71759cd",
   "metadata": {},
   "outputs": [
    {
     "data": {
      "text/plain": [
       "array([[5.59244325, 2.84325337],\n",
       "       [5.30013417, 2.49386389],\n",
       "       [5.15653204, 2.59471988],\n",
       "       [5.15343468, 2.36698815],\n",
       "       [5.54574992, 2.8599192 ]])"
      ]
     },
     "execution_count": 39,
     "metadata": {},
     "output_type": "execute_result"
    }
   ],
   "source": [
    "X_PCA_2[0:5, :]"
   ]
  },
  {
   "cell_type": "markdown",
   "id": "02546a77",
   "metadata": {},
   "source": [
    "#### Первые пять строк отличаются.\n",
    "#### Попробуем обучить модель на новой матрице PCA SVD, чтобы понять, сохранилась ли основная тенденция в данных."
   ]
  },
  {
   "cell_type": "code",
   "execution_count": 40,
   "id": "6298e408",
   "metadata": {},
   "outputs": [
    {
     "data": {
      "text/plain": [
       "((112, 2), (38, 2), (112,), (38,))"
      ]
     },
     "execution_count": 40,
     "metadata": {},
     "output_type": "execute_result"
    }
   ],
   "source": [
    "X_train, X_test, y_train, y_test = train_test_split(X_PCA_SVG_2, y, train_size=0.75, shuffle=True, random_state=0, stratify=y)\n",
    "\n",
    "X_train.shape, X_test.shape, y_train.shape, y_test.shape"
   ]
  },
  {
   "cell_type": "code",
   "execution_count": 41,
   "id": "9e40d9e3",
   "metadata": {},
   "outputs": [],
   "source": [
    "# Построим дерево по обучающей выборке\n",
    "my_tree = build_tree(X_train, y_train)"
   ]
  },
  {
   "cell_type": "code",
   "execution_count": 42,
   "id": "4ae1a976",
   "metadata": {},
   "outputs": [],
   "source": [
    "# Получим ответы для обучающей выборки \n",
    "y_pred_train = predict(X_train, my_tree)"
   ]
  },
  {
   "cell_type": "code",
   "execution_count": 43,
   "id": "1408e1ab",
   "metadata": {},
   "outputs": [
    {
     "data": {
      "text/plain": [
       "100.0"
      ]
     },
     "execution_count": 43,
     "metadata": {},
     "output_type": "execute_result"
    }
   ],
   "source": [
    "accuracy_metric(y_train, y_pred_train)"
   ]
  },
  {
   "cell_type": "code",
   "execution_count": 44,
   "id": "76694a1e",
   "metadata": {},
   "outputs": [],
   "source": [
    "# И получим ответы для тестовой выборки\n",
    "y_pred_test = predict(X_test, my_tree)"
   ]
  },
  {
   "cell_type": "code",
   "execution_count": 45,
   "id": "356fc8b7",
   "metadata": {
    "scrolled": true
   },
   "outputs": [
    {
     "data": {
      "text/plain": [
       "100.0"
      ]
     },
     "execution_count": 45,
     "metadata": {},
     "output_type": "execute_result"
    }
   ],
   "source": [
    "accuracy_metric(y_test, y_pred_test)"
   ]
  },
  {
   "cell_type": "markdown",
   "id": "a648a184",
   "metadata": {},
   "source": [
    "#### Метрика качества на отложенной выборке показала максимальный результат. Подозрительно, но работает."
   ]
  },
  {
   "cell_type": "code",
   "execution_count": null,
   "id": "07204e63",
   "metadata": {},
   "outputs": [],
   "source": []
  }
 ],
 "metadata": {
  "kernelspec": {
   "display_name": "Python 3 (ipykernel)",
   "language": "python",
   "name": "python3"
  },
  "language_info": {
   "codemirror_mode": {
    "name": "ipython",
    "version": 3
   },
   "file_extension": ".py",
   "mimetype": "text/x-python",
   "name": "python",
   "nbconvert_exporter": "python",
   "pygments_lexer": "ipython3",
   "version": "3.9.4"
  }
 },
 "nbformat": 4,
 "nbformat_minor": 5
}
